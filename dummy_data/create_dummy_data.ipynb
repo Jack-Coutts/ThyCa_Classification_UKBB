{
 "cells": [
  {
   "cell_type": "code",
   "execution_count": 3,
   "outputs": [],
   "source": [
    "import pandas as pd"
   ],
   "metadata": {
    "collapsed": false,
    "pycharm": {
     "name": "#%%\n"
    }
   }
  },
  {
   "cell_type": "code",
   "execution_count": 4,
   "outputs": [],
   "source": [
    "# Read in columns as dataframe\n",
    "data = pd.read_csv('~/Desktop/Apocrita_Results/Classification/dummy_data.tsv', index_col = None, header= 0, sep= '\\t')"
   ],
   "metadata": {
    "collapsed": false,
    "pycharm": {
     "name": "#%%\n"
    }
   }
  },
  {
   "cell_type": "code",
   "execution_count": 5,
   "outputs": [],
   "source": [
    "# read in phecode meanings\n",
    "dictionary = pd.read_csv('ukbb_and_phec_clean.txt', index_col = None, header= 0, sep= '\\t')"
   ],
   "metadata": {
    "collapsed": false,
    "pycharm": {
     "name": "#%%\n"
    }
   }
  },
  {
   "cell_type": "code",
   "execution_count": 6,
   "outputs": [],
   "source": [
    "index = pd.Series(list(range(len(data.values))))\n",
    "data.set_index(index, inplace=True)"
   ],
   "metadata": {
    "collapsed": false,
    "pycharm": {
     "name": "#%%\n"
    }
   }
  },
  {
   "cell_type": "code",
   "execution_count": 7,
   "outputs": [
    {
     "data": {
      "text/plain": "        x21_0_0  x23_0_0  x31_0_0  x34_0_0  x46_0_0  x47_0_0  x48_0_0  \\\n0           1.0      0.0        1     1945     26.0     36.0     98.0   \n1           1.0      0.0        0     1959     20.0     22.0     73.0   \n2           1.0      0.0        0     1945     10.0     16.0     91.0   \n3           1.0      0.0        0     1960     20.0     22.0     87.0   \n4           1.0      0.0        1     1945     50.0     48.0     90.0   \n...         ...      ...      ...      ...      ...      ...      ...   \n454113      1.0      0.0        1     1947     42.0     32.0    113.0   \n454114      1.0      0.0        1     1952     40.0     40.0     85.0   \n454115      1.0      NaN        1     1942     34.0     34.0    107.0   \n454116      1.0      0.0        0     1956     20.0     16.0     93.0   \n454117      1.0      0.0        0     1949     12.0     16.0     72.0   \n\n        x49_0_0  x50_0_0  x51_0_0  ...  x41149_0_0  x41234_0_0  x41259_0_0  \\\n0         102.0    177.0    141.0  ...         NaN         NaN         NaN   \n1          96.0    163.0    141.0  ...         8.0         8.0         4.0   \n2         105.0    154.0    132.0  ...         2.0         1.0         1.0   \n3         110.0    166.0    141.0  ...        16.0        16.0         8.0   \n4          94.0    175.0    141.0  ...         NaN         NaN         NaN   \n...         ...      ...      ...  ...         ...         ...         ...   \n454113    113.0    174.0    134.0  ...         2.0         1.0         1.0   \n454114    103.0    175.0    139.0  ...         2.0         2.0         2.0   \n454115    109.0    169.0    141.0  ...         4.0         2.0         1.0   \n454116    106.0    165.0    140.0  ...         9.0        11.0         7.0   \n454117     95.0    166.0    138.0  ...        12.0        16.0         5.0   \n\n        x22190_0_0  x22191_0_0  x22192_0_0  x30510_0_0  x30520_0_0  \\\n0         0.737768    0.824188    0.015307      9251.0        68.3   \n1         0.655945    0.679486   -1.234300      5946.0        29.5   \n2         0.781721    0.831970    0.076134     13411.0        61.9   \n3         0.549019    0.622271   -1.803630     17128.0        77.4   \n4         0.833931    0.963223    1.024290      4836.0        34.5   \n...            ...         ...         ...         ...         ...   \n454113    0.714065    0.773410   -0.396277     13430.0        97.3   \n454114    0.677468    0.800857   -0.170562     12910.0        63.2   \n454115    0.546040    0.620449   -1.822620     25218.0        84.1   \n454116    0.657857    0.823385    0.008996      2522.0        39.0   \n454117    1.029930    1.114980    1.971280      7864.0        93.9   \n\n        x30530_0_0  medication_cbi  \n0             88.7            -1.0  \n1             62.5            -1.0  \n2             46.6            -1.0  \n3             85.4            -1.0  \n4             20.0            -1.0  \n...            ...             ...  \n454113       143.7             2.0  \n454114       139.9            -1.0  \n454115       130.6             2.0  \n454116        22.5            -1.0  \n454117        47.5            -1.0  \n\n[454118 rows x 390 columns]",
      "text/html": "<div>\n<style scoped>\n    .dataframe tbody tr th:only-of-type {\n        vertical-align: middle;\n    }\n\n    .dataframe tbody tr th {\n        vertical-align: top;\n    }\n\n    .dataframe thead th {\n        text-align: right;\n    }\n</style>\n<table border=\"1\" class=\"dataframe\">\n  <thead>\n    <tr style=\"text-align: right;\">\n      <th></th>\n      <th>x21_0_0</th>\n      <th>x23_0_0</th>\n      <th>x31_0_0</th>\n      <th>x34_0_0</th>\n      <th>x46_0_0</th>\n      <th>x47_0_0</th>\n      <th>x48_0_0</th>\n      <th>x49_0_0</th>\n      <th>x50_0_0</th>\n      <th>x51_0_0</th>\n      <th>...</th>\n      <th>x41149_0_0</th>\n      <th>x41234_0_0</th>\n      <th>x41259_0_0</th>\n      <th>x22190_0_0</th>\n      <th>x22191_0_0</th>\n      <th>x22192_0_0</th>\n      <th>x30510_0_0</th>\n      <th>x30520_0_0</th>\n      <th>x30530_0_0</th>\n      <th>medication_cbi</th>\n    </tr>\n  </thead>\n  <tbody>\n    <tr>\n      <th>0</th>\n      <td>1.0</td>\n      <td>0.0</td>\n      <td>1</td>\n      <td>1945</td>\n      <td>26.0</td>\n      <td>36.0</td>\n      <td>98.0</td>\n      <td>102.0</td>\n      <td>177.0</td>\n      <td>141.0</td>\n      <td>...</td>\n      <td>NaN</td>\n      <td>NaN</td>\n      <td>NaN</td>\n      <td>0.737768</td>\n      <td>0.824188</td>\n      <td>0.015307</td>\n      <td>9251.0</td>\n      <td>68.3</td>\n      <td>88.7</td>\n      <td>-1.0</td>\n    </tr>\n    <tr>\n      <th>1</th>\n      <td>1.0</td>\n      <td>0.0</td>\n      <td>0</td>\n      <td>1959</td>\n      <td>20.0</td>\n      <td>22.0</td>\n      <td>73.0</td>\n      <td>96.0</td>\n      <td>163.0</td>\n      <td>141.0</td>\n      <td>...</td>\n      <td>8.0</td>\n      <td>8.0</td>\n      <td>4.0</td>\n      <td>0.655945</td>\n      <td>0.679486</td>\n      <td>-1.234300</td>\n      <td>5946.0</td>\n      <td>29.5</td>\n      <td>62.5</td>\n      <td>-1.0</td>\n    </tr>\n    <tr>\n      <th>2</th>\n      <td>1.0</td>\n      <td>0.0</td>\n      <td>0</td>\n      <td>1945</td>\n      <td>10.0</td>\n      <td>16.0</td>\n      <td>91.0</td>\n      <td>105.0</td>\n      <td>154.0</td>\n      <td>132.0</td>\n      <td>...</td>\n      <td>2.0</td>\n      <td>1.0</td>\n      <td>1.0</td>\n      <td>0.781721</td>\n      <td>0.831970</td>\n      <td>0.076134</td>\n      <td>13411.0</td>\n      <td>61.9</td>\n      <td>46.6</td>\n      <td>-1.0</td>\n    </tr>\n    <tr>\n      <th>3</th>\n      <td>1.0</td>\n      <td>0.0</td>\n      <td>0</td>\n      <td>1960</td>\n      <td>20.0</td>\n      <td>22.0</td>\n      <td>87.0</td>\n      <td>110.0</td>\n      <td>166.0</td>\n      <td>141.0</td>\n      <td>...</td>\n      <td>16.0</td>\n      <td>16.0</td>\n      <td>8.0</td>\n      <td>0.549019</td>\n      <td>0.622271</td>\n      <td>-1.803630</td>\n      <td>17128.0</td>\n      <td>77.4</td>\n      <td>85.4</td>\n      <td>-1.0</td>\n    </tr>\n    <tr>\n      <th>4</th>\n      <td>1.0</td>\n      <td>0.0</td>\n      <td>1</td>\n      <td>1945</td>\n      <td>50.0</td>\n      <td>48.0</td>\n      <td>90.0</td>\n      <td>94.0</td>\n      <td>175.0</td>\n      <td>141.0</td>\n      <td>...</td>\n      <td>NaN</td>\n      <td>NaN</td>\n      <td>NaN</td>\n      <td>0.833931</td>\n      <td>0.963223</td>\n      <td>1.024290</td>\n      <td>4836.0</td>\n      <td>34.5</td>\n      <td>20.0</td>\n      <td>-1.0</td>\n    </tr>\n    <tr>\n      <th>...</th>\n      <td>...</td>\n      <td>...</td>\n      <td>...</td>\n      <td>...</td>\n      <td>...</td>\n      <td>...</td>\n      <td>...</td>\n      <td>...</td>\n      <td>...</td>\n      <td>...</td>\n      <td>...</td>\n      <td>...</td>\n      <td>...</td>\n      <td>...</td>\n      <td>...</td>\n      <td>...</td>\n      <td>...</td>\n      <td>...</td>\n      <td>...</td>\n      <td>...</td>\n      <td>...</td>\n    </tr>\n    <tr>\n      <th>454113</th>\n      <td>1.0</td>\n      <td>0.0</td>\n      <td>1</td>\n      <td>1947</td>\n      <td>42.0</td>\n      <td>32.0</td>\n      <td>113.0</td>\n      <td>113.0</td>\n      <td>174.0</td>\n      <td>134.0</td>\n      <td>...</td>\n      <td>2.0</td>\n      <td>1.0</td>\n      <td>1.0</td>\n      <td>0.714065</td>\n      <td>0.773410</td>\n      <td>-0.396277</td>\n      <td>13430.0</td>\n      <td>97.3</td>\n      <td>143.7</td>\n      <td>2.0</td>\n    </tr>\n    <tr>\n      <th>454114</th>\n      <td>1.0</td>\n      <td>0.0</td>\n      <td>1</td>\n      <td>1952</td>\n      <td>40.0</td>\n      <td>40.0</td>\n      <td>85.0</td>\n      <td>103.0</td>\n      <td>175.0</td>\n      <td>139.0</td>\n      <td>...</td>\n      <td>2.0</td>\n      <td>2.0</td>\n      <td>2.0</td>\n      <td>0.677468</td>\n      <td>0.800857</td>\n      <td>-0.170562</td>\n      <td>12910.0</td>\n      <td>63.2</td>\n      <td>139.9</td>\n      <td>-1.0</td>\n    </tr>\n    <tr>\n      <th>454115</th>\n      <td>1.0</td>\n      <td>NaN</td>\n      <td>1</td>\n      <td>1942</td>\n      <td>34.0</td>\n      <td>34.0</td>\n      <td>107.0</td>\n      <td>109.0</td>\n      <td>169.0</td>\n      <td>141.0</td>\n      <td>...</td>\n      <td>4.0</td>\n      <td>2.0</td>\n      <td>1.0</td>\n      <td>0.546040</td>\n      <td>0.620449</td>\n      <td>-1.822620</td>\n      <td>25218.0</td>\n      <td>84.1</td>\n      <td>130.6</td>\n      <td>2.0</td>\n    </tr>\n    <tr>\n      <th>454116</th>\n      <td>1.0</td>\n      <td>0.0</td>\n      <td>0</td>\n      <td>1956</td>\n      <td>20.0</td>\n      <td>16.0</td>\n      <td>93.0</td>\n      <td>106.0</td>\n      <td>165.0</td>\n      <td>140.0</td>\n      <td>...</td>\n      <td>9.0</td>\n      <td>11.0</td>\n      <td>7.0</td>\n      <td>0.657857</td>\n      <td>0.823385</td>\n      <td>0.008996</td>\n      <td>2522.0</td>\n      <td>39.0</td>\n      <td>22.5</td>\n      <td>-1.0</td>\n    </tr>\n    <tr>\n      <th>454117</th>\n      <td>1.0</td>\n      <td>0.0</td>\n      <td>0</td>\n      <td>1949</td>\n      <td>12.0</td>\n      <td>16.0</td>\n      <td>72.0</td>\n      <td>95.0</td>\n      <td>166.0</td>\n      <td>138.0</td>\n      <td>...</td>\n      <td>12.0</td>\n      <td>16.0</td>\n      <td>5.0</td>\n      <td>1.029930</td>\n      <td>1.114980</td>\n      <td>1.971280</td>\n      <td>7864.0</td>\n      <td>93.9</td>\n      <td>47.5</td>\n      <td>-1.0</td>\n    </tr>\n  </tbody>\n</table>\n<p>454118 rows × 390 columns</p>\n</div>"
     },
     "execution_count": 7,
     "metadata": {},
     "output_type": "execute_result"
    }
   ],
   "source": [
    "data"
   ],
   "metadata": {
    "collapsed": false,
    "pycharm": {
     "name": "#%%\n"
    }
   }
  },
  {
   "cell_type": "code",
   "execution_count": 8,
   "outputs": [
    {
     "data": {
      "text/plain": "           FieldID                              Field\n0           x3_0_0   Verbal interview duration|x3_0_0\n1           x4_0_0         Biometrics duration|x4_0_0\n2           x5_0_0  Sample collection duration|x5_0_0\n3           x6_0_0         Conclusion duration|x6_0_0\n4          x19_0_0     Heel ultrasound method|x19_0_0\n...            ...                                ...\n10337  m2038459704          carbamazepine|m2038459704\n10338  m2038459888            cyclosporin|m2038459888\n10339  m2038460068         phenobarbitone|m2038460068\n10340  m2038460076              phenytoin|m2038460076\n10341  m2038460150            paracetamol|m2038460150\n\n[10342 rows x 2 columns]",
      "text/html": "<div>\n<style scoped>\n    .dataframe tbody tr th:only-of-type {\n        vertical-align: middle;\n    }\n\n    .dataframe tbody tr th {\n        vertical-align: top;\n    }\n\n    .dataframe thead th {\n        text-align: right;\n    }\n</style>\n<table border=\"1\" class=\"dataframe\">\n  <thead>\n    <tr style=\"text-align: right;\">\n      <th></th>\n      <th>FieldID</th>\n      <th>Field</th>\n    </tr>\n  </thead>\n  <tbody>\n    <tr>\n      <th>0</th>\n      <td>x3_0_0</td>\n      <td>Verbal interview duration|x3_0_0</td>\n    </tr>\n    <tr>\n      <th>1</th>\n      <td>x4_0_0</td>\n      <td>Biometrics duration|x4_0_0</td>\n    </tr>\n    <tr>\n      <th>2</th>\n      <td>x5_0_0</td>\n      <td>Sample collection duration|x5_0_0</td>\n    </tr>\n    <tr>\n      <th>3</th>\n      <td>x6_0_0</td>\n      <td>Conclusion duration|x6_0_0</td>\n    </tr>\n    <tr>\n      <th>4</th>\n      <td>x19_0_0</td>\n      <td>Heel ultrasound method|x19_0_0</td>\n    </tr>\n    <tr>\n      <th>...</th>\n      <td>...</td>\n      <td>...</td>\n    </tr>\n    <tr>\n      <th>10337</th>\n      <td>m2038459704</td>\n      <td>carbamazepine|m2038459704</td>\n    </tr>\n    <tr>\n      <th>10338</th>\n      <td>m2038459888</td>\n      <td>cyclosporin|m2038459888</td>\n    </tr>\n    <tr>\n      <th>10339</th>\n      <td>m2038460068</td>\n      <td>phenobarbitone|m2038460068</td>\n    </tr>\n    <tr>\n      <th>10340</th>\n      <td>m2038460076</td>\n      <td>phenytoin|m2038460076</td>\n    </tr>\n    <tr>\n      <th>10341</th>\n      <td>m2038460150</td>\n      <td>paracetamol|m2038460150</td>\n    </tr>\n  </tbody>\n</table>\n<p>10342 rows × 2 columns</p>\n</div>"
     },
     "execution_count": 8,
     "metadata": {},
     "output_type": "execute_result"
    }
   ],
   "source": [
    "dictionary"
   ],
   "metadata": {
    "collapsed": false,
    "pycharm": {
     "name": "#%%\n"
    }
   }
  },
  {
   "cell_type": "code",
   "execution_count": 11,
   "outputs": [],
   "source": [
    "# Function for converting phecodes to disease names. Works when disease names are the headers.\n",
    "def phecode_header_conversion(data, dictionary_df, key_col, new_col, index_col=False):\n",
    "\n",
    "    dataframe = data # re-assign dataframe\n",
    "    dataframe.reset_index(drop=True, inplace=True)\n",
    "    r = list(dataframe.columns)  # Create a list of phecodes in existing df\n",
    "    new = []  # New column entries (disease names)\n",
    "\n",
    "    for item in r:  # Iterate over phecodes\n",
    "        # Iterate over dictionary df keys (phecodes) and values (disease names)\n",
    "        for key, value in zip(list(dictionary_df[key_col]), list(dictionary_df[new_col])):\n",
    "            if item == key:  # If phecode in current df\n",
    "                new.append(value)  # Add corresponding disease name to new list\n",
    "            else:  # If not pass\n",
    "                pass\n",
    "\n",
    "    # dataframe.set_axis(new, 1, inplace=True)   # Replace phecodes in disease column with disease names\n",
    "\n",
    "    return new  # Return new dataframe"
   ],
   "metadata": {
    "collapsed": false,
    "pycharm": {
     "name": "#%%\n"
    }
   }
  },
  {
   "cell_type": "code",
   "execution_count": 12,
   "outputs": [],
   "source": [
    "d_df = phecode_header_conversion(data, dictionary, 'FieldID', 'Field')"
   ],
   "metadata": {
    "collapsed": false,
    "pycharm": {
     "name": "#%%\n"
    }
   }
  },
  {
   "cell_type": "code",
   "execution_count": 80,
   "outputs": [
    {
     "data": {
      "text/plain": "364"
     },
     "execution_count": 80,
     "metadata": {},
     "output_type": "execute_result"
    }
   ],
   "source": [
    "len(d_df)"
   ],
   "metadata": {
    "collapsed": false,
    "pycharm": {
     "name": "#%%\n"
    }
   }
  },
  {
   "cell_type": "code",
   "execution_count": 81,
   "outputs": [
    {
     "data": {
      "text/plain": "390"
     },
     "execution_count": 81,
     "metadata": {},
     "output_type": "execute_result"
    }
   ],
   "source": [
    "len(data.columns)"
   ],
   "metadata": {
    "collapsed": false,
    "pycharm": {
     "name": "#%%\n"
    }
   }
  },
  {
   "cell_type": "code",
   "execution_count": 82,
   "outputs": [
    {
     "data": {
      "text/plain": "False"
     },
     "execution_count": 82,
     "metadata": {},
     "output_type": "execute_result"
    }
   ],
   "source": [
    "dummy_cols = list(data.columns)\n",
    "dict_cols = list(dictionary['FieldID'])\n",
    "\n",
    "all(x in list(dictionary['FieldID']) for x in list(data.columns))"
   ],
   "metadata": {
    "collapsed": false,
    "pycharm": {
     "name": "#%%\n"
    }
   }
  },
  {
   "cell_type": "code",
   "execution_count": 83,
   "outputs": [
    {
     "data": {
      "text/plain": "False"
     },
     "execution_count": 83,
     "metadata": {},
     "output_type": "execute_result"
    }
   ],
   "source": [
    "all(x in list(data.columns) for x in list(dictionary['FieldID']))"
   ],
   "metadata": {
    "collapsed": false,
    "pycharm": {
     "name": "#%%\n"
    }
   }
  },
  {
   "cell_type": "code",
   "execution_count": 84,
   "outputs": [
    {
     "data": {
      "text/plain": "['x22009_0_40',\n 'x22009_0_27',\n 'x22009_0_35',\n 'x22009_0_28',\n 'x22009_0_23',\n 'x22009_0_19',\n 'x22009_0_38',\n 'x22009_0_39',\n 'x22009_0_17',\n 'x22009_0_34',\n 'x22009_0_30',\n 'x22009_0_29',\n 'x22009_0_26',\n 'x22009_0_25',\n 'medication_cbi',\n 'x22009_0_31',\n 'x22009_0_16',\n 'x22009_0_24',\n 'x22009_0_21',\n 'x22009_0_22',\n 'x22009_0_18',\n 'x22009_0_32',\n 'x22009_0_37',\n 'x22009_0_36',\n 'x22009_0_20',\n 'x22009_0_33']"
     },
     "execution_count": 84,
     "metadata": {},
     "output_type": "execute_result"
    }
   ],
   "source": [
    "list(set(dummy_cols).difference(dict_cols))"
   ],
   "metadata": {
    "collapsed": false,
    "pycharm": {
     "name": "#%%\n"
    }
   }
  },
  {
   "cell_type": "markdown",
   "source": [
    "As we can see above the only data fields not included are the genetic principle components of which there are 40 and the mdeciation_cbi which is already labeled."
   ],
   "metadata": {
    "collapsed": false,
    "pycharm": {
     "name": "#%% md\n"
    }
   }
  },
  {
   "cell_type": "code",
   "execution_count": null,
   "outputs": [],
   "source": [],
   "metadata": {
    "collapsed": false,
    "pycharm": {
     "name": "#%%\n"
    }
   }
  }
 ],
 "metadata": {
  "kernelspec": {
   "display_name": "Python 3",
   "language": "python",
   "name": "python3"
  },
  "language_info": {
   "codemirror_mode": {
    "name": "ipython",
    "version": 2
   },
   "file_extension": ".py",
   "mimetype": "text/x-python",
   "name": "python",
   "nbconvert_exporter": "python",
   "pygments_lexer": "ipython2",
   "version": "2.7.6"
  }
 },
 "nbformat": 4,
 "nbformat_minor": 0
}
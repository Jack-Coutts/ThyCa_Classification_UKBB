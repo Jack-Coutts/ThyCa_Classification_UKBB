{
 "cells": [
  {
   "cell_type": "markdown",
   "id": "ad5d8660",
   "metadata": {
    "pycharm": {
     "name": "#%% md\n"
    }
   },
   "source": [
    "## Notebook Generated using Apocrita OnDemand\n",
    "\n",
    "Hudak et al., (2018). Open OnDemand: A web-based client portal for HPC centers. Journal of Open Source Software, 3(25), 622, https://doi.org/10.21105/joss.00622"
   ]
  },
  {
   "cell_type": "code",
   "execution_count": 25,
   "id": "a14560c9",
   "metadata": {
    "pycharm": {
     "name": "#%%\n"
    }
   },
   "outputs": [
    {
     "data": {
      "text/plain": [
       "'/data/home/bt211037/dissertation'"
      ]
     },
     "execution_count": 25,
     "metadata": {},
     "output_type": "execute_result"
    }
   ],
   "source": [
    "pwd"
   ]
  },
  {
   "cell_type": "code",
   "execution_count": null,
   "outputs": [],
   "source": [
    "# Imports\n",
    "import pandas as pd # dataframes\n",
    "import matplotlib.pyplot as plt # plots\n",
    "import seaborn as sns # plots\n",
    "import missingno as msno # Missing values\n",
    "import numpy as np # arrays\n",
    "import math # math.ceil\n",
    "from dython.nominal import associations # correlation anal\n",
    "from timeit import default_timer as timer # Time how long commands take\n",
    "\n",
    "import warnings # Control warnings\n",
    "warnings.filterwarnings('ignore') # Ignore warnings to clean up visual output change back to 'default' to see them\n",
    "\n",
    "%matplotlib inline\n",
    "plt.style.use('ggplot')"
   ],
   "metadata": {
    "collapsed": false,
    "pycharm": {
     "name": "#%%\n"
    }
   }
  },
  {
   "cell_type": "markdown",
   "source": [
    "# Get dataframe"
   ],
   "metadata": {
    "collapsed": false,
    "pycharm": {
     "name": "#%% md\n"
    }
   }
  },
  {
   "cell_type": "code",
   "execution_count": null,
   "outputs": [],
   "source": [
    "# Read in phenotype dataframe\n",
    "df = pd.read_csv('/data/home/bt211037/dissertation/input/raw_data/FINAL_25.tab', sep='\\t', header=0, index_col=0)"
   ],
   "metadata": {
    "collapsed": false,
    "pycharm": {
     "name": "#%%\n"
    }
   }
  },
  {
   "cell_type": "code",
   "execution_count": null,
   "outputs": [],
   "source": [
    "# Read in disease dataframe to extract thyroid cancer column\n",
    "diseases_df = pd.read_csv('/data/home/bt211037/dissertation/input/raw_data/phecodes_clean_2021.txt', sep='\\t', header=0, index_col=0)"
   ],
   "metadata": {
    "collapsed": false,
    "pycharm": {
     "name": "#%%\n"
    }
   }
  },
  {
   "cell_type": "code",
   "execution_count": null,
   "outputs": [],
   "source": [
    "# Add thyroid cancer column to phenotype df\n",
    "df['thyroid_cancer']=diseases_df['p193']"
   ],
   "metadata": {
    "collapsed": false,
    "pycharm": {
     "name": "#%%\n"
    }
   }
  },
  {
   "cell_type": "code",
   "execution_count": null,
   "outputs": [],
   "source": [
    "# Remove rows with missing thyroid cancer values\n",
    "df=df.loc[df['thyroid_cancer'].notnull()]"
   ],
   "metadata": {
    "collapsed": false,
    "pycharm": {
     "name": "#%%\n"
    }
   }
  },
  {
   "cell_type": "markdown",
   "source": [
    "# Convert phenotype codes to descriptions"
   ],
   "metadata": {
    "collapsed": false,
    "pycharm": {
     "name": "#%% md\n"
    }
   }
  },
  {
   "cell_type": "code",
   "execution_count": null,
   "outputs": [],
   "source": [
    "\n",
    "# Function for converting phecodes to descriptions. Works when descriptions/phecodes are the headers.\n",
    "def phecode_header_conversion(data, dictionary_df, key_col, new_col, index_col=False):\n",
    "\n",
    "    dataframe = data # re-assign dataframe\n",
    "    colnames = list(dataframe.columns)  # Create a list of phecodes in existing df\n",
    "    new = []  # New column entries - descriptions\n",
    "\n",
    "    for item in colnames:  # Iterate over phecodes\n",
    "        # Iterate over dictionary df keys (phecodes) and values (descriptions)\n",
    "        for key, value in zip(list(dictionary_df[key_col]), list(dictionary_df[new_col])):\n",
    "            if item == key:  # If phecode in current df\n",
    "                new.append(value)  # Add corresponding description to new list\n",
    "            else:  # If not pass\n",
    "                pass\n",
    "\n",
    "    dataframe.set_axis(new, 1, inplace=True)   # Replace headers with descriptions\n",
    "\n",
    "    return dataframe  # Return new dataframe"
   ],
   "metadata": {
    "collapsed": false,
    "pycharm": {
     "name": "#%%\n"
    }
   }
  },
  {
   "cell_type": "code",
   "execution_count": null,
   "outputs": [],
   "source": [
    "# Read in data containg phenotype descriptions\n",
    "dictionary_df = pd.read_csv('/data/home/bt211037/dissertation/input/raw_data/ukbb_and_phec_clean.txt', sep='\\t', header=0)"
   ],
   "metadata": {
    "collapsed": false,
    "pycharm": {
     "name": "#%%\n"
    }
   }
  },
  {
   "cell_type": "code",
   "execution_count": null,
   "outputs": [],
   "source": [
    "# Check if all column headers are in dictionary \n",
    "cols = list(df.columns) # Create list of column names in our data\n",
    "col_translations = list(dictionary_df['FieldID']) # List of possible columns names in dictionary \n",
    "\n",
    "not_included = set(cols) - set(col_translations) # Find values in columns headers not in dictionary\n",
    "not_included"
   ],
   "metadata": {
    "collapsed": false,
    "pycharm": {
     "name": "#%%\n"
    }
   }
  },
  {
   "cell_type": "markdown",
   "source": [
    "- Thyroid cancer and medications cbi do not need to be translated as they are already descriptive.\n",
    "- The other variants are the genetic principle components from 16-40. Discovered by searching for 22009 in the Biobank  [data showcase](https://biobank.ndph.ox.ac.uk/showcase/field.cgi?id=22009).\n",
    "- Clearly, genetic principle compnents 1-16 have been included but the others have been missed and need to be added."
   ],
   "metadata": {
    "collapsed": false,
    "pycharm": {
     "name": "#%% md\n"
    }
   }
  },
  {
   "cell_type": "code",
   "execution_count": null,
   "outputs": [],
   "source": [
    "# Determine how existing genetics principle components are described\n",
    "dictionary_df.loc[dictionary_df['FieldID'] == 'x22009_0_15']"
   ],
   "metadata": {
    "collapsed": false,
    "pycharm": {
     "name": "#%%\n"
    }
   }
  },
  {
   "cell_type": "code",
   "execution_count": null,
   "outputs": [],
   "source": [
    "# Add the missing genetic principle components\n",
    "for item in not_included:\n",
    "    if item == 'medication_cbi' or item == 'thyroid_cancer': # Add these as they are for simplicity \n",
    "        dictionary_df.loc[len(dictionary_df.index)] = [item, item] \n",
    "    else:\n",
    "        dictionary_df.loc[len(dictionary_df.index)] = [item, f'Genetic principal components_{item[-2:]}|{item}'] "
   ],
   "metadata": {
    "collapsed": false,
    "pycharm": {
     "name": "#%%\n"
    }
   }
  },
  {
   "cell_type": "code",
   "execution_count": null,
   "outputs": [],
   "source": [
    "# Check all items have been added \n",
    "cols2 = list(df.columns) # Create list of column names in our data\n",
    "col_translations2 = list(dictionary_df['FieldID']) # List of possible columns names in dictionary \n",
    "not_included2 = set(cols2) - set(col_translations2)\n",
    "len(not_included2)"
   ],
   "metadata": {
    "collapsed": false,
    "pycharm": {
     "name": "#%%\n"
    }
   }
  },
  {
   "cell_type": "code",
   "execution_count": null,
   "outputs": [],
   "source": [
    "# Manually check new entries to dicitonary are there\n",
    "dictionary_df.tail(30)"
   ],
   "metadata": {
    "collapsed": false,
    "pycharm": {
     "name": "#%%\n"
    }
   }
  },
  {
   "cell_type": "code",
   "execution_count": null,
   "outputs": [],
   "source": [
    "# Convert the dataframe headers\n",
    "df = phecode_header_conversion(df, dictionary_df, 'FieldID', 'Field' )"
   ],
   "metadata": {
    "collapsed": false,
    "pycharm": {
     "name": "#%%\n"
    }
   }
  },
  {
   "cell_type": "markdown",
   "source": [
    "# Missing Values"
   ],
   "metadata": {
    "collapsed": false,
    "pycharm": {
     "name": "#%% md\n"
    }
   }
  },
  {
   "cell_type": "code",
   "execution_count": null,
   "outputs": [],
   "source": [
    "# Matrix plot giving positional information about missing values\n",
    "msno.matrix(df)"
   ],
   "metadata": {
    "collapsed": false,
    "pycharm": {
     "name": "#%%\n"
    }
   }
  },
  {
   "cell_type": "markdown",
   "source": [
    "# Target-Class Imbalance"
   ],
   "metadata": {
    "collapsed": false,
    "pycharm": {
     "name": "#%% md\n"
    }
   }
  },
  {
   "cell_type": "code",
   "execution_count": null,
   "outputs": [],
   "source": [
    "# Create a dataframe showing thyroid cancer vs no thyroid cancer to plot from\n",
    "c_imbal = pd.DataFrame([[len(df.loc[df['thyroid_cancer'] == 1]), 'Thyroid_Cancer'], [len(df.loc[df['thyroid_cancer'] != 1]), 'No_Thyroid_Cancer']], columns=['Participant_Count', 'Disease_State'])\n",
    "c_imbal"
   ],
   "metadata": {
    "collapsed": false,
    "pycharm": {
     "name": "#%%\n"
    }
   }
  },
  {
   "cell_type": "code",
   "execution_count": null,
   "outputs": [],
   "source": [
    "# Plot bar chart of imbalance\n",
    "colours = ['indianred', 'powderblue'] # Colour names\n",
    "plt.figure(figsize=(6,6)) # Figure size\n",
    "plt.rcParams['axes.facecolor'] = 'white' # Barchart background colour\n",
    "plt.grid() # Remove grid background\n",
    "\n",
    "bars = plt.bar(c_imbal['Disease_State'], c_imbal['Participant_Count'], color=colours) # Create the bars\n",
    "plt.bar_label(bars) # Add number label on top of bars\n",
    "plt.xticks(fontsize=13) # Fontsize of x-axis bar labels\n",
    "\n",
    "#plt.savefig('class_imbalance_bar.png', bbox_inches='tight') # Save figure\n",
    "plt.show() # Show figure\n"
   ],
   "metadata": {
    "collapsed": false,
    "pycharm": {
     "name": "#%%\n"
    }
   }
  },
  {
   "cell_type": "markdown",
   "source": [
    "# Summary Statistics"
   ],
   "metadata": {
    "collapsed": false,
    "pycharm": {
     "name": "#%% md\n"
    }
   }
  },
  {
   "cell_type": "code",
   "execution_count": null,
   "outputs": [],
   "source": [
    "# Function to get column names for continuous and non-continuous (categorical) features\n",
    "def find_cat_or_con_columns(dataframe):\n",
    "\n",
    "    columns = [list(dataframe[i]) for i in dataframe] # Nested list of column values\n",
    "\n",
    "    uniques = [len(set([i for i in a if pd.notna(i)])) for a in columns] # Num of unique values in a column\n",
    "\n",
    "    continuous_indexes = [i for i, c in enumerate(uniques) if c > 50] # Indexes of continuous columns\n",
    "\n",
    "    categorical_indexes = [i for i, c in enumerate(uniques) if c <= 50] # Indexes of categorical columns\n",
    "\n",
    "    con_cols = [dataframe.columns[x] for x in continuous_indexes] # List containing continuous columns names\n",
    "\n",
    "    cat_cols = [dataframe.columns[x] for x in categorical_indexes] # List containing categorical columns names\n",
    "\n",
    "    return con_cols, cat_cols # return two lists of continuous & categorical column names"
   ],
   "metadata": {
    "collapsed": false,
    "pycharm": {
     "name": "#%%\n"
    }
   }
  },
  {
   "cell_type": "code",
   "execution_count": null,
   "outputs": [],
   "source": [
    "# Find continuous columns\n",
    "continuous_cols, categorical_cols = find_cat_or_con_columns(df)\n",
    "\n",
    "# Number of continuous cols\n",
    "num_con = len(continuous_cols)\n",
    "\n",
    "# Summary statistics for continuous columns (transpose for presentation)\n",
    "con_summary = df[continuous_cols].groupby(df['thyroid_cancer']).describe().T\n",
    "\n",
    "print(num_con)\n",
    "print()\n",
    "con_summary.head(20)"
   ],
   "metadata": {
    "collapsed": false,
    "pycharm": {
     "name": "#%%\n"
    }
   }
  },
  {
   "cell_type": "code",
   "execution_count": null,
   "outputs": [],
   "source": [
    "### Boxplots ###\n",
    "# For continuous columns\n",
    "customPalette = sns.set_palette(sns.color_palette(colours))\n",
    "\n",
    "fig_col_num = 5\n",
    "fig_row_num = math.ceil(len(continuous_cols)/fig_col_num)\n",
    "fig_height = fig_row_num*3\n",
    "fig_width = fig_col_num*4\n",
    "\n",
    "fig, axes = plt.subplots(fig_row_num, fig_col_num, figsize=(fig_width,fig_height))\n",
    "axes = axes.flatten()\n",
    "plt.rcParams['axes.facecolor'] = 'white'\n",
    "\n",
    "\n",
    "for i, col in enumerate(df[continuous_cols]):\n",
    "    sns.boxplot(x=df['thyroid_cancer'], y=col, data=df, palette=customPalette, ax = axes[i])\n",
    "    axes[i].set(xlabel=None, ylabel=None)\n",
    "    axes[i].tick_params(axis=u'both', which=u'both',length=0)\n",
    "    axes[i].set_title('%s' %(col), fontweight='bold', fontsize=8)\n",
    "    axes[i].set_xticklabels(['No_Thyroid_Cancer', 'Thyroid_Cancer'], size=8)\n",
    "\n",
    "plt.tight_layout()\n",
    "plt.grid()\n",
    "\n",
    "plt.savefig('continuous_boxplots.png', bbox_inches='tight') # Save figure\n",
    "plt.show()"
   ],
   "metadata": {
    "collapsed": false,
    "pycharm": {
     "name": "#%%\n"
    }
   }
  },
  {
   "cell_type": "markdown",
   "source": [
    "# Correlation\n",
    "\n",
    "Using dython library which calculates correlations for different feature types(continuous & categorical) using different methods for each. Further details in documentation [here](http://shakedzy.xyz/dython/modules/nominal/) and guide [here](https://medium.com/@knoldus/how-to-find-correlation-value-of-categorical-variables-23de7e7a9e26).\n"
   ],
   "metadata": {
    "collapsed": false,
    "pycharm": {
     "name": "#%% md\n"
    }
   }
  },
  {
   "cell_type": "code",
   "execution_count": null,
   "outputs": [],
   "source": [
    "# Runs the analysis producing a heatmap and matrix (heatmap too large)\n",
    "s = timer()\n",
    "corr_matrix = associations(df, nominal_columns=categorical_cols)\n",
    "e = timer()\n",
    "print(f'Time taken for correlations: {(e - s)/60} mins')"
   ],
   "metadata": {
    "collapsed": false,
    "pycharm": {
     "name": "#%%\n"
    }
   }
  },
  {
   "cell_type": "code",
   "execution_count": null,
   "outputs": [],
   "source": [
    "# Extract the matrix as heatmap is too large \n",
    "df_complete_corr=corr_matrix['corr']\n",
    "df_complete_corr = df_complete_corr.dropna(axis=1, how='all').dropna(axis=0, how='all')"
   ],
   "metadata": {
    "collapsed": false,
    "pycharm": {
     "name": "#%%\n"
    }
   }
  },
  {
   "cell_type": "code",
   "execution_count": null,
   "outputs": [],
   "source": [
    "df_complete_corr"
   ],
   "metadata": {
    "collapsed": false,
    "pycharm": {
     "name": "#%%\n"
    }
   }
  },
  {
   "cell_type": "code",
   "execution_count": null,
   "outputs": [],
   "source": [
    "def get_redundant_pairs(df):\n",
    "    '''Get diagonal and lower triangular pairs of correlation matrix'''\n",
    "    pairs_to_drop = set()\n",
    "    cols = df.columns\n",
    "    for i in range(0, df.shape[1]):\n",
    "        for j in range(0, i+1):\n",
    "            pairs_to_drop.add((cols[i], cols[j]))\n",
    "    return pairs_to_drop\n",
    "\n",
    "def get_top_abs_correlations(df, n=5):\n",
    "    au_corr = df.corr().abs().unstack()\n",
    "    labels_to_drop = get_redundant_pairs(df)\n",
    "    au_corr = au_corr.drop(labels=labels_to_drop).sort_values(ascending=False)\n",
    "    return au_corr[0:n]\n"
   ],
   "metadata": {
    "collapsed": false,
    "pycharm": {
     "name": "#%%\n"
    }
   }
  },
  {
   "cell_type": "code",
   "execution_count": null,
   "outputs": [],
   "source": [
    "# Find 100 highest correlations\n",
    "high_correlations = get_top_abs_correlations(df_complete_corr, 100)"
   ],
   "metadata": {
    "collapsed": false,
    "pycharm": {
     "name": "#%%\n"
    }
   }
  },
  {
   "cell_type": "code",
   "execution_count": null,
   "outputs": [],
   "source": [
    "# Look at how correlated the lowest of these correlations are \n",
    "high_correlations.tail(10)"
   ],
   "metadata": {
    "collapsed": false,
    "pycharm": {
     "name": "#%%\n"
    }
   }
  },
  {
   "cell_type": "code",
   "execution_count": null,
   "outputs": [],
   "source": [
    "most_correlated = [list(x) for x in high_correlations.index]"
   ],
   "metadata": {
    "collapsed": false,
    "pycharm": {
     "name": "#%%\n"
    }
   }
  },
  {
   "cell_type": "code",
   "execution_count": null,
   "outputs": [],
   "source": [
    "high_corr = []\n",
    "for item in most_correlated:\n",
    "    for x in item:\n",
    "        if x not in high_corr:\n",
    "            high_corr.append(x)\n",
    "        else:\n",
    "            pass\n",
    "    "
   ],
   "metadata": {
    "collapsed": false,
    "pycharm": {
     "name": "#%%\n"
    }
   }
  },
  {
   "cell_type": "code",
   "execution_count": null,
   "outputs": [],
   "source": [
    "high_corr"
   ],
   "metadata": {
    "collapsed": false,
    "pycharm": {
     "name": "#%%\n"
    }
   }
  },
  {
   "cell_type": "code",
   "execution_count": null,
   "outputs": [],
   "source": [
    "# Pairplot to look at correlated values - batched in smaller groups\n",
    "\n",
    "customPalette = sns.set_palette(sns.color_palette(colours))\n",
    "\n",
    "data = high_corr[0:5]\n",
    "data.append('thyroid_cancer')\n",
    "\n",
    "sns.pairplot(df[data], hue=\"thyroid_cancer\", corner=True, palette=customPalette)\n",
    "\n",
    "plt.show()\n"
   ],
   "metadata": {
    "collapsed": false,
    "pycharm": {
     "name": "#%%\n"
    }
   }
  },
  {
   "cell_type": "markdown",
   "source": [
    "# Look at categorical data \n",
    "\n",
    "Will labal encoding or categorical encoding be needed and for which columns."
   ],
   "metadata": {
    "collapsed": false,
    "pycharm": {
     "name": "#%% md\n"
    }
   }
  },
  {
   "cell_type": "code",
   "execution_count": null,
   "outputs": [],
   "source": [
    "# Look at categorical clumns to see which should be one hot encoded and which label encoded\n",
    "categorical_cols"
   ],
   "metadata": {
    "collapsed": false,
    "pycharm": {
     "name": "#%%\n"
    }
   }
  },
  {
   "cell_type": "code",
   "execution_count": null,
   "outputs": [],
   "source": [
    "one_hot = ['Weight method|x21_0_0', 'Spirometry method|x23_0_0', 'Sex|x31_0_0', \n",
    "           'UK Biobank assessment centre|x54_0_0', 'Birth weight known|x120_0_0', \n",
    "           'Type of accommodation lived in|x670_0_0',\n",
    "           'Own or rent accommodation lived in|x680_0_0', 'Drive faster than motorway speed limit|x1100_0_0',\n",
    "           'Usual side of head for mobile phone use|x1150_0_0', 'Usual side of head for mobile phone use|x1150_0_0',\n",
    "           'Morning/evening person (chronotype)|x1180_0_0', 'Nap during day|x1190_0_0', 'Snoring|x1210_0_0',\n",
    "           'Daytime dozing / sleeping (narcolepsy)|x1220_0_0', 'Current tobacco smoking|x1239_0_0',\n",
    "           'Past tobacco smoking|x1249_0_0', 'Major dietary changes in the last 5 years|x1538_0_0',\n",
    "           'Variation in diet|x1548_0_0',  'Alcohol usually taken with meals|x1618_0_0',\n",
    "           'Alcohol intake versus 10 years previously|x1628_0_0', 'Skin colour|x1717_0_0', \n",
    "           'Ease of skin tanning|x1727_0_0', 'Hair colour (natural before greying)|x1747_0_0',\n",
    "           'Facial ageing|x1757_0_0', 'Father still alive|x1797_0_0', 'Mother still alive|x1835_0_0', \n",
    "           'Mood swings|x1920_0_0', 'Miserableness|x1930_0_0', 'Irritability|x1940_0_0', \n",
    "           'Sensitivity / hurt feelings|x1950_0_0', 'Fed-up feelings|x1960_0_0', 'Nervous feelings|x1970_0_0',\n",
    "           'Worrier / anxious feelings|x1980_0_0', \"Tense / 'highly strung'|x1990_0_0\",\n",
    "           'Worry too long after embarrassment|x2000_0_0', \"Suffer from 'nerves'|x2010_0_0\",\n",
    "           'Loneliness isolation|x2020_0_0', 'Guilty feelings|x2030_0_0', 'Risk taking|x2040_0_0',\n",
    "           'Seen doctor (GP) for nerves anxiety tension or depression|x2090_0_0',\n",
    "           'Seen a psychiatrist for nerves anxiety tension or depression|x2100_0_0',\n",
    "           'Able to confide|x2110_0_0',\n",
    "           'Answered sexual history questions|x2129_0_0',\n",
    "           'Ever had same-sex intercourse|x2159_0_0', 'Long-standing illness disability or infirmity|x2188_0_0',\n",
    "           'Wears glasses or contact lenses|x2207_0_0', 'Other eye problems|x2227_0_0',\n",
    "           'Plays computer games|x2237_0_0', 'Hearing difficulty/problems|x2247_0_0',\n",
    "           'Hearing difficulty/problems with background noise|x2257_0_0', 'Use of sun/uv protection|x2267_0_0',\n",
    "           'Weight change compared with 1 year ago|x2306_0_0',\n",
    "           'Wheeze or whistling in the chest in last year|x2316_0_0',\n",
    "           'Chest pain or discomfort|x2335_0_0',\n",
    "           'Ever had bowel cancer screening|x2345_0_0',\n",
    "           'Diabetes diagnosed by doctor|x2443_0_0',\n",
    "           'Cancer diagnosed by doctor|x2453_0_0',\n",
    "           'Fractured/broken bones in last 5 years|x2463_0_0',\n",
    "           'Other serious medical condition/disability diagnosed by doctor|x2473_0_0',\n",
    "           'Taking other prescription medications|x2492_0_0',\n",
    "           'Pace-maker|x3079_0_0', 'Contra-indications for spirometry|x3088_0_0', \n",
    "           'Caffeine drink within last hour|x3089_0_0', 'Used an inhaler for chest within last hour|x3090_0_0',\n",
    "           'Method of measuring blood pressure|x4081_0_0', 'Qualifications|x6138_0_0',\n",
    "           'Gas or solid-fuel cooking/heating|x6139_0_0', \n",
    "           'How are people in household related to participant|x6141_0_0',\n",
    "           'Current employment status|x6142_0_0',\n",
    "           'Never eat eggs dairy wheat sugar|x6144_0_0',\n",
    "           'Illness injury bereavement stress in last 2 years|x6145_0_0',\n",
    "           'Attendance/disability/mobility allowance|x6146_0_0',\n",
    "           'Mouth/teeth dental problems|x6149_0_0',\n",
    "           'Medication for pain relief constipation heartburn|x6154_0_0',\n",
    "           'Vitamin and mineral supplements|x6155_0_0', 'Pain type(s) experienced in last month|x6159_0_0',\n",
    "           'Leisure/social activities|x6160_0_0',\n",
    "           'Types of transport used (excluding work)|x6162_0_0',\n",
    "           'Types of physical activity in last 4 weeks|x6164_0_0',\n",
    "           'Mineral and other dietary supplements|x6179_0_0',\n",
    "           'Illnesses of father|x20107_0_0',\n",
    "           'Illnesses of mother|x20110_0_0',\n",
    "           'Illnesses of siblings|x20111_0_0',\n",
    "           'Smoking status|x20116_0_0',\n",
    "           'Alcohol drinker status|x20117_0_0',\n",
    "           'Home area population density - urban or rural|x20118_0_0',\n",
    "           'Ever smoked|x20160_0_0',  'Spirometry QC measure|x20255_0_0', 'Genetic sex|x22001_0_0',\n",
    "           'Genetic kinship to other participants|x22021_0_0',\n",
    "           'IPAQ activity group|x22032_0_0', 'Summed days activity|x22033_0_0',\n",
    "           'Above moderate/vigorous recommendation|x22035_0_0',\n",
    "           'Above moderate/vigorous/walking recommendation|x22036_0_0',\n",
    "           'Close to major road|x24014_0_0', 'medication_cbi' ]"
   ],
   "metadata": {
    "collapsed": false,
    "pycharm": {
     "name": "#%%\n"
    }
   }
  },
  {
   "cell_type": "code",
   "execution_count": null,
   "outputs": [],
   "source": [
    "label = ['Year of birth|x34_0_0', 'Month of birth|x52_0_0', 'Month of attending assessment centre|x55_0_0', \n",
    "         'Number of self-reported cancers|x134_0_0', 'Number of self-reported non-cancer illnesses|x135_0_0',\n",
    "         'Number of operations self-reported|x136_0_0', 'Number of treatments/medications taken|x137_0_0',\n",
    "         'Number in household|x709_0_0',  'Number of vehicles in household|x728_0_0', \n",
    "         'Average total household income before tax|x738_0_0',\n",
    "         'Number of days/week walked 10+ minutes|x864_0_0', \n",
    "         'Number of days/week of moderate physical activity 10+ minutes|x884_0_0',\n",
    "         'Number of days/week of vigorous physical activity 10+ minutes|x904_0_0', 'Usual walking pace|x924_0_0',\n",
    "         'Frequency of stair climbing in last 4 weeks|x943_0_0', 'Frequency of friend/family visits|x1031_0_0',\n",
    "         'Time spend outdoors in summer|x1050_0_0', 'Time spent outdoors in winter|x1060_0_0', \n",
    "         'Time spent watching television (TV)|x1070_0_0','Time spent using computer|x1080_0_0', \n",
    "         'Time spent driving|x1090_0_0', 'Length of mobile phone use|x1110_0_0',\n",
    "         'Weekly usage of mobile phone in last 3 months|x1120_0_0',\n",
    "         'Hands-free device/speakerphone use with mobile phone in last 3 month|x1130_0_0',\n",
    "         'Difference in mobile phone use compared to two years previously|x1140_0_0', 'Sleep duration|x1160_0_0',\n",
    "         'Getting up in morning|x1170_0_0', 'Sleeplessness / insomnia|x1200_0_0', \n",
    "         'Smoking/smokers in household|x1259_0_0', 'Cooked vegetable intake|x1289_0_0',\n",
    "         'Salad / raw vegetable intake|x1299_0_0', 'Fresh fruit intake|x1309_0_0', 'Dried fruit intake|x1319_0_0',\n",
    "         'Oily fish intake|x1329_0_0', 'Non-oily fish intake|x1339_0_0', 'Processed meat intake|x1349_0_0',\n",
    "         'Poultry intake|x1359_0_0', 'Beef intake|x1369_0_0', 'Lamb/mutton intake|x1379_0_0',\n",
    "         'Pork intake|x1389_0_0', 'Cheese intake|x1408_0_0', 'Milk type used|x1418_0_0',\n",
    "         'Spread type|x1428_0_0', 'Bread type|x1448_0_0', 'Cereal intake|x1458_0_0',\n",
    "         'Cereal type|x1468_0_0', 'Salt added to food|x1478_0_0', 'Coffee intake|x1498_0_0',\n",
    "         'Coffee type|x1508_0_0', 'Hot drink temperature|x1518_0_0', 'Water intake|x1528_0_0',\n",
    "         'Alcohol intake frequency.|x1558_0_0', 'Number of full brothers|x1873_0_0',\n",
    "         'Number of full sisters|x1883_0_0', 'Frequency of depressed mood in last 2 weeks|x2050_0_0',\n",
    "         'Frequency of unenthusiasm / disinterest in last 2 weeks|x2060_0_0',\n",
    "         'Frequency of tenseness / restlessness in last 2 weeks|x2070_0_0',\n",
    "         'Frequency of tiredness / lethargy in last 2 weeks|x2080_0_0', 'Overall health rating|x2178_0_0'\n",
    "         'Falls in the last year|x2296_0_0', 'Result ranking|x3059_0_0',\n",
    "         'Ordering of blows|x3065_0_0',  'Seating box height|x3077_0_0', 'Number of measurements made|x3137_0_0',\n",
    "         'Neuroticism score|x20127_0_0', 'Age when attended assessment centre|x21003_0_0',\n",
    "         'Age at recruitment|x21022_0_0', 'Genotype measurement batch|x22000_0_0',\n",
    "         'Total volume of urine samples held by UKB|x30394_0_0']"
   ],
   "metadata": {
    "collapsed": false,
    "pycharm": {
     "name": "#%%\n"
    }
   }
  },
  {
   "cell_type": "code",
   "execution_count": null,
   "outputs": [],
   "source": [],
   "metadata": {
    "collapsed": false,
    "pycharm": {
     "name": "#%%\n"
    }
   }
  },
  {
   "cell_type": "code",
   "execution_count": null,
   "outputs": [],
   "source": [],
   "metadata": {
    "collapsed": false,
    "pycharm": {
     "name": "#%%\n"
    }
   }
  },
  {
   "cell_type": "code",
   "execution_count": null,
   "outputs": [],
   "source": [],
   "metadata": {
    "collapsed": false,
    "pycharm": {
     "name": "#%%\n"
    }
   }
  },
  {
   "cell_type": "code",
   "execution_count": null,
   "outputs": [],
   "source": [
    "# Save dataframe with new headers for downstream analsysis\n",
    "df.to_csv('/data/home/bt211037/dissertation/supervised_ML_data.tsv', sep='\\t')"
   ],
   "metadata": {
    "collapsed": false,
    "pycharm": {
     "name": "#%%\n"
    }
   }
  },
  {
   "cell_type": "code",
   "execution_count": 50,
   "id": "b8d8f1f5",
   "metadata": {
    "pycharm": {
     "name": "#%%\n"
    }
   },
   "outputs": [
    {
     "data": {
      "text/plain": [
       "Summed minutes activity|x22034_0_0     Summed MET minutes per week for all activity|x22040_0_0    0.994302\n",
       "Arm predicted mass (left)|x23126_0_0   Trunk fat-free mass|x23129_0_0                             0.994229\n",
       "Whole body fat mass|x23100_0_0         Arm fat mass (left)|x23124_0_0                             0.994208\n",
       "Leg predicted mass (right)|x23114_0_0  Trunk fat-free mass|x23129_0_0                             0.994090\n",
       "Leg fat-free mass (right)|x23113_0_0   Arm fat-free mass (left)|x23125_0_0                        0.994078\n",
       "Leg predicted mass (right)|x23114_0_0  Arm predicted mass (left)|x23126_0_0                       0.994042\n",
       "Platelet count|x30080_0_0              Platelet crit|x30090_0_0                                   0.993873\n",
       "Leg predicted mass (left)|x23118_0_0   Arm fat-free mass (left)|x23125_0_0                        0.993831\n",
       "Leg predicted mass (right)|x23114_0_0  Trunk predicted mass|x23130_0_0                            0.993688\n",
       "Leg fat-free mass (right)|x23113_0_0   Trunk fat-free mass|x23129_0_0                             0.993499\n",
       "dtype: float64"
      ]
     },
     "execution_count": 50,
     "metadata": {},
     "output_type": "execute_result"
    }
   ],
   "source": [
    "# Look at how correlated the lowest of these correlations are \n",
    "high_correlations.tail(10)"
   ]
  },
  {
   "cell_type": "code",
   "execution_count": 51,
   "id": "8635f6af",
   "metadata": {
    "pycharm": {
     "name": "#%%\n"
    }
   },
   "outputs": [],
   "source": [
    "most_correlated = [list(x) for x in high_correlations.index]"
   ]
  },
  {
   "cell_type": "code",
   "execution_count": 52,
   "id": "1cf1f275",
   "metadata": {
    "pycharm": {
     "name": "#%%\n"
    }
   },
   "outputs": [],
   "source": [
    "high_corr = []\n",
    "for item in most_correlated:\n",
    "    for x in item:\n",
    "        if x not in high_corr:\n",
    "            high_corr.append(x)\n",
    "        else:\n",
    "            pass\n",
    "    "
   ]
  },
  {
   "cell_type": "code",
   "execution_count": 53,
   "id": "04e8adfd",
   "metadata": {
    "pycharm": {
     "name": "#%%\n"
    }
   },
   "outputs": [
    {
     "data": {
      "text/plain": [
       "['Age when attended assessment centre|x21003_0_0',\n",
       " 'Age at recruitment|x21022_0_0',\n",
       " 'Sex|x31_0_0',\n",
       " 'Genetic sex|x22001_0_0',\n",
       " 'Average daytime sound level of noise pollution|x24020_0_0',\n",
       " 'Average 24-hour sound level of noise pollution|x24024_0_0',\n",
       " 'Average 16-hour sound level of noise pollution|x24023_0_0',\n",
       " 'Whole body fat-free mass|x23101_0_0',\n",
       " 'Whole body water mass|x23102_0_0',\n",
       " 'Trunk fat-free mass|x23129_0_0',\n",
       " 'Trunk predicted mass|x23130_0_0',\n",
       " 'Arm fat-free mass (right)|x23121_0_0',\n",
       " 'Arm predicted mass (right)|x23122_0_0',\n",
       " 'Leg fat-free mass (right)|x23113_0_0',\n",
       " 'Leg predicted mass (right)|x23114_0_0',\n",
       " 'Leg fat-free mass (left)|x23117_0_0',\n",
       " 'Leg predicted mass (left)|x23118_0_0',\n",
       " 'Arm fat-free mass (left)|x23125_0_0',\n",
       " 'Arm predicted mass (left)|x23126_0_0',\n",
       " 'Arm fat mass (right)|x23120_0_0',\n",
       " 'Arm fat mass (left)|x23124_0_0',\n",
       " 'Average evening sound level of noise pollution|x24021_0_0',\n",
       " 'Arm fat percentage (right)|x23119_0_0',\n",
       " 'Arm fat percentage (left)|x23123_0_0',\n",
       " 'Leg fat mass (right)|x23112_0_0',\n",
       " 'Leg fat mass (left)|x23116_0_0',\n",
       " 'Leg fat percentage (right)|x23111_0_0',\n",
       " 'Leg fat percentage (left)|x23115_0_0',\n",
       " 'Average night-time sound level of noise pollution|x24022_0_0',\n",
       " 'Impedance of arm (right)|x23109_0_0',\n",
       " 'Impedance of arm (left)|x23110_0_0',\n",
       " 'Unadjusted T/S ratio|x22190_0_0',\n",
       " 'Adjusted T/S ratio|x22191_0_0',\n",
       " 'Calcium|x30680_0_0',\n",
       " 'Total protein|x30860_0_0',\n",
       " 'Impedance of leg (right)|x23107_0_0',\n",
       " 'Impedance of leg (left)|x23108_0_0',\n",
       " 'Haemoglobin concentration|x30020_0_0',\n",
       " 'Haematocrit percentage|x30030_0_0',\n",
       " 'Mean corpuscular volume|x30040_0_0',\n",
       " 'Mean corpuscular haemoglobin|x30050_0_0',\n",
       " 'Basal metabolic rate|x23105_0_0',\n",
       " 'Mean corpuscular haemoglobin concentration|x30060_0_0',\n",
       " 'Platelet distribution width|x30110_0_0',\n",
       " 'Nitrogen dioxide air pollution  2005|x24016_0_0',\n",
       " 'Nitrogen dioxide air pollution  2007|x24018_0_0',\n",
       " 'Hand grip strength (left)|x46_0_0',\n",
       " 'Hand grip strength (right)|x47_0_0',\n",
       " 'Mean reticulocyte volume|x30260_0_0',\n",
       " 'Mean sphered cell volume|x30270_0_0',\n",
       " 'Nitrogen dioxide air pollution  2006|x24017_0_0',\n",
       " 'Albumin|x30600_0_0',\n",
       " 'Home location at assessment - north co-ordinate (rounded)|x20075_0_0',\n",
       " 'Home location - north co-ordinate (rounded)|x22704_0_0',\n",
       " 'Index of Multiple Deprivation (England)|x26410_0_0',\n",
       " 'Income score (England)|x26411_0_0',\n",
       " 'Red blood cell (erythrocyte) count|x30010_0_0',\n",
       " 'Forced vital capacity (FVC)|x3062_0_0',\n",
       " 'Forced expiratory volume in 1-second (FEV1)|x3063_0_0',\n",
       " 'Body fat percentage|x23099_0_0',\n",
       " 'Whole body fat mass|x23100_0_0',\n",
       " 'Summed minutes activity|x22034_0_0',\n",
       " 'Summed MET minutes per week for all activity|x22040_0_0',\n",
       " 'Platelet count|x30080_0_0',\n",
       " 'Platelet crit|x30090_0_0']"
      ]
     },
     "execution_count": 53,
     "metadata": {},
     "output_type": "execute_result"
    }
   ],
   "source": [
    "high_corr"
   ]
  },
  {
   "cell_type": "code",
   "execution_count": null,
   "id": "fed4900e",
   "metadata": {
    "pycharm": {
     "name": "#%%\n"
    }
   },
   "outputs": [],
   "source": [
    "# Pairplot to look at correlated values - batched in smaller groups\n",
    "\n",
    "customPalette = sns.set_palette(sns.color_palette(colours))\n",
    "\n",
    "data = high_corr[0:5]\n",
    "data.append('thyroid_cancer')\n",
    "\n",
    "sns.pairplot(df[data], hue=\"thyroid_cancer\", corner=True, palette=customPalette)\n",
    "\n",
    "plt.show()\n"
   ]
  },
  {
   "cell_type": "markdown",
   "id": "b20616b9",
   "metadata": {
    "pycharm": {
     "name": "#%% md\n"
    }
   },
   "source": [
    "# Look at categorical data \n",
    "\n",
    "Will labal encoding or categorical encoding be needed and for which columns."
   ]
  },
  {
   "cell_type": "code",
   "execution_count": null,
   "id": "51eab31d",
   "metadata": {
    "pycharm": {
     "name": "#%%\n"
    }
   },
   "outputs": [],
   "source": [
    "# Look at categorical clumns to see which should be one hot encoded and which label encoded\n",
    "categorical_cols"
   ]
  },
  {
   "cell_type": "code",
   "execution_count": null,
   "id": "dae36d19",
   "metadata": {
    "pycharm": {
     "name": "#%%\n"
    }
   },
   "outputs": [],
   "source": [
    "one_hot = ['Weight method|x21_0_0', 'Spirometry method|x23_0_0', 'Sex|x31_0_0', \n",
    "           'UK Biobank assessment centre|x54_0_0', 'Birth weight known|x120_0_0', \n",
    "           'Type of accommodation lived in|x670_0_0',\n",
    "           'Own or rent accommodation lived in|x680_0_0', 'Drive faster than motorway speed limit|x1100_0_0',\n",
    "           'Usual side of head for mobile phone use|x1150_0_0', 'Usual side of head for mobile phone use|x1150_0_0',\n",
    "           'Morning/evening person (chronotype)|x1180_0_0', 'Nap during day|x1190_0_0', 'Snoring|x1210_0_0',\n",
    "           'Daytime dozing / sleeping (narcolepsy)|x1220_0_0', 'Current tobacco smoking|x1239_0_0',\n",
    "           'Past tobacco smoking|x1249_0_0', 'Major dietary changes in the last 5 years|x1538_0_0',\n",
    "           'Variation in diet|x1548_0_0',  'Alcohol usually taken with meals|x1618_0_0',\n",
    "           'Alcohol intake versus 10 years previously|x1628_0_0', 'Skin colour|x1717_0_0', \n",
    "           'Ease of skin tanning|x1727_0_0', 'Hair colour (natural before greying)|x1747_0_0',\n",
    "           'Facial ageing|x1757_0_0', 'Father still alive|x1797_0_0', 'Mother still alive|x1835_0_0', \n",
    "           'Mood swings|x1920_0_0', 'Miserableness|x1930_0_0', 'Irritability|x1940_0_0', \n",
    "           'Sensitivity / hurt feelings|x1950_0_0', 'Fed-up feelings|x1960_0_0', 'Nervous feelings|x1970_0_0',\n",
    "           'Worrier / anxious feelings|x1980_0_0', \"Tense / 'highly strung'|x1990_0_0\",\n",
    "           'Worry too long after embarrassment|x2000_0_0', \"Suffer from 'nerves'|x2010_0_0\",\n",
    "           'Loneliness isolation|x2020_0_0', 'Guilty feelings|x2030_0_0', 'Risk taking|x2040_0_0',\n",
    "           'Seen doctor (GP) for nerves anxiety tension or depression|x2090_0_0',\n",
    "           'Seen a psychiatrist for nerves anxiety tension or depression|x2100_0_0',\n",
    "           'Able to confide|x2110_0_0',\n",
    "           'Answered sexual history questions|x2129_0_0',\n",
    "           'Ever had same-sex intercourse|x2159_0_0', 'Long-standing illness disability or infirmity|x2188_0_0',\n",
    "           'Wears glasses or contact lenses|x2207_0_0', 'Other eye problems|x2227_0_0',\n",
    "           'Plays computer games|x2237_0_0', 'Hearing difficulty/problems|x2247_0_0',\n",
    "           'Hearing difficulty/problems with background noise|x2257_0_0', 'Use of sun/uv protection|x2267_0_0',\n",
    "           'Weight change compared with 1 year ago|x2306_0_0',\n",
    "           'Wheeze or whistling in the chest in last year|x2316_0_0',\n",
    "           'Chest pain or discomfort|x2335_0_0',\n",
    "           'Ever had bowel cancer screening|x2345_0_0',\n",
    "           'Diabetes diagnosed by doctor|x2443_0_0',\n",
    "           'Cancer diagnosed by doctor|x2453_0_0',\n",
    "           'Fractured/broken bones in last 5 years|x2463_0_0',\n",
    "           'Other serious medical condition/disability diagnosed by doctor|x2473_0_0',\n",
    "           'Taking other prescription medications|x2492_0_0',\n",
    "           'Pace-maker|x3079_0_0', 'Contra-indications for spirometry|x3088_0_0', \n",
    "           'Caffeine drink within last hour|x3089_0_0', 'Used an inhaler for chest within last hour|x3090_0_0',\n",
    "           'Method of measuring blood pressure|x4081_0_0', 'Qualifications|x6138_0_0',\n",
    "           'Gas or solid-fuel cooking/heating|x6139_0_0', \n",
    "           'How are people in household related to participant|x6141_0_0',\n",
    "           'Current employment status|x6142_0_0',\n",
    "           'Never eat eggs dairy wheat sugar|x6144_0_0',\n",
    "           'Illness injury bereavement stress in last 2 years|x6145_0_0',\n",
    "           'Attendance/disability/mobility allowance|x6146_0_0',\n",
    "           'Mouth/teeth dental problems|x6149_0_0',\n",
    "           'Medication for pain relief constipation heartburn|x6154_0_0',\n",
    "           'Vitamin and mineral supplements|x6155_0_0', 'Pain type(s) experienced in last month|x6159_0_0',\n",
    "           'Leisure/social activities|x6160_0_0',\n",
    "           'Types of transport used (excluding work)|x6162_0_0',\n",
    "           'Types of physical activity in last 4 weeks|x6164_0_0',\n",
    "           'Mineral and other dietary supplements|x6179_0_0',\n",
    "           'Illnesses of father|x20107_0_0',\n",
    "           'Illnesses of mother|x20110_0_0',\n",
    "           'Illnesses of siblings|x20111_0_0',\n",
    "           'Smoking status|x20116_0_0',\n",
    "           'Alcohol drinker status|x20117_0_0',\n",
    "           'Home area population density - urban or rural|x20118_0_0',\n",
    "           'Ever smoked|x20160_0_0',  'Spirometry QC measure|x20255_0_0', 'Genetic sex|x22001_0_0',\n",
    "           'Genetic kinship to other participants|x22021_0_0',\n",
    "           'IPAQ activity group|x22032_0_0', 'Summed days activity|x22033_0_0',\n",
    "           'Above moderate/vigorous recommendation|x22035_0_0',\n",
    "           'Above moderate/vigorous/walking recommendation|x22036_0_0',\n",
    "           'Close to major road|x24014_0_0', 'medication_cbi' ]"
   ]
  },
  {
   "cell_type": "code",
   "execution_count": null,
   "id": "6e81d788",
   "metadata": {
    "pycharm": {
     "name": "#%%\n"
    }
   },
   "outputs": [],
   "source": [
    "label = ['Year of birth|x34_0_0', 'Month of birth|x52_0_0', 'Month of attending assessment centre|x55_0_0', \n",
    "         'Number of self-reported cancers|x134_0_0', 'Number of self-reported non-cancer illnesses|x135_0_0',\n",
    "         'Number of operations self-reported|x136_0_0', 'Number of treatments/medications taken|x137_0_0',\n",
    "         'Number in household|x709_0_0',  'Number of vehicles in household|x728_0_0', \n",
    "         'Average total household income before tax|x738_0_0',\n",
    "         'Number of days/week walked 10+ minutes|x864_0_0', \n",
    "         'Number of days/week of moderate physical activity 10+ minutes|x884_0_0',\n",
    "         'Number of days/week of vigorous physical activity 10+ minutes|x904_0_0', 'Usual walking pace|x924_0_0',\n",
    "         'Frequency of stair climbing in last 4 weeks|x943_0_0', 'Frequency of friend/family visits|x1031_0_0',\n",
    "         'Time spend outdoors in summer|x1050_0_0', 'Time spent outdoors in winter|x1060_0_0', \n",
    "         'Time spent watching television (TV)|x1070_0_0','Time spent using computer|x1080_0_0', \n",
    "         'Time spent driving|x1090_0_0', 'Length of mobile phone use|x1110_0_0',\n",
    "         'Weekly usage of mobile phone in last 3 months|x1120_0_0',\n",
    "         'Hands-free device/speakerphone use with mobile phone in last 3 month|x1130_0_0',\n",
    "         'Difference in mobile phone use compared to two years previously|x1140_0_0', 'Sleep duration|x1160_0_0',\n",
    "         'Getting up in morning|x1170_0_0', 'Sleeplessness / insomnia|x1200_0_0', \n",
    "         'Smoking/smokers in household|x1259_0_0', 'Cooked vegetable intake|x1289_0_0',\n",
    "         'Salad / raw vegetable intake|x1299_0_0', 'Fresh fruit intake|x1309_0_0', 'Dried fruit intake|x1319_0_0',\n",
    "         'Oily fish intake|x1329_0_0', 'Non-oily fish intake|x1339_0_0', 'Processed meat intake|x1349_0_0',\n",
    "         'Poultry intake|x1359_0_0', 'Beef intake|x1369_0_0', 'Lamb/mutton intake|x1379_0_0',\n",
    "         'Pork intake|x1389_0_0', 'Cheese intake|x1408_0_0', 'Milk type used|x1418_0_0',\n",
    "         'Spread type|x1428_0_0', 'Bread type|x1448_0_0', 'Cereal intake|x1458_0_0',\n",
    "         'Cereal type|x1468_0_0', 'Salt added to food|x1478_0_0', 'Coffee intake|x1498_0_0',\n",
    "         'Coffee type|x1508_0_0', 'Hot drink temperature|x1518_0_0', 'Water intake|x1528_0_0',\n",
    "         'Alcohol intake frequency.|x1558_0_0', 'Number of full brothers|x1873_0_0',\n",
    "         'Number of full sisters|x1883_0_0', 'Frequency of depressed mood in last 2 weeks|x2050_0_0',\n",
    "         'Frequency of unenthusiasm / disinterest in last 2 weeks|x2060_0_0',\n",
    "         'Frequency of tenseness / restlessness in last 2 weeks|x2070_0_0',\n",
    "         'Frequency of tiredness / lethargy in last 2 weeks|x2080_0_0', 'Overall health rating|x2178_0_0'\n",
    "         'Falls in the last year|x2296_0_0', 'Result ranking|x3059_0_0',\n",
    "         'Ordering of blows|x3065_0_0',  'Seating box height|x3077_0_0', 'Number of measurements made|x3137_0_0',\n",
    "         'Neuroticism score|x20127_0_0', 'Age when attended assessment centre|x21003_0_0',\n",
    "         'Age at recruitment|x21022_0_0', 'Genotype measurement batch|x22000_0_0',\n",
    "         'Total volume of urine samples held by UKB|x30394_0_0']"
   ]
  },
  {
   "cell_type": "code",
   "execution_count": null,
   "id": "9da5dd46",
   "metadata": {
    "pycharm": {
     "name": "#%%\n"
    }
   },
   "outputs": [],
   "source": []
  },
  {
   "cell_type": "code",
   "execution_count": null,
   "id": "aee67d24",
   "metadata": {
    "pycharm": {
     "name": "#%%\n"
    }
   },
   "outputs": [],
   "source": []
  },
  {
   "cell_type": "code",
   "execution_count": null,
   "id": "7cac8fcf",
   "metadata": {
    "pycharm": {
     "name": "#%%\n"
    }
   },
   "outputs": [],
   "source": []
  },
  {
   "cell_type": "code",
   "execution_count": 35,
   "id": "214bb502",
   "metadata": {
    "pycharm": {
     "name": "#%%\n"
    }
   },
   "outputs": [],
   "source": [
    "# Save dataframe with new headers for downstream analsysis\n",
    "df.to_csv('/data/home/bt211037/dissertation/supervised_ML_data.tsv', sep='\\t')"
   ]
  },
  {
   "cell_type": "code",
   "execution_count": null,
   "id": "45b045d9",
   "metadata": {
    "pycharm": {
     "name": "#%%\n"
    }
   },
   "outputs": [],
   "source": []
  }
 ],
 "metadata": {
  "kernelspec": {
   "display_name": "ondem_env",
   "language": "python",
   "name": "ondem_env"
  },
  "language_info": {
   "codemirror_mode": {
    "name": "ipython",
    "version": 3
   },
   "file_extension": ".py",
   "mimetype": "text/x-python",
   "name": "python",
   "nbconvert_exporter": "python",
   "pygments_lexer": "ipython3",
   "version": "3.10.5"
  }
 },
 "nbformat": 4,
 "nbformat_minor": 5
}
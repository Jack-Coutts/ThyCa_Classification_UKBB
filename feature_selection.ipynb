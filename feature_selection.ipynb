{
 "cells": [
  {
   "cell_type": "markdown",
   "id": "0db695cc",
   "metadata": {},
   "source": [
    "# Install "
   ]
  },
  {
   "cell_type": "code",
   "execution_count": 1,
   "id": "cba86d01",
   "metadata": {},
   "outputs": [
    {
     "name": "stdout",
     "output_type": "stream",
     "text": [
      "Defaulting to user installation because normal site-packages is not writeable\n",
      "Requirement already satisfied: memory_profiler in /data/home/bt211037/.local/lib/python3.9/site-packages (0.60.0)\n",
      "Requirement already satisfied: psutil in /share/apps/centos7/anaconda3/2021.11/lib/python3.9/site-packages (from memory_profiler) (5.8.0)\n"
     ]
    }
   ],
   "source": [
    "! pip install memory_profiler\n",
    "%load_ext memory_profiler "
   ]
  },
  {
   "cell_type": "markdown",
   "id": "56655ca6",
   "metadata": {},
   "source": [
    "# Import "
   ]
  },
  {
   "cell_type": "code",
   "execution_count": 2,
   "id": "0e94d4e5",
   "metadata": {},
   "outputs": [
    {
     "name": "stderr",
     "output_type": "stream",
     "text": [
      "Intel(R) Extension for Scikit-learn* enabled (https://github.com/intel/scikit-learn-intelex)\n"
     ]
    }
   ],
   "source": [
    "import pandas as pd\n",
    "import numpy as np\n",
    "import matplotlib.pyplot as plt\n",
    "\n",
    "from sklearnex import patch_sklearn  # Speeds up sklearn with intel patch\n",
    "patch_sklearn()  # Activate patch - changes sklearn imports below\n",
    "\n",
    "from timeit import default_timer as timer # Time how long commands take\n",
    "from sklearn.model_selection import train_test_split, StratifiedKFold  # test_train split, cross-validation\n",
    "\n",
    "from sklearn.experimental import enable_iterative_imputer  # Iterative imputer experimental so need to enable it\n",
    "from sklearn.impute import IterativeImputer  # Once enabled iterative imputer can be imported\n",
    "\n",
    "from sklearn.linear_model import RidgeClassifier, BayesianRidge  # Imputation\n",
    "from sklearn.preprocessing import MinMaxScaler, OneHotEncoder, OrdinalEncoder  # Normalisation & Encoding\n",
    "from imblearn.under_sampling import TomekLinks  # Undersampling\n",
    "from imblearn.over_sampling import SMOTENC  # Oversampling\n",
    "from sklearn.feature_selection import RFE, RFECV  # Recursive feature elimination - feature selection\n",
    "from sklearn.pipeline import Pipeline\n",
    "from sklearn.ensemble import ExtraTreesClassifier  # RFE\n",
    "from sklearn.model_selection import RandomizedSearchCV, GridSearchCV\n",
    "from sklearn.svm import SVC\n",
    "\n",
    "\n"
   ]
  },
  {
   "cell_type": "markdown",
   "id": "19ad0e9f",
   "metadata": {},
   "source": [
    "# Random State"
   ]
  },
  {
   "cell_type": "code",
   "execution_count": 7,
   "id": "c2d0d762",
   "metadata": {},
   "outputs": [],
   "source": [
    "random_state=0"
   ]
  },
  {
   "cell_type": "markdown",
   "id": "8e1b1bed",
   "metadata": {},
   "source": [
    "# General Functions"
   ]
  },
  {
   "cell_type": "code",
   "execution_count": 3,
   "id": "3f1e18f4",
   "metadata": {},
   "outputs": [],
   "source": [
    "# Stopwatch to profile function runtimes\n",
    "class Stopwatch:\n",
    "\n",
    "    # Initiate constructor\n",
    "    def __init__(self):\n",
    "        self.start = timer()\n",
    "        self.end = None\n",
    "        self.runtime = None\n",
    "\n",
    "    # Stop stopwatch\n",
    "    def stop(self):\n",
    "        self.end = timer()\n",
    "        self.runtime = self.end - self.start\n",
    "        return self.runtime"
   ]
  },
  {
   "cell_type": "code",
   "execution_count": null,
   "id": "b0dc381b",
   "metadata": {},
   "outputs": [],
   "source": []
  },
  {
   "cell_type": "markdown",
   "id": "3d641151",
   "metadata": {},
   "source": [
    "# Data Cleaning"
   ]
  },
  {
   "cell_type": "code",
   "execution_count": 9,
   "id": "bf24371e",
   "metadata": {},
   "outputs": [],
   "source": [
    "df = pd.read_csv('/data/home/bt211037/dissertation/supervised_ML_data.tsv',\n",
    "                   sep='\\t', header=0, index_col=0)\n"
   ]
  },
  {
   "cell_type": "code",
   "execution_count": null,
   "id": "68a6bfa9",
   "metadata": {},
   "outputs": [],
   "source": []
  },
  {
   "cell_type": "markdown",
   "id": "f29e62eb",
   "metadata": {},
   "source": [
    "### One Hot Encoding (if required!) - ERROR NANs CONVERTED"
   ]
  },
  {
   "cell_type": "code",
   "execution_count": 17,
   "id": "b88e9df5",
   "metadata": {},
   "outputs": [],
   "source": [
    "# Columns requiring one hot encoding\n",
    "onehot = ['Weight method|x21_0_0', 'Spirometry method|x23_0_0', 'UK Biobank assessment centre|x54_0_0',\n",
    "          'Birth weight known|x120_0_0', 'Type of accommodation lived in|x670_0_0',\n",
    "          'Own or rent accommodation lived in|x680_0_0', 'Drive faster than motorway speed limit|x1100_0_0',\n",
    "          'Usual side of head for mobile phone use|x1150_0_0', 'Usual side of head for mobile phone use|x1150_0_0',\n",
    "          'Morning/evening person (chronotype)|x1180_0_0', 'Nap during day|x1190_0_0', 'Snoring|x1210_0_0',\n",
    "          'Daytime dozing / sleeping (narcolepsy)|x1220_0_0', 'Current tobacco smoking|x1239_0_0',\n",
    "          'Past tobacco smoking|x1249_0_0', 'Major dietary changes in the last 5 years|x1538_0_0',\n",
    "          'Variation in diet|x1548_0_0', 'Alcohol usually taken with meals|x1618_0_0',\n",
    "          'Alcohol intake versus 10 years previously|x1628_0_0', 'Skin colour|x1717_0_0',\n",
    "          'Ease of skin tanning|x1727_0_0', 'Hair colour (natural before greying)|x1747_0_0',\n",
    "          'Facial ageing|x1757_0_0', 'Father still alive|x1797_0_0', 'Mother still alive|x1835_0_0',\n",
    "          'Mood swings|x1920_0_0', 'Miserableness|x1930_0_0', 'Irritability|x1940_0_0',\n",
    "          'Sensitivity / hurt feelings|x1950_0_0', 'Fed-up feelings|x1960_0_0', 'Nervous feelings|x1970_0_0',\n",
    "          'Worrier / anxious feelings|x1980_0_0', \"Tense / 'highly strung'|x1990_0_0\",\n",
    "          'Worry too long after embarrassment|x2000_0_0', \"Suffer from 'nerves'|x2010_0_0\",\n",
    "          'Loneliness isolation|x2020_0_0', 'Guilty feelings|x2030_0_0', 'Risk taking|x2040_0_0',\n",
    "          'Seen doctor (GP) for nerves anxiety tension or depression|x2090_0_0',\n",
    "          'Seen a psychiatrist for nerves anxiety tension or depression|x2100_0_0', 'Able to confide|x2110_0_0',\n",
    "          'Answered sexual history questions|x2129_0_0', 'Ever had same-sex intercourse|x2159_0_0',\n",
    "          'Long-standing illness disability or infirmity|x2188_0_0', 'Wears glasses or contact lenses|x2207_0_0',\n",
    "          'Other eye problems|x2227_0_0', 'Plays computer games|x2237_0_0', 'Hearing difficulty/problems|x2247_0_0',\n",
    "          'Hearing difficulty/problems with background noise|x2257_0_0', 'Use of sun/uv protection|x2267_0_0',\n",
    "          'Weight change compared with 1 year ago|x2306_0_0', 'Wheeze or whistling in the chest in last year|x2316_0_0',\n",
    "          'Chest pain or discomfort|x2335_0_0', 'Ever had bowel cancer screening|x2345_0_0',\n",
    "          'Diabetes diagnosed by doctor|x2443_0_0', 'Cancer diagnosed by doctor|x2453_0_0',\n",
    "          'Fractured/broken bones in last 5 years|x2463_0_0',\n",
    "          'Other serious medical condition/disability diagnosed by doctor|x2473_0_0',\n",
    "          'Taking other prescription medications|x2492_0_0', 'Pace-maker|x3079_0_0',\n",
    "          'Contra-indications for spirometry|x3088_0_0', 'Caffeine drink within last hour|x3089_0_0',\n",
    "          'Used an inhaler for chest within last hour|x3090_0_0', 'Method of measuring blood pressure|x4081_0_0',\n",
    "          'Qualifications|x6138_0_0', 'Gas or solid-fuel cooking/heating|x6139_0_0',\n",
    "          'How are people in household related to participant|x6141_0_0', 'Current employment status|x6142_0_0',\n",
    "          'Never eat eggs dairy wheat sugar|x6144_0_0', 'Illness injury bereavement stress in last 2 years|x6145_0_0',\n",
    "          'Attendance/disability/mobility allowance|x6146_0_0', 'Mouth/teeth dental problems|x6149_0_0',\n",
    "          'Medication for pain relief constipation heartburn|x6154_0_0', 'Vitamin and mineral supplements|x6155_0_0',\n",
    "          'Pain type(s) experienced in last month|x6159_0_0', 'Leisure/social activities|x6160_0_0',\n",
    "          'Types of transport used (excluding work)|x6162_0_0', 'Types of physical activity in last 4 weeks|x6164_0_0',\n",
    "          'Mineral and other dietary supplements|x6179_0_0', 'Illnesses of father|x20107_0_0',\n",
    "          'Illnesses of mother|x20110_0_0', 'Illnesses of siblings|x20111_0_0', 'Smoking status|x20116_0_0',\n",
    "          'Alcohol drinker status|x20117_0_0', 'Home area population density - urban or rural|x20118_0_0',\n",
    "          'Spirometry QC measure|x20255_0_0', 'Genetic sex|x22001_0_0',\n",
    "          'Genetic kinship to other participants|x22021_0_0', 'IPAQ activity group|x22032_0_0',\n",
    "          'Summed days activity|x22033_0_0', 'Above moderate/vigorous recommendation|x22035_0_0',\n",
    "          'Above moderate/vigorous/walking recommendation|x22036_0_0', 'Close to major road|x24014_0_0',\n",
    "          'medication_cbi']"
   ]
  },
  {
   "cell_type": "code",
   "execution_count": 18,
   "id": "3be1d2c2",
   "metadata": {},
   "outputs": [],
   "source": [
    "# Feature encoding\n",
    "def feature_encoding(dataframe, Onehot):\n",
    "    \n",
    "    encode_targets = []  # Remove binary columns\n",
    "    for item in Onehot:\n",
    "        col = dataframe[item]\n",
    "        unique = len(set(col))\n",
    "        if unique > 2:\n",
    "            encode_targets.append(item)\n",
    "\n",
    "    onehot = OneHotEncoder()\n",
    "    onehot_data = onehot.fit_transform(dataframe[encode_targets]).toarray()  # Create new cols\n",
    "    one_hot_names = onehot.get_feature_names_out(encode_targets)  # Get new col names\n",
    "    onehot_df = pd.DataFrame(onehot_data, columns=one_hot_names, index=dataframe.index)  # Create df of new cols\n",
    "    dataframe = dataframe.drop(axis=1, labels=Onehot)  # Drop original columns\n",
    "    dataframe = dataframe.join(onehot_df)\n",
    "\n",
    "    return dataframe"
   ]
  },
  {
   "cell_type": "code",
   "execution_count": 20,
   "id": "1d007502",
   "metadata": {},
   "outputs": [],
   "source": [
    "df = feature_encoding(df, Onehot=onehot)  # One hot encoding\n"
   ]
  },
  {
   "cell_type": "code",
   "execution_count": null,
   "id": "215dabcd",
   "metadata": {},
   "outputs": [],
   "source": []
  },
  {
   "cell_type": "markdown",
   "id": "6ab6420c",
   "metadata": {},
   "source": [
    "### Test Train Split"
   ]
  },
  {
   "cell_type": "code",
   "execution_count": null,
   "id": "f8a2ea98",
   "metadata": {},
   "outputs": [],
   "source": []
  },
  {
   "cell_type": "code",
   "execution_count": 22,
   "id": "586266cb",
   "metadata": {},
   "outputs": [],
   "source": [
    "X_train, X_test, y_train, y_test = train_test_split(df.loc[:, df.columns != 'thyroid_cancer'],\n",
    "                                                        df['thyroid_cancer'],\n",
    "                                                        test_size=0.2,\n",
    "                                                        shuffle=True,\n",
    "                                                        random_state=random_state)"
   ]
  },
  {
   "cell_type": "code",
   "execution_count": null,
   "id": "ce06301e",
   "metadata": {},
   "outputs": [],
   "source": []
  },
  {
   "cell_type": "markdown",
   "id": "6f68e745",
   "metadata": {},
   "source": [
    "### Convert categorical columns to integers"
   ]
  },
  {
   "cell_type": "code",
   "execution_count": 23,
   "id": "23a9f61b",
   "metadata": {},
   "outputs": [],
   "source": [
    "# Find which columns are categorical and which continuous\n",
    "def cat_con_cols(df):\n",
    "    columns = [list(df[i]) for i in df]  # Nested list of column values\n",
    "    num_unique_vals = [len(set([i for i in a if pd.notna(i)])) for a in columns]  # Num of unique values in a column\n",
    "\n",
    "    categorical_indexes = [i for i, v in enumerate(num_unique_vals) if v <= 100\n",
    "                           and set([a % 1 for a in df[df.columns[i]].dropna()]) == {0}]\n",
    "\n",
    "    continuous_indexes = [i for i, v in enumerate(num_unique_vals) if v > 100 or\n",
    "                          set([a % 1 for a in df[df.columns[i]].dropna()]) != {0}]\n",
    "\n",
    "    cat = list(df.columns[categorical_indexes])\n",
    "    con = list(df.columns[continuous_indexes])\n",
    "    return cat, con\n"
   ]
  },
  {
   "cell_type": "code",
   "execution_count": 24,
   "id": "cb346c78",
   "metadata": {},
   "outputs": [
    {
     "ename": "TypeError",
     "evalue": "not all arguments converted during string formatting",
     "output_type": "error",
     "traceback": [
      "\u001b[0;31m---------------------------------------------------------------------------\u001b[0m",
      "\u001b[0;31mTypeError\u001b[0m                                 Traceback (most recent call last)",
      "Input \u001b[0;32mIn [24]\u001b[0m, in \u001b[0;36m<cell line: 1>\u001b[0;34m()\u001b[0m\n\u001b[0;32m----> 1\u001b[0m cat, con \u001b[38;5;241m=\u001b[39m \u001b[43mcat_con_cols\u001b[49m\u001b[43m(\u001b[49m\u001b[43mX_train\u001b[49m\u001b[43m)\u001b[49m  \u001b[38;5;66;03m# Get the column names of the continuous and nominal data\u001b[39;00m\n\u001b[1;32m      2\u001b[0m X_train[cat] \u001b[38;5;241m=\u001b[39m X_train[cat]\u001b[38;5;241m.\u001b[39mastype(\u001b[38;5;124m'\u001b[39m\u001b[38;5;124mInt64\u001b[39m\u001b[38;5;124m'\u001b[39m)  \u001b[38;5;66;03m# Convert categorical cols values from floats to integers - train\u001b[39;00m\n\u001b[1;32m      3\u001b[0m X_test[cat] \u001b[38;5;241m=\u001b[39m X_test[cat]\u001b[38;5;241m.\u001b[39mastype(\u001b[38;5;124m'\u001b[39m\u001b[38;5;124mInt64\u001b[39m\u001b[38;5;124m'\u001b[39m)\n",
      "Input \u001b[0;32mIn [23]\u001b[0m, in \u001b[0;36mcat_con_cols\u001b[0;34m(df)\u001b[0m\n\u001b[1;32m      3\u001b[0m columns \u001b[38;5;241m=\u001b[39m [\u001b[38;5;28mlist\u001b[39m(df[i]) \u001b[38;5;28;01mfor\u001b[39;00m i \u001b[38;5;129;01min\u001b[39;00m df]  \u001b[38;5;66;03m# Nested list of column values\u001b[39;00m\n\u001b[1;32m      4\u001b[0m num_unique_vals \u001b[38;5;241m=\u001b[39m [\u001b[38;5;28mlen\u001b[39m(\u001b[38;5;28mset\u001b[39m([i \u001b[38;5;28;01mfor\u001b[39;00m i \u001b[38;5;129;01min\u001b[39;00m a \u001b[38;5;28;01mif\u001b[39;00m pd\u001b[38;5;241m.\u001b[39mnotna(i)])) \u001b[38;5;28;01mfor\u001b[39;00m a \u001b[38;5;129;01min\u001b[39;00m columns]  \u001b[38;5;66;03m# Num of unique values in a column\u001b[39;00m\n\u001b[0;32m----> 6\u001b[0m categorical_indexes \u001b[38;5;241m=\u001b[39m [i \u001b[38;5;28;01mfor\u001b[39;00m i, v \u001b[38;5;129;01min\u001b[39;00m \u001b[38;5;28menumerate\u001b[39m(num_unique_vals) \u001b[38;5;28;01mif\u001b[39;00m v \u001b[38;5;241m<\u001b[39m\u001b[38;5;241m=\u001b[39m \u001b[38;5;241m100\u001b[39m\n\u001b[1;32m      7\u001b[0m                        \u001b[38;5;129;01mand\u001b[39;00m \u001b[38;5;28mset\u001b[39m([a \u001b[38;5;241m%\u001b[39m \u001b[38;5;241m1\u001b[39m \u001b[38;5;28;01mfor\u001b[39;00m a \u001b[38;5;129;01min\u001b[39;00m df[df\u001b[38;5;241m.\u001b[39mcolumns[i]]\u001b[38;5;241m.\u001b[39mdropna()]) \u001b[38;5;241m==\u001b[39m {\u001b[38;5;241m0\u001b[39m}]\n\u001b[1;32m      9\u001b[0m continuous_indexes \u001b[38;5;241m=\u001b[39m [i \u001b[38;5;28;01mfor\u001b[39;00m i, v \u001b[38;5;129;01min\u001b[39;00m \u001b[38;5;28menumerate\u001b[39m(num_unique_vals) \u001b[38;5;28;01mif\u001b[39;00m v \u001b[38;5;241m>\u001b[39m \u001b[38;5;241m100\u001b[39m \u001b[38;5;129;01mor\u001b[39;00m\n\u001b[1;32m     10\u001b[0m                       \u001b[38;5;28mset\u001b[39m([a \u001b[38;5;241m%\u001b[39m \u001b[38;5;241m1\u001b[39m \u001b[38;5;28;01mfor\u001b[39;00m a \u001b[38;5;129;01min\u001b[39;00m df[df\u001b[38;5;241m.\u001b[39mcolumns[i]]\u001b[38;5;241m.\u001b[39mdropna()]) \u001b[38;5;241m!=\u001b[39m {\u001b[38;5;241m0\u001b[39m}]\n\u001b[1;32m     12\u001b[0m cat \u001b[38;5;241m=\u001b[39m \u001b[38;5;28mlist\u001b[39m(df\u001b[38;5;241m.\u001b[39mcolumns[categorical_indexes])\n",
      "Input \u001b[0;32mIn [23]\u001b[0m, in \u001b[0;36m<listcomp>\u001b[0;34m(.0)\u001b[0m\n\u001b[1;32m      3\u001b[0m columns \u001b[38;5;241m=\u001b[39m [\u001b[38;5;28mlist\u001b[39m(df[i]) \u001b[38;5;28;01mfor\u001b[39;00m i \u001b[38;5;129;01min\u001b[39;00m df]  \u001b[38;5;66;03m# Nested list of column values\u001b[39;00m\n\u001b[1;32m      4\u001b[0m num_unique_vals \u001b[38;5;241m=\u001b[39m [\u001b[38;5;28mlen\u001b[39m(\u001b[38;5;28mset\u001b[39m([i \u001b[38;5;28;01mfor\u001b[39;00m i \u001b[38;5;129;01min\u001b[39;00m a \u001b[38;5;28;01mif\u001b[39;00m pd\u001b[38;5;241m.\u001b[39mnotna(i)])) \u001b[38;5;28;01mfor\u001b[39;00m a \u001b[38;5;129;01min\u001b[39;00m columns]  \u001b[38;5;66;03m# Num of unique values in a column\u001b[39;00m\n\u001b[1;32m      6\u001b[0m categorical_indexes \u001b[38;5;241m=\u001b[39m [i \u001b[38;5;28;01mfor\u001b[39;00m i, v \u001b[38;5;129;01min\u001b[39;00m \u001b[38;5;28menumerate\u001b[39m(num_unique_vals) \u001b[38;5;28;01mif\u001b[39;00m v \u001b[38;5;241m<\u001b[39m\u001b[38;5;241m=\u001b[39m \u001b[38;5;241m100\u001b[39m\n\u001b[0;32m----> 7\u001b[0m                        \u001b[38;5;129;01mand\u001b[39;00m \u001b[38;5;28mset\u001b[39m([a \u001b[38;5;241m%\u001b[39m \u001b[38;5;241m1\u001b[39m \u001b[38;5;28;01mfor\u001b[39;00m a \u001b[38;5;129;01min\u001b[39;00m df[df\u001b[38;5;241m.\u001b[39mcolumns[i]]\u001b[38;5;241m.\u001b[39mdropna()]) \u001b[38;5;241m==\u001b[39m {\u001b[38;5;241m0\u001b[39m}]\n\u001b[1;32m      9\u001b[0m continuous_indexes \u001b[38;5;241m=\u001b[39m [i \u001b[38;5;28;01mfor\u001b[39;00m i, v \u001b[38;5;129;01min\u001b[39;00m \u001b[38;5;28menumerate\u001b[39m(num_unique_vals) \u001b[38;5;28;01mif\u001b[39;00m v \u001b[38;5;241m>\u001b[39m \u001b[38;5;241m100\u001b[39m \u001b[38;5;129;01mor\u001b[39;00m\n\u001b[1;32m     10\u001b[0m                       \u001b[38;5;28mset\u001b[39m([a \u001b[38;5;241m%\u001b[39m \u001b[38;5;241m1\u001b[39m \u001b[38;5;28;01mfor\u001b[39;00m a \u001b[38;5;129;01min\u001b[39;00m df[df\u001b[38;5;241m.\u001b[39mcolumns[i]]\u001b[38;5;241m.\u001b[39mdropna()]) \u001b[38;5;241m!=\u001b[39m {\u001b[38;5;241m0\u001b[39m}]\n\u001b[1;32m     12\u001b[0m cat \u001b[38;5;241m=\u001b[39m \u001b[38;5;28mlist\u001b[39m(df\u001b[38;5;241m.\u001b[39mcolumns[categorical_indexes])\n",
      "Input \u001b[0;32mIn [23]\u001b[0m, in \u001b[0;36m<listcomp>\u001b[0;34m(.0)\u001b[0m\n\u001b[1;32m      3\u001b[0m columns \u001b[38;5;241m=\u001b[39m [\u001b[38;5;28mlist\u001b[39m(df[i]) \u001b[38;5;28;01mfor\u001b[39;00m i \u001b[38;5;129;01min\u001b[39;00m df]  \u001b[38;5;66;03m# Nested list of column values\u001b[39;00m\n\u001b[1;32m      4\u001b[0m num_unique_vals \u001b[38;5;241m=\u001b[39m [\u001b[38;5;28mlen\u001b[39m(\u001b[38;5;28mset\u001b[39m([i \u001b[38;5;28;01mfor\u001b[39;00m i \u001b[38;5;129;01min\u001b[39;00m a \u001b[38;5;28;01mif\u001b[39;00m pd\u001b[38;5;241m.\u001b[39mnotna(i)])) \u001b[38;5;28;01mfor\u001b[39;00m a \u001b[38;5;129;01min\u001b[39;00m columns]  \u001b[38;5;66;03m# Num of unique values in a column\u001b[39;00m\n\u001b[1;32m      6\u001b[0m categorical_indexes \u001b[38;5;241m=\u001b[39m [i \u001b[38;5;28;01mfor\u001b[39;00m i, v \u001b[38;5;129;01min\u001b[39;00m \u001b[38;5;28menumerate\u001b[39m(num_unique_vals) \u001b[38;5;28;01mif\u001b[39;00m v \u001b[38;5;241m<\u001b[39m\u001b[38;5;241m=\u001b[39m \u001b[38;5;241m100\u001b[39m\n\u001b[0;32m----> 7\u001b[0m                        \u001b[38;5;129;01mand\u001b[39;00m \u001b[38;5;28mset\u001b[39m([\u001b[43ma\u001b[49m\u001b[43m \u001b[49m\u001b[38;5;241;43m%\u001b[39;49m\u001b[43m \u001b[49m\u001b[38;5;241;43m1\u001b[39;49m \u001b[38;5;28;01mfor\u001b[39;00m a \u001b[38;5;129;01min\u001b[39;00m df[df\u001b[38;5;241m.\u001b[39mcolumns[i]]\u001b[38;5;241m.\u001b[39mdropna()]) \u001b[38;5;241m==\u001b[39m {\u001b[38;5;241m0\u001b[39m}]\n\u001b[1;32m      9\u001b[0m continuous_indexes \u001b[38;5;241m=\u001b[39m [i \u001b[38;5;28;01mfor\u001b[39;00m i, v \u001b[38;5;129;01min\u001b[39;00m \u001b[38;5;28menumerate\u001b[39m(num_unique_vals) \u001b[38;5;28;01mif\u001b[39;00m v \u001b[38;5;241m>\u001b[39m \u001b[38;5;241m100\u001b[39m \u001b[38;5;129;01mor\u001b[39;00m\n\u001b[1;32m     10\u001b[0m                       \u001b[38;5;28mset\u001b[39m([a \u001b[38;5;241m%\u001b[39m \u001b[38;5;241m1\u001b[39m \u001b[38;5;28;01mfor\u001b[39;00m a \u001b[38;5;129;01min\u001b[39;00m df[df\u001b[38;5;241m.\u001b[39mcolumns[i]]\u001b[38;5;241m.\u001b[39mdropna()]) \u001b[38;5;241m!=\u001b[39m {\u001b[38;5;241m0\u001b[39m}]\n\u001b[1;32m     12\u001b[0m cat \u001b[38;5;241m=\u001b[39m \u001b[38;5;28mlist\u001b[39m(df\u001b[38;5;241m.\u001b[39mcolumns[categorical_indexes])\n",
      "\u001b[0;31mTypeError\u001b[0m: not all arguments converted during string formatting"
     ]
    }
   ],
   "source": [
    "cat, con = cat_con_cols(X_train)  # Get the column names of the continuous and nominal data\n",
    "X_train[cat] = X_train[cat].astype('Int64')  # Convert categorical cols values from floats to integers - train\n",
    "X_test[cat] = X_test[cat].astype('Int64')  # Convert categorical cols values from floats to integers - test\n",
    "\n"
   ]
  },
  {
   "cell_type": "code",
   "execution_count": null,
   "id": "6008e3c5",
   "metadata": {},
   "outputs": [],
   "source": []
  },
  {
   "cell_type": "markdown",
   "id": "b663968c",
   "metadata": {},
   "source": [
    "### Normalisation"
   ]
  },
  {
   "cell_type": "code",
   "execution_count": null,
   "id": "223ff798",
   "metadata": {},
   "outputs": [],
   "source": [
    "# Normalised feature scaling\n",
    "def minmax_scaling(df, continuous_data):\n",
    "\n",
    "    outdata = df\n",
    "    scaler = MinMaxScaler()\n",
    "    scaled = scaler.fit_transform(df[continuous_data])\n",
    "    outdata[continuous_data] = scaled\n",
    "\n",
    "    return outdata"
   ]
  },
  {
   "cell_type": "code",
   "execution_count": null,
   "id": "da85969f",
   "metadata": {},
   "outputs": [],
   "source": [
    "X_train = minmax_scaling(X_train, con)"
   ]
  },
  {
   "cell_type": "code",
   "execution_count": null,
   "id": "a91fc0a8",
   "metadata": {},
   "outputs": [],
   "source": []
  },
  {
   "cell_type": "markdown",
   "id": "8cd64071",
   "metadata": {},
   "source": [
    "# RFECV"
   ]
  },
  {
   "cell_type": "code",
   "execution_count": null,
   "id": "903b1d03",
   "metadata": {},
   "outputs": [],
   "source": []
  }
 ],
 "metadata": {
  "kernelspec": {
   "display_name": "ondem_env",
   "language": "python",
   "name": "ondem_env"
  },
  "language_info": {
   "codemirror_mode": {
    "name": "ipython",
    "version": 3
   },
   "file_extension": ".py",
   "mimetype": "text/x-python",
   "name": "python",
   "nbconvert_exporter": "python",
   "pygments_lexer": "ipython3",
   "version": "3.10.5"
  }
 },
 "nbformat": 4,
 "nbformat_minor": 5
}

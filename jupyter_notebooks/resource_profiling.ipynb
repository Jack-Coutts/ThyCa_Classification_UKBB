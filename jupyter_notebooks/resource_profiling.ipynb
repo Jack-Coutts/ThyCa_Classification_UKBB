{
 "cells": [
  {
   "cell_type": "code",
   "execution_count": 1,
   "id": "97149ace",
   "metadata": {},
   "outputs": [
    {
     "name": "stdout",
     "output_type": "stream",
     "text": [
      "Defaulting to user installation because normal site-packages is not writeable\n",
      "Requirement already satisfied: memory_profiler in /data/home/bt211037/.local/lib/python3.9/site-packages (0.60.0)\n",
      "Requirement already satisfied: psutil in /share/apps/centos7/anaconda3/2021.11/lib/python3.9/site-packages (from memory_profiler) (5.8.0)\n"
     ]
    }
   ],
   "source": [
    "! pip install memory_profiler\n",
    "%load_ext memory_profiler "
   ]
  },
  {
   "cell_type": "code",
   "execution_count": 2,
   "id": "32c8f30e",
   "metadata": {},
   "outputs": [],
   "source": [
    "from functions import *"
   ]
  },
  {
   "cell_type": "code",
   "execution_count": 3,
   "id": "83bc832a",
   "metadata": {},
   "outputs": [],
   "source": [
    "random_state = 42"
   ]
  },
  {
   "cell_type": "code",
   "execution_count": 4,
   "id": "7c75d9cc",
   "metadata": {},
   "outputs": [],
   "source": [
    "# Read in data\n",
    "X_train, X_test, y_train, y_test = split_tsv('/data/home/bt211037/dissertation/supervised_ML_data.tsv', random_state)  "
   ]
  },
  {
   "cell_type": "code",
   "execution_count": 5,
   "id": "b4b01628",
   "metadata": {},
   "outputs": [],
   "source": [
    "# Get the column names of the continuous and nominal data\n",
    "cat, con = cat_con_cols(X_train) \n",
    "# Convert categorical cols values from floats to integers - train\n",
    "X_train[cat] = X_train[cat].astype('Int64')  \n",
    "# Convert categorical cols values from floats to integers - test\n",
    "X_test[cat] = X_test[cat].astype('Int64')  "
   ]
  },
  {
   "cell_type": "code",
   "execution_count": 6,
   "id": "5270fe8b",
   "metadata": {},
   "outputs": [],
   "source": [
    "X_train = minmax_scaling(X_train, con)  # Normalisation"
   ]
  },
  {
   "cell_type": "markdown",
   "id": "1674c0be",
   "metadata": {},
   "source": [
    "## Categorical imputation with extratreesclassifier"
   ]
  },
  {
   "cell_type": "code",
   "execution_count": 21,
   "id": "caaded87",
   "metadata": {},
   "outputs": [
    {
     "name": "stderr",
     "output_type": "stream",
     "text": [
      "/data/home/bt211037/.conda/envs/ondem_env/lib/python3.10/site-packages/sklearn/impute/_iterative.py:700: ConvergenceWarning: [IterativeImputer] Early stopping criterion not reached.\n",
      "  warnings.warn(\n",
      "/data/home/bt211037/dissertation/functions.py:74: SettingWithCopyWarning: \n",
      "A value is trying to be set on a copy of a slice from a DataFrame.\n",
      "Try using .loc[row_indexer,col_indexer] = value instead\n",
      "\n",
      "See the caveats in the documentation: https://pandas.pydata.org/pandas-docs/stable/user_guide/indexing.html#returning-a-view-versus-a-copy\n",
      "  df.loc[:, cat] = imputed_cat\n"
     ]
    },
    {
     "name": "stdout",
     "output_type": "stream",
     "text": [
      "30.97033182310406\n",
      "peak memory: 6789.85 MiB, increment: 5204.39 MiB\n"
     ]
    }
   ],
   "source": [
    "%%memit\n",
    "# Categorical imputation 4000 rows\n",
    "time = Stopwatch()\n",
    "X_train_ca_4 = categorical_imputer(X_train[0:4000], cat, random_state)\n",
    "print(time.stop())"
   ]
  },
  {
   "cell_type": "code",
   "execution_count": 8,
   "id": "92b6724e",
   "metadata": {},
   "outputs": [
    {
     "name": "stderr",
     "output_type": "stream",
     "text": [
      "/data/home/bt211037/.conda/envs/ondem_env/lib/python3.10/site-packages/sklearn/impute/_iterative.py:700: ConvergenceWarning: [IterativeImputer] Early stopping criterion not reached.\n",
      "  warnings.warn(\n",
      "/data/home/bt211037/dissertation/functions.py:74: SettingWithCopyWarning: \n",
      "A value is trying to be set on a copy of a slice from a DataFrame.\n",
      "Try using .loc[row_indexer,col_indexer] = value instead\n",
      "\n",
      "See the caveats in the documentation: https://pandas.pydata.org/pandas-docs/stable/user_guide/indexing.html#returning-a-view-versus-a-copy\n",
      "  df.loc[:, cat] = imputed_cat\n"
     ]
    },
    {
     "name": "stdout",
     "output_type": "stream",
     "text": [
      "148.17322739993688\n",
      "peak memory: 60296.97 MiB, increment: 53596.24 MiB\n"
     ]
    }
   ],
   "source": [
    "%%memit\n",
    "# Categorical imputation 40000 rows\n",
    "time = Stopwatch()\n",
    "X_train_ca_40 = categorical_imputer(X_train[0:40000], cat, random_state)\n",
    "print(time.stop())"
   ]
  },
  {
   "cell_type": "markdown",
   "id": "2cdddfd7",
   "metadata": {},
   "source": [
    "## Continuous imputation with bayesianridegclassifer"
   ]
  },
  {
   "cell_type": "code",
   "execution_count": 9,
   "id": "6a3c4463",
   "metadata": {},
   "outputs": [
    {
     "name": "stderr",
     "output_type": "stream",
     "text": [
      "/data/home/bt211037/.conda/envs/ondem_env/lib/python3.10/site-packages/sklearn/impute/_iterative.py:700: ConvergenceWarning: [IterativeImputer] Early stopping criterion not reached.\n",
      "  warnings.warn(\n",
      "/data/home/bt211037/dissertation/functions.py:83: SettingWithCopyWarning: \n",
      "A value is trying to be set on a copy of a slice from a DataFrame.\n",
      "Try using .loc[row_indexer,col_indexer] = value instead\n",
      "\n",
      "See the caveats in the documentation: https://pandas.pydata.org/pandas-docs/stable/user_guide/indexing.html#returning-a-view-versus-a-copy\n",
      "  df.loc[:, con] = imputed_con\n"
     ]
    },
    {
     "name": "stdout",
     "output_type": "stream",
     "text": [
      "49.55575369496364\n",
      "peak memory: 46008.56 MiB, increment: 40.98 MiB\n"
     ]
    }
   ],
   "source": [
    "%%memit\n",
    "# Continuous imputation 4000 rows\n",
    "time = Stopwatch()\n",
    "X_train_co_4 = continuous_data(X_train[0:4000], con, random_state)\n",
    "print(time.stop())"
   ]
  },
  {
   "cell_type": "code",
   "execution_count": null,
   "id": "63a10b7b",
   "metadata": {},
   "outputs": [],
   "source": [
    "%%memit\n",
    "# Continuous imputation 40000 rows\n",
    "time = Stopwatch()\n",
    "X_train_co_40 = continuous_data(X_train, con, random_state)\n",
    "print(time.stop())"
   ]
  },
  {
   "cell_type": "markdown",
   "id": "08da1608",
   "metadata": {},
   "source": [
    "## Categorical imputation with ridge classfier"
   ]
  },
  {
   "cell_type": "code",
   "execution_count": 7,
   "id": "ec8548c9",
   "metadata": {},
   "outputs": [],
   "source": [
    "from sklearn.linear_model import RidgeClassifier"
   ]
  },
  {
   "cell_type": "code",
   "execution_count": 11,
   "id": "e4d89b3c",
   "metadata": {},
   "outputs": [],
   "source": [
    "# Categorical imputation using extratreesclassifier\n",
    "def r_cat_imputer(df, cat, random_state):\n",
    "\n",
    "    cat_imputer = IterativeImputer(estimator=RidgeClassifier(),\n",
    "                                   initial_strategy='most_frequent',\n",
    "                                   max_iter=10, random_state=random_state,\n",
    "                                   verbose=0)\n",
    "\n",
    "    imputed_cat = cat_imputer.fit_transform(df[cat])\n",
    "    df.loc[:, cat] = imputed_cat\n",
    "    return df\n"
   ]
  },
  {
   "cell_type": "code",
   "execution_count": 12,
   "id": "2217c941",
   "metadata": {},
   "outputs": [
    {
     "name": "stdout",
     "output_type": "stream",
     "text": [
      "15.078198442002758\n",
      "peak memory: 1585.36 MiB, increment: 35.46 MiB\n"
     ]
    },
    {
     "name": "stderr",
     "output_type": "stream",
     "text": [
      "/data/home/bt211037/.conda/envs/ondem_env/lib/python3.10/site-packages/sklearn/impute/_iterative.py:700: ConvergenceWarning: [IterativeImputer] Early stopping criterion not reached.\n",
      "  warnings.warn(\n",
      "/tmp/2533441.1.short.q/ipykernel_154216/1325415895.py:10: SettingWithCopyWarning: \n",
      "A value is trying to be set on a copy of a slice from a DataFrame.\n",
      "Try using .loc[row_indexer,col_indexer] = value instead\n",
      "\n",
      "See the caveats in the documentation: https://pandas.pydata.org/pandas-docs/stable/user_guide/indexing.html#returning-a-view-versus-a-copy\n",
      "  df.loc[:, cat] = imputed_cat\n"
     ]
    }
   ],
   "source": [
    "%%memit\n",
    "# Categorical imputation 4000 rows\n",
    "time = Stopwatch()\n",
    "X_train_ca_4 = r_cat_imputer(X_train[0:4000], cat, random_state)\n",
    "print(time.stop())"
   ]
  },
  {
   "cell_type": "code",
   "execution_count": 24,
   "id": "7542c8bc",
   "metadata": {},
   "outputs": [
    {
     "name": "stderr",
     "output_type": "stream",
     "text": [
      "/data/home/bt211037/.conda/envs/ondem_env/lib/python3.10/site-packages/sklearn/impute/_iterative.py:700: ConvergenceWarning: [IterativeImputer] Early stopping criterion not reached.\n",
      "  warnings.warn(\n"
     ]
    },
    {
     "name": "stdout",
     "output_type": "stream",
     "text": [
      "236.03486201900523\n",
      "peak memory: 6737.78 MiB, increment: 395.58 MiB\n"
     ]
    },
    {
     "name": "stderr",
     "output_type": "stream",
     "text": [
      "/tmp/2533441.1.short.q/ipykernel_154216/1325415895.py:10: SettingWithCopyWarning: \n",
      "A value is trying to be set on a copy of a slice from a DataFrame.\n",
      "Try using .loc[row_indexer,col_indexer] = value instead\n",
      "\n",
      "See the caveats in the documentation: https://pandas.pydata.org/pandas-docs/stable/user_guide/indexing.html#returning-a-view-versus-a-copy\n",
      "  df.loc[:, cat] = imputed_cat\n"
     ]
    }
   ],
   "source": [
    "%%memit\n",
    "# Categorical imputation 40000 rows\n",
    "time = Stopwatch()\n",
    "X_train_ca_40 = r_cat_imputer(X_train[0:40000], cat, random_state)\n",
    "print(time.stop())"
   ]
  },
  {
   "cell_type": "code",
   "execution_count": null,
   "id": "dcba87e2",
   "metadata": {},
   "outputs": [],
   "source": []
  },
  {
   "cell_type": "code",
   "execution_count": null,
   "id": "dcd371b8",
   "metadata": {},
   "outputs": [],
   "source": []
  }
 ],
 "metadata": {
  "kernelspec": {
   "display_name": "ondem_env",
   "language": "python",
   "name": "ondem_env"
  },
  "language_info": {
   "codemirror_mode": {
    "name": "ipython",
    "version": 3
   },
   "file_extension": ".py",
   "mimetype": "text/x-python",
   "name": "python",
   "nbconvert_exporter": "python",
   "pygments_lexer": "ipython3",
   "version": "3.10.5"
  }
 },
 "nbformat": 4,
 "nbformat_minor": 5
}

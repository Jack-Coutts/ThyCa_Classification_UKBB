{
 "cells": [
  {
   "cell_type": "markdown",
   "id": "476918ed",
   "metadata": {},
   "source": [
    "# Install"
   ]
  },
  {
   "cell_type": "code",
   "execution_count": 2,
   "id": "56aa5f92",
   "metadata": {},
   "outputs": [
    {
     "name": "stdout",
     "output_type": "stream",
     "text": [
      "Defaulting to user installation because normal site-packages is not writeable\n",
      "Requirement already satisfied: memory_profiler in /data/home/bt211037/.local/lib/python3.9/site-packages (0.60.0)\n",
      "Requirement already satisfied: psutil in /share/apps/centos7/anaconda3/2021.11/lib/python3.9/site-packages (from memory_profiler) (5.8.0)\n"
     ]
    }
   ],
   "source": [
    "! pip install memory_profiler\n",
    "%load_ext memory_profiler "
   ]
  },
  {
   "cell_type": "markdown",
   "id": "e258605f",
   "metadata": {},
   "source": [
    "# Import "
   ]
  },
  {
   "cell_type": "code",
   "execution_count": 3,
   "id": "c740ba50",
   "metadata": {},
   "outputs": [
    {
     "name": "stderr",
     "output_type": "stream",
     "text": [
      "Intel(R) Extension for Scikit-learn* enabled (https://github.com/intel/scikit-learn-intelex)\n"
     ]
    }
   ],
   "source": [
    "import pandas as pd\n",
    "import numpy as np\n",
    "import matplotlib.pyplot as plt\n",
    "\n",
    "from sklearnex import patch_sklearn  # Speeds up sklearn with intel patch\n",
    "patch_sklearn()  # Activate patch - changes sklearn imports below\n",
    "\n",
    "from timeit import default_timer as timer # Time how long commands take\n",
    "from sklearn.model_selection import train_test_split, StratifiedKFold  # test_train split, cross-validation\n",
    "\n",
    "from sklearn.experimental import enable_iterative_imputer  # Iterative imputer experimental so need to enable it\n",
    "from sklearn.impute import IterativeImputer  # Once enabled iterative imputer can be imported\n",
    "\n",
    "from sklearn.linear_model import RidgeClassifier, BayesianRidge  # Imputation\n",
    "from sklearn.preprocessing import MinMaxScaler, OneHotEncoder, OrdinalEncoder  # Normalisation & Encoding\n",
    "from imblearn.under_sampling import TomekLinks, RandomUnderSampler   # Undersampling\n",
    "from imblearn.over_sampling import SMOTENC  # Oversampling\n",
    "from sklearn.feature_selection import RFE, RFECV  # Recursive feature elimination - feature selection\n",
    "from sklearn.pipeline import Pipeline\n",
    "from sklearn.ensemble import ExtraTreesClassifier, RandomForestClassifier  # RFE\n",
    "from sklearn.model_selection import RandomizedSearchCV, GridSearchCV\n",
    "from sklearn.svm import SVC\n",
    "from imblearn.pipeline import Pipeline as imbpipeline\n",
    "\n",
    "from sklearn.impute import KNNImputer\n",
    "from sklearn.compose import ColumnTransformer\n",
    "\n",
    "from sklearn.impute import SimpleImputer\n",
    "from sklearn.metrics import f1_score, confusion_matrix, ConfusionMatrixDisplay, accuracy_score, roc_auc_score\n",
    "from sklearn.model_selection import validation_curve\n",
    "\n",
    "import pickle\n",
    "import shap"
   ]
  },
  {
   "cell_type": "markdown",
   "id": "aa3a17b4",
   "metadata": {},
   "source": [
    "# Variables "
   ]
  },
  {
   "cell_type": "code",
   "execution_count": 4,
   "id": "0dfa1653",
   "metadata": {},
   "outputs": [],
   "source": [
    "# Number of cores being used \n",
    "n_jobs = 10"
   ]
  },
  {
   "cell_type": "code",
   "execution_count": 5,
   "id": "3efc53f9",
   "metadata": {},
   "outputs": [],
   "source": [
    "# Random State\n",
    "random_state = 14"
   ]
  },
  {
   "cell_type": "markdown",
   "id": "5bf7d839",
   "metadata": {},
   "source": [
    "# General Functions"
   ]
  },
  {
   "cell_type": "code",
   "execution_count": 6,
   "id": "79b357df",
   "metadata": {},
   "outputs": [],
   "source": [
    "# Stopwatch to profile function runtimes\n",
    "class Stopwatch:\n",
    "\n",
    "    # Initiate constructor\n",
    "    def __init__(self):\n",
    "        self.start = timer()\n",
    "        self.end = None\n",
    "        self.runtime = None\n",
    "\n",
    "    # Stop stopwatch\n",
    "    def stop(self):\n",
    "        self.end = timer()\n",
    "        self.runtime = self.end - self.start\n",
    "        return self.runtime"
   ]
  },
  {
   "cell_type": "code",
   "execution_count": 7,
   "id": "97fb6ba0",
   "metadata": {},
   "outputs": [],
   "source": [
    "# Find which columns are categorical and which continuous\n",
    "def cat_con_cols(df):\n",
    "    \n",
    "    columns = [list(df[i]) for i in df]  # Nested list of column values\n",
    "    num_unique_vals = [len(set([i for i in a if pd.notna(i)])) for a in columns]  # Num of unique values in a column\n",
    "\n",
    "    categorical_indexes = [i for i, v in enumerate(num_unique_vals) if v <= 100\n",
    "                           and set([a % 1 for a in df[df.columns[i]].dropna()]) == {0}]\n",
    "\n",
    "    continuous_indexes = [i for i, v in enumerate(num_unique_vals) if v > 100 or\n",
    "                          set([a % 1 for a in df[df.columns[i]].dropna()]) != {0}]\n",
    "\n",
    "    cat = list(df.columns[categorical_indexes])\n",
    "    con = list(df.columns[continuous_indexes])\n",
    "    return cat, con"
   ]
  },
  {
   "cell_type": "markdown",
   "id": "06568e44",
   "metadata": {},
   "source": [
    "# Data Cleaning"
   ]
  },
  {
   "cell_type": "code",
   "execution_count": 8,
   "id": "afd094cb",
   "metadata": {},
   "outputs": [],
   "source": [
    "# Read in data\n",
    "df = pd.read_csv('/data/home/bt211037/dissertation/no_leakage_data.tsv',\n",
    "                   sep='\\t', header=0, index_col=0)"
   ]
  },
  {
   "cell_type": "markdown",
   "id": "8c739bd5",
   "metadata": {},
   "source": [
    "### Convert categorical columns to integers "
   ]
  },
  {
   "cell_type": "code",
   "execution_count": 9,
   "id": "3086286d",
   "metadata": {},
   "outputs": [],
   "source": [
    "# Get the column names of the continuous and categorical data\n",
    "cat, con = cat_con_cols(df)  \n",
    "\n",
    "# Convert categorical cols values from floats to integers \n",
    "df[cat] = df[cat].astype('Int64')  "
   ]
  },
  {
   "cell_type": "markdown",
   "id": "ea0cba67",
   "metadata": {},
   "source": [
    "### Separate categorical and Continuous features in dataframe\n",
    "\n",
    "This makes indexing certain features in later processess easier. Continuous features are the first columns followed by categorical.\n"
   ]
  },
  {
   "cell_type": "code",
   "execution_count": 10,
   "id": "98d5d5e0",
   "metadata": {},
   "outputs": [],
   "source": [
    "# Column indexes for categorical and continuous features\n",
    "# Important to exclude target feature - thryoid_cancer\n",
    "categorical_indexes = [i for i, x in enumerate(df.columns[0:374]) if x in cat]\n",
    "continuous_indexes = [i for i, x in enumerate(df.columns) if x in con]\n"
   ]
  },
  {
   "cell_type": "markdown",
   "id": "bd0f35d1",
   "metadata": {},
   "source": [
    "# Test Train Split"
   ]
  },
  {
   "cell_type": "code",
   "execution_count": 11,
   "id": "c434fe52",
   "metadata": {},
   "outputs": [],
   "source": [
    "X_train, X_test, y_train, y_test = train_test_split(df.loc[:, df.columns != 'thyroid_cancer'],\n",
    "                                                        df['thyroid_cancer'],\n",
    "                                                        test_size=0.2,\n",
    "                                                        shuffle=True,\n",
    "                                                        random_state=random_state,\n",
    "                                                        stratify=df['thyroid_cancer'])\n"
   ]
  },
  {
   "cell_type": "markdown",
   "id": "ebb560bf",
   "metadata": {},
   "source": [
    "# Pipeline Components\n"
   ]
  },
  {
   "cell_type": "markdown",
   "id": "75a55b0d",
   "metadata": {},
   "source": [
    "### Imputation\n",
    "\n",
    "- Simple\n",
    "- KNN\n",
    "- Multiple"
   ]
  },
  {
   "cell_type": "code",
   "execution_count": 12,
   "id": "18cf934e",
   "metadata": {},
   "outputs": [],
   "source": [
    "# Simple imputer \n",
    "simp_imputer = ColumnTransformer(\n",
    "        transformers=[\n",
    "            ('num', SimpleImputer(missing_values=np.nan, strategy='median'),\n",
    "             continuous_indexes),\n",
    "\n",
    "            ('cat', SimpleImputer(missing_values=np.nan, strategy='constant',\n",
    "                                  fill_value=4444),\n",
    "             categorical_indexes)\n",
    "\n",
    "        ])\n"
   ]
  },
  {
   "cell_type": "code",
   "execution_count": 13,
   "id": "a6a1481e",
   "metadata": {},
   "outputs": [],
   "source": [
    "# KNN imputer\n",
    "knn_imp = KNNImputer(n_neighbors=1)"
   ]
  },
  {
   "cell_type": "code",
   "execution_count": 14,
   "id": "37afd692",
   "metadata": {},
   "outputs": [],
   "source": [
    "# Multiple imputation with iterative imputer\n",
    "imputer = ColumnTransformer(\n",
    "    transformers=[\n",
    "        ('num', IterativeImputer(initial_strategy='median',\n",
    "                                 max_iter=5,\n",
    "                                 random_state=random_state), \n",
    "         continuous_indexes),\n",
    "        \n",
    "        ('cat', IterativeImputer(estimator=RidgeClassifier(),\n",
    "                                 initial_strategy='most_frequent',\n",
    "                                 max_iter=10, \n",
    "                                 random_state=random_state), \n",
    "         categorical_indexes)\n",
    "    \n",
    "    ])\n"
   ]
  },
  {
   "cell_type": "markdown",
   "id": "42fd5619",
   "metadata": {},
   "source": [
    "### Sampling Methods\n",
    "Tomek Links Undersampling and SMOTENC oversampling will be used to address class imbalance. This will be compared with using no sampling methods."
   ]
  },
  {
   "cell_type": "code",
   "execution_count": 15,
   "id": "cc84fd72",
   "metadata": {},
   "outputs": [],
   "source": [
    "# Tomek Links undersampling\n",
    "tl = TomekLinks(sampling_strategy='majority')"
   ]
  },
  {
   "cell_type": "code",
   "execution_count": 16,
   "id": "4f7ece92",
   "metadata": {},
   "outputs": [],
   "source": [
    "# SMOTE oversampling\n",
    "smote = SMOTENC(random_state=random_state,\n",
    "                categorical_features=categorical_indexes,\n",
    "                sampling_strategy=1)"
   ]
  },
  {
   "cell_type": "markdown",
   "id": "c89e868d",
   "metadata": {},
   "source": [
    "### Predictive model"
   ]
  },
  {
   "cell_type": "code",
   "execution_count": 17,
   "id": "29fe7fd1",
   "metadata": {},
   "outputs": [],
   "source": [
    "# ExtraTrees Model \n",
    "et_model = ExtraTreesClassifier(n_jobs=n_jobs, \n",
    "                                random_state=random_state)"
   ]
  },
  {
   "cell_type": "markdown",
   "id": "cdfdcd01",
   "metadata": {},
   "source": [
    "# Random undersampling for hyperparamter tuning\n",
    "\n",
    "Undersample the majority class in the dataset to provide a smaller dataset for hyperparamter tuning. Training on this smaller dataset even seems to give better results than on the full dataset.\n",
    "\n",
    "Reduces the data from ~300,000 to ~6,000 rows/samples."
   ]
  },
  {
   "cell_type": "code",
   "execution_count": 18,
   "id": "39b6fae3",
   "metadata": {},
   "outputs": [],
   "source": [
    "# Configure random undersampler\n",
    "rus = RandomUnderSampler(sampling_strategy=0.1,\n",
    "                         random_state=random_state)\n"
   ]
  },
  {
   "cell_type": "code",
   "execution_count": 19,
   "id": "5420dcbe",
   "metadata": {},
   "outputs": [],
   "source": [
    "# Create the dataset used for hyperparamter tuning and training\n",
    "X_res, y_res = rus.fit_resample(X_train, y_train.astype('float64'))\n"
   ]
  },
  {
   "cell_type": "code",
   "execution_count": 20,
   "id": "03c0a5f1",
   "metadata": {},
   "outputs": [
    {
     "data": {
      "text/html": [
       "<div>\n",
       "<style scoped>\n",
       "    .dataframe tbody tr th:only-of-type {\n",
       "        vertical-align: middle;\n",
       "    }\n",
       "\n",
       "    .dataframe tbody tr th {\n",
       "        vertical-align: top;\n",
       "    }\n",
       "\n",
       "    .dataframe thead th {\n",
       "        text-align: right;\n",
       "    }\n",
       "</style>\n",
       "<table border=\"1\" class=\"dataframe\">\n",
       "  <thead>\n",
       "    <tr style=\"text-align: right;\">\n",
       "      <th></th>\n",
       "      <th>Weight method|x21_0_0</th>\n",
       "      <th>Spirometry method|x23_0_0</th>\n",
       "      <th>Year of birth|x34_0_0</th>\n",
       "      <th>Hand grip strength (left)|x46_0_0</th>\n",
       "      <th>Hand grip strength (right)|x47_0_0</th>\n",
       "      <th>Waist circumference|x48_0_0</th>\n",
       "      <th>Hip circumference|x49_0_0</th>\n",
       "      <th>Standing height|x50_0_0</th>\n",
       "      <th>Month of birth|x52_0_0</th>\n",
       "      <th>UK Biobank assessment centre|x54_0_0</th>\n",
       "      <th>...</th>\n",
       "      <th>Triglycerides|x30870_0_0</th>\n",
       "      <th>Urate|x30880_0_0</th>\n",
       "      <th>Vitamin D|x30890_0_0</th>\n",
       "      <th>Unadjusted T/S ratio|x22190_0_0</th>\n",
       "      <th>Adjusted T/S ratio|x22191_0_0</th>\n",
       "      <th>Z-adjusted T/S log|x22192_0_0</th>\n",
       "      <th>Creatinine (enzymatic) in urine|x30510_0_0</th>\n",
       "      <th>Potassium in urine|x30520_0_0</th>\n",
       "      <th>Sodium in urine|x30530_0_0</th>\n",
       "      <th>medication_cbi</th>\n",
       "    </tr>\n",
       "  </thead>\n",
       "  <tbody>\n",
       "    <tr>\n",
       "      <th>0</th>\n",
       "      <td>1</td>\n",
       "      <td>&lt;NA&gt;</td>\n",
       "      <td>1946</td>\n",
       "      <td>14</td>\n",
       "      <td>16</td>\n",
       "      <td>79.0</td>\n",
       "      <td>99.0</td>\n",
       "      <td>163.1</td>\n",
       "      <td>7</td>\n",
       "      <td>9</td>\n",
       "      <td>...</td>\n",
       "      <td>1.447</td>\n",
       "      <td>244.1</td>\n",
       "      <td>25.0</td>\n",
       "      <td>0.595666</td>\n",
       "      <td>0.681698</td>\n",
       "      <td>-1.213270</td>\n",
       "      <td>7180.0</td>\n",
       "      <td>82.6</td>\n",
       "      <td>64.1</td>\n",
       "      <td>-1</td>\n",
       "    </tr>\n",
       "    <tr>\n",
       "      <th>1</th>\n",
       "      <td>1</td>\n",
       "      <td>0</td>\n",
       "      <td>1945</td>\n",
       "      <td>24</td>\n",
       "      <td>30</td>\n",
       "      <td>87.0</td>\n",
       "      <td>90.0</td>\n",
       "      <td>174.0</td>\n",
       "      <td>12</td>\n",
       "      <td>7</td>\n",
       "      <td>...</td>\n",
       "      <td>1.395</td>\n",
       "      <td>349.1</td>\n",
       "      <td>28.1</td>\n",
       "      <td>0.622204</td>\n",
       "      <td>0.671039</td>\n",
       "      <td>-1.315270</td>\n",
       "      <td>5908.0</td>\n",
       "      <td>57.7</td>\n",
       "      <td>63.1</td>\n",
       "      <td>-1</td>\n",
       "    </tr>\n",
       "    <tr>\n",
       "      <th>2</th>\n",
       "      <td>1</td>\n",
       "      <td>0</td>\n",
       "      <td>1941</td>\n",
       "      <td>20</td>\n",
       "      <td>20</td>\n",
       "      <td>68.0</td>\n",
       "      <td>101.0</td>\n",
       "      <td>155.0</td>\n",
       "      <td>7</td>\n",
       "      <td>13</td>\n",
       "      <td>...</td>\n",
       "      <td>0.753</td>\n",
       "      <td>265.3</td>\n",
       "      <td>79.2</td>\n",
       "      <td>0.669919</td>\n",
       "      <td>0.785456</td>\n",
       "      <td>-0.296245</td>\n",
       "      <td>3697.0</td>\n",
       "      <td>54.1</td>\n",
       "      <td>31.6</td>\n",
       "      <td>-1</td>\n",
       "    </tr>\n",
       "    <tr>\n",
       "      <th>3</th>\n",
       "      <td>1</td>\n",
       "      <td>0</td>\n",
       "      <td>1947</td>\n",
       "      <td>20</td>\n",
       "      <td>22</td>\n",
       "      <td>68.0</td>\n",
       "      <td>99.0</td>\n",
       "      <td>159.0</td>\n",
       "      <td>4</td>\n",
       "      <td>16</td>\n",
       "      <td>...</td>\n",
       "      <td>0.914</td>\n",
       "      <td>226.8</td>\n",
       "      <td>77.8</td>\n",
       "      <td>0.692000</td>\n",
       "      <td>0.747990</td>\n",
       "      <td>-0.612592</td>\n",
       "      <td>2953.0</td>\n",
       "      <td>19.7</td>\n",
       "      <td>27.0</td>\n",
       "      <td>-1</td>\n",
       "    </tr>\n",
       "    <tr>\n",
       "      <th>4</th>\n",
       "      <td>1</td>\n",
       "      <td>&lt;NA&gt;</td>\n",
       "      <td>1945</td>\n",
       "      <td>18</td>\n",
       "      <td>22</td>\n",
       "      <td>92.0</td>\n",
       "      <td>102.0</td>\n",
       "      <td>166.0</td>\n",
       "      <td>1</td>\n",
       "      <td>6</td>\n",
       "      <td>...</td>\n",
       "      <td>2.187</td>\n",
       "      <td>251.4</td>\n",
       "      <td>50.8</td>\n",
       "      <td>0.775173</td>\n",
       "      <td>0.860506</td>\n",
       "      <td>0.294415</td>\n",
       "      <td>6298.0</td>\n",
       "      <td>46.4</td>\n",
       "      <td>72.9</td>\n",
       "      <td>2</td>\n",
       "    </tr>\n",
       "    <tr>\n",
       "      <th>...</th>\n",
       "      <td>...</td>\n",
       "      <td>...</td>\n",
       "      <td>...</td>\n",
       "      <td>...</td>\n",
       "      <td>...</td>\n",
       "      <td>...</td>\n",
       "      <td>...</td>\n",
       "      <td>...</td>\n",
       "      <td>...</td>\n",
       "      <td>...</td>\n",
       "      <td>...</td>\n",
       "      <td>...</td>\n",
       "      <td>...</td>\n",
       "      <td>...</td>\n",
       "      <td>...</td>\n",
       "      <td>...</td>\n",
       "      <td>...</td>\n",
       "      <td>...</td>\n",
       "      <td>...</td>\n",
       "      <td>...</td>\n",
       "      <td>...</td>\n",
       "    </tr>\n",
       "    <tr>\n",
       "      <th>6034</th>\n",
       "      <td>1</td>\n",
       "      <td>0</td>\n",
       "      <td>1949</td>\n",
       "      <td>22</td>\n",
       "      <td>28</td>\n",
       "      <td>69.0</td>\n",
       "      <td>89.0</td>\n",
       "      <td>160.0</td>\n",
       "      <td>9</td>\n",
       "      <td>20</td>\n",
       "      <td>...</td>\n",
       "      <td>1.155</td>\n",
       "      <td>202.6</td>\n",
       "      <td>65.2</td>\n",
       "      <td>0.814841</td>\n",
       "      <td>0.943346</td>\n",
       "      <td>0.889329</td>\n",
       "      <td>5225.0</td>\n",
       "      <td>38.8</td>\n",
       "      <td>104.1</td>\n",
       "      <td>-1</td>\n",
       "    </tr>\n",
       "    <tr>\n",
       "      <th>6035</th>\n",
       "      <td>1</td>\n",
       "      <td>0</td>\n",
       "      <td>1952</td>\n",
       "      <td>22</td>\n",
       "      <td>26</td>\n",
       "      <td>68.0</td>\n",
       "      <td>90.0</td>\n",
       "      <td>158.0</td>\n",
       "      <td>7</td>\n",
       "      <td>7</td>\n",
       "      <td>...</td>\n",
       "      <td>0.832</td>\n",
       "      <td>224.2</td>\n",
       "      <td>22.8</td>\n",
       "      <td>0.720588</td>\n",
       "      <td>0.807258</td>\n",
       "      <td>-0.119031</td>\n",
       "      <td>7404.0</td>\n",
       "      <td>41.3</td>\n",
       "      <td>114.6</td>\n",
       "      <td>-1</td>\n",
       "    </tr>\n",
       "    <tr>\n",
       "      <th>6036</th>\n",
       "      <td>1</td>\n",
       "      <td>0</td>\n",
       "      <td>1944</td>\n",
       "      <td>12</td>\n",
       "      <td>20</td>\n",
       "      <td>75.0</td>\n",
       "      <td>88.0</td>\n",
       "      <td>158.0</td>\n",
       "      <td>9</td>\n",
       "      <td>8</td>\n",
       "      <td>...</td>\n",
       "      <td>1.379</td>\n",
       "      <td>378.5</td>\n",
       "      <td>48.2</td>\n",
       "      <td>0.627045</td>\n",
       "      <td>0.773057</td>\n",
       "      <td>-0.399232</td>\n",
       "      <td>2878.0</td>\n",
       "      <td>19.9</td>\n",
       "      <td>16.9</td>\n",
       "      <td>1</td>\n",
       "    </tr>\n",
       "    <tr>\n",
       "      <th>6037</th>\n",
       "      <td>1</td>\n",
       "      <td>0</td>\n",
       "      <td>1967</td>\n",
       "      <td>20</td>\n",
       "      <td>28</td>\n",
       "      <td>60.0</td>\n",
       "      <td>88.0</td>\n",
       "      <td>153.0</td>\n",
       "      <td>10</td>\n",
       "      <td>20</td>\n",
       "      <td>...</td>\n",
       "      <td>0.649</td>\n",
       "      <td>238.0</td>\n",
       "      <td>26.0</td>\n",
       "      <td>0.777690</td>\n",
       "      <td>0.926021</td>\n",
       "      <td>0.769352</td>\n",
       "      <td>8685.0</td>\n",
       "      <td>62.9</td>\n",
       "      <td>158.0</td>\n",
       "      <td>-1</td>\n",
       "    </tr>\n",
       "    <tr>\n",
       "      <th>6038</th>\n",
       "      <td>1</td>\n",
       "      <td>0</td>\n",
       "      <td>1943</td>\n",
       "      <td>16</td>\n",
       "      <td>18</td>\n",
       "      <td>86.0</td>\n",
       "      <td>97.0</td>\n",
       "      <td>155.0</td>\n",
       "      <td>3</td>\n",
       "      <td>11</td>\n",
       "      <td>...</td>\n",
       "      <td>2.205</td>\n",
       "      <td>318.1</td>\n",
       "      <td>24.7</td>\n",
       "      <td>0.800998</td>\n",
       "      <td>0.973628</td>\n",
       "      <td>1.093840</td>\n",
       "      <td>2434.0</td>\n",
       "      <td>36.5</td>\n",
       "      <td>21.2</td>\n",
       "      <td>-1</td>\n",
       "    </tr>\n",
       "  </tbody>\n",
       "</table>\n",
       "<p>6039 rows × 374 columns</p>\n",
       "</div>"
      ],
      "text/plain": [
       "      Weight method|x21_0_0  Spirometry method|x23_0_0  Year of birth|x34_0_0  \\\n",
       "0                         1                       <NA>                   1946   \n",
       "1                         1                          0                   1945   \n",
       "2                         1                          0                   1941   \n",
       "3                         1                          0                   1947   \n",
       "4                         1                       <NA>                   1945   \n",
       "...                     ...                        ...                    ...   \n",
       "6034                      1                          0                   1949   \n",
       "6035                      1                          0                   1952   \n",
       "6036                      1                          0                   1944   \n",
       "6037                      1                          0                   1967   \n",
       "6038                      1                          0                   1943   \n",
       "\n",
       "      Hand grip strength (left)|x46_0_0  Hand grip strength (right)|x47_0_0  \\\n",
       "0                                    14                                  16   \n",
       "1                                    24                                  30   \n",
       "2                                    20                                  20   \n",
       "3                                    20                                  22   \n",
       "4                                    18                                  22   \n",
       "...                                 ...                                 ...   \n",
       "6034                                 22                                  28   \n",
       "6035                                 22                                  26   \n",
       "6036                                 12                                  20   \n",
       "6037                                 20                                  28   \n",
       "6038                                 16                                  18   \n",
       "\n",
       "      Waist circumference|x48_0_0  Hip circumference|x49_0_0  \\\n",
       "0                            79.0                       99.0   \n",
       "1                            87.0                       90.0   \n",
       "2                            68.0                      101.0   \n",
       "3                            68.0                       99.0   \n",
       "4                            92.0                      102.0   \n",
       "...                           ...                        ...   \n",
       "6034                         69.0                       89.0   \n",
       "6035                         68.0                       90.0   \n",
       "6036                         75.0                       88.0   \n",
       "6037                         60.0                       88.0   \n",
       "6038                         86.0                       97.0   \n",
       "\n",
       "      Standing height|x50_0_0  Month of birth|x52_0_0  \\\n",
       "0                       163.1                       7   \n",
       "1                       174.0                      12   \n",
       "2                       155.0                       7   \n",
       "3                       159.0                       4   \n",
       "4                       166.0                       1   \n",
       "...                       ...                     ...   \n",
       "6034                    160.0                       9   \n",
       "6035                    158.0                       7   \n",
       "6036                    158.0                       9   \n",
       "6037                    153.0                      10   \n",
       "6038                    155.0                       3   \n",
       "\n",
       "      UK Biobank assessment centre|x54_0_0  ...  Triglycerides|x30870_0_0  \\\n",
       "0                                        9  ...                     1.447   \n",
       "1                                        7  ...                     1.395   \n",
       "2                                       13  ...                     0.753   \n",
       "3                                       16  ...                     0.914   \n",
       "4                                        6  ...                     2.187   \n",
       "...                                    ...  ...                       ...   \n",
       "6034                                    20  ...                     1.155   \n",
       "6035                                     7  ...                     0.832   \n",
       "6036                                     8  ...                     1.379   \n",
       "6037                                    20  ...                     0.649   \n",
       "6038                                    11  ...                     2.205   \n",
       "\n",
       "      Urate|x30880_0_0  Vitamin D|x30890_0_0  Unadjusted T/S ratio|x22190_0_0  \\\n",
       "0                244.1                  25.0                         0.595666   \n",
       "1                349.1                  28.1                         0.622204   \n",
       "2                265.3                  79.2                         0.669919   \n",
       "3                226.8                  77.8                         0.692000   \n",
       "4                251.4                  50.8                         0.775173   \n",
       "...                ...                   ...                              ...   \n",
       "6034             202.6                  65.2                         0.814841   \n",
       "6035             224.2                  22.8                         0.720588   \n",
       "6036             378.5                  48.2                         0.627045   \n",
       "6037             238.0                  26.0                         0.777690   \n",
       "6038             318.1                  24.7                         0.800998   \n",
       "\n",
       "      Adjusted T/S ratio|x22191_0_0  Z-adjusted T/S log|x22192_0_0  \\\n",
       "0                          0.681698                      -1.213270   \n",
       "1                          0.671039                      -1.315270   \n",
       "2                          0.785456                      -0.296245   \n",
       "3                          0.747990                      -0.612592   \n",
       "4                          0.860506                       0.294415   \n",
       "...                             ...                            ...   \n",
       "6034                       0.943346                       0.889329   \n",
       "6035                       0.807258                      -0.119031   \n",
       "6036                       0.773057                      -0.399232   \n",
       "6037                       0.926021                       0.769352   \n",
       "6038                       0.973628                       1.093840   \n",
       "\n",
       "      Creatinine (enzymatic) in urine|x30510_0_0  \\\n",
       "0                                         7180.0   \n",
       "1                                         5908.0   \n",
       "2                                         3697.0   \n",
       "3                                         2953.0   \n",
       "4                                         6298.0   \n",
       "...                                          ...   \n",
       "6034                                      5225.0   \n",
       "6035                                      7404.0   \n",
       "6036                                      2878.0   \n",
       "6037                                      8685.0   \n",
       "6038                                      2434.0   \n",
       "\n",
       "      Potassium in urine|x30520_0_0  Sodium in urine|x30530_0_0  \\\n",
       "0                              82.6                        64.1   \n",
       "1                              57.7                        63.1   \n",
       "2                              54.1                        31.6   \n",
       "3                              19.7                        27.0   \n",
       "4                              46.4                        72.9   \n",
       "...                             ...                         ...   \n",
       "6034                           38.8                       104.1   \n",
       "6035                           41.3                       114.6   \n",
       "6036                           19.9                        16.9   \n",
       "6037                           62.9                       158.0   \n",
       "6038                           36.5                        21.2   \n",
       "\n",
       "      medication_cbi  \n",
       "0                 -1  \n",
       "1                 -1  \n",
       "2                 -1  \n",
       "3                 -1  \n",
       "4                  2  \n",
       "...              ...  \n",
       "6034              -1  \n",
       "6035              -1  \n",
       "6036               1  \n",
       "6037              -1  \n",
       "6038              -1  \n",
       "\n",
       "[6039 rows x 374 columns]"
      ]
     },
     "execution_count": 20,
     "metadata": {},
     "output_type": "execute_result"
    }
   ],
   "source": [
    "X_res"
   ]
  },
  {
   "cell_type": "markdown",
   "id": "4910262b",
   "metadata": {},
   "source": [
    "# Hyperparameter tuning"
   ]
  },
  {
   "cell_type": "markdown",
   "id": "a7472fb7",
   "metadata": {},
   "source": [
    "### KNN imputation"
   ]
  },
  {
   "cell_type": "code",
   "execution_count": 20,
   "id": "7b0379e5",
   "metadata": {},
   "outputs": [],
   "source": [
    "# extra trees classifier pipeline with knn imputation\n",
    "pipeline = imbpipeline(steps = [('imputer', knn_imp),\n",
    "                                    ('tomek', tl),\n",
    "                                    ('smotenc', smote),\n",
    "                                    ('model', et_model)])"
   ]
  },
  {
   "cell_type": "code",
   "execution_count": 21,
   "id": "3a736311",
   "metadata": {},
   "outputs": [],
   "source": [
    "# Parameter to search\n",
    "search_grid = {'model__n_estimators': [100, 200, 500],\n",
    "               'model__max_features': [5, 10, 15, 20, 40],\n",
    "               'model__max_depth': [5, 10, 15, 20],\n",
    "               'model__bootstrap': [True, False]}"
   ]
  },
  {
   "cell_type": "code",
   "execution_count": 22,
   "id": "34dfbe95",
   "metadata": {},
   "outputs": [],
   "source": [
    "# Random search configurations\n",
    "search = GridSearchCV(estimator=pipeline,\n",
    "                      param_grid=search_grid,\n",
    "                      cv=3,\n",
    "                      n_jobs=n_jobs,\n",
    "                      scoring='f1')"
   ]
  },
  {
   "cell_type": "code",
   "execution_count": 23,
   "id": "aafc7bc0",
   "metadata": {},
   "outputs": [
    {
     "name": "stdout",
     "output_type": "stream",
     "text": [
      "1646.0245627649128\n",
      "peak memory: 3434.56 MiB, increment: 788.61 MiB\n"
     ]
    }
   ],
   "source": [
    "%%memit\n",
    "\n",
    "t=Stopwatch()\n",
    "\n",
    "search.fit(X_res, y_res)\n",
    "\n",
    "print(t.stop())"
   ]
  },
  {
   "cell_type": "code",
   "execution_count": 24,
   "id": "5881383f",
   "metadata": {},
   "outputs": [],
   "source": [
    "# Look at results of search\n",
    "search_results = pd.DataFrame(search.cv_results_)"
   ]
  },
  {
   "cell_type": "code",
   "execution_count": 25,
   "id": "6ed0dc56",
   "metadata": {},
   "outputs": [
    {
     "data": {
      "text/plain": [
       "{'model__bootstrap': True,\n",
       " 'model__max_depth': 5,\n",
       " 'model__max_features': 5,\n",
       " 'model__n_estimators': 100}"
      ]
     },
     "execution_count": 25,
     "metadata": {},
     "output_type": "execute_result"
    }
   ],
   "source": [
    "# Find the optimum number of features\n",
    "search.best_params_"
   ]
  },
  {
   "cell_type": "code",
   "execution_count": 26,
   "id": "50fc962d",
   "metadata": {},
   "outputs": [
    {
     "data": {
      "text/plain": [
       "0.15018233857919203"
      ]
     },
     "execution_count": 26,
     "metadata": {},
     "output_type": "execute_result"
    }
   ],
   "source": [
    "# Best score\n",
    "search.best_score_"
   ]
  },
  {
   "cell_type": "markdown",
   "id": "44d3716c",
   "metadata": {},
   "source": [
    "### Simple Imputation"
   ]
  },
  {
   "cell_type": "code",
   "execution_count": 33,
   "id": "32a9b70d",
   "metadata": {},
   "outputs": [],
   "source": [
    "# extra trees classifier pipeline with knn imputation\n",
    "simple_pipeline = imbpipeline(steps = [('imputer', simp_imputer),\n",
    "                                       ('tomek', tl),\n",
    "                                       ('smotenc', smote),\n",
    "                                       ('model', et_model)])"
   ]
  },
  {
   "cell_type": "code",
   "execution_count": 34,
   "id": "820fb6dc",
   "metadata": {},
   "outputs": [],
   "source": [
    "# Parameter to search\n",
    "simple_search_grid = {'model__n_estimators': [100, 200, 500],\n",
    "               'model__max_features': [5, 10, 15, 20, 40],\n",
    "               'model__max_depth': [5, 10, 15, 20],\n",
    "               'model__bootstrap': [True, False]}"
   ]
  },
  {
   "cell_type": "code",
   "execution_count": 35,
   "id": "73b63fca",
   "metadata": {},
   "outputs": [],
   "source": [
    "# Random search configurations\n",
    "simple_search = GridSearchCV(estimator=simple_pipeline,\n",
    "                      param_grid=simple_search_grid,\n",
    "                      cv=3,\n",
    "                      n_jobs=n_jobs,\n",
    "                      scoring='f1')"
   ]
  },
  {
   "cell_type": "code",
   "execution_count": 37,
   "id": "1aa35428",
   "metadata": {},
   "outputs": [
    {
     "name": "stdout",
     "output_type": "stream",
     "text": [
      "516.0656544389203\n",
      "peak memory: 9059.21 MiB, increment: 6257.44 MiB\n"
     ]
    }
   ],
   "source": [
    "%%memit\n",
    "\n",
    "t=Stopwatch()\n",
    "\n",
    "simple_search.fit(X_res, y_res)\n",
    "\n",
    "print(t.stop())"
   ]
  },
  {
   "cell_type": "code",
   "execution_count": 38,
   "id": "c1c3fcee",
   "metadata": {},
   "outputs": [],
   "source": [
    "# Look at results of search\n",
    "simple_search_results = pd.DataFrame(simple_search.cv_results_)"
   ]
  },
  {
   "cell_type": "code",
   "execution_count": 39,
   "id": "23486a78",
   "metadata": {},
   "outputs": [
    {
     "data": {
      "text/plain": [
       "{'model__bootstrap': False,\n",
       " 'model__max_depth': 5,\n",
       " 'model__max_features': 15,\n",
       " 'model__n_estimators': 200}"
      ]
     },
     "execution_count": 39,
     "metadata": {},
     "output_type": "execute_result"
    }
   ],
   "source": [
    "# Find the optimum number of features\n",
    "simple_search.best_params_"
   ]
  },
  {
   "cell_type": "code",
   "execution_count": 40,
   "id": "57284833",
   "metadata": {},
   "outputs": [
    {
     "data": {
      "text/plain": [
       "0.20518272628008724"
      ]
     },
     "execution_count": 40,
     "metadata": {},
     "output_type": "execute_result"
    }
   ],
   "source": [
    "# Best score\n",
    "simple_search.best_score_"
   ]
  },
  {
   "cell_type": "markdown",
   "id": "76f682ac",
   "metadata": {},
   "source": [
    "# Model Training"
   ]
  },
  {
   "cell_type": "markdown",
   "id": "d8dceb4e",
   "metadata": {},
   "source": [
    "### Train on randomly undersampled subset of dataset"
   ]
  },
  {
   "cell_type": "code",
   "execution_count": 21,
   "id": "392570da",
   "metadata": {},
   "outputs": [],
   "source": [
    "# Optimal Model\n",
    "o_model = ExtraTreesClassifier(n_jobs=n_jobs, \n",
    "                               random_state=random_state,\n",
    "                               bootstrap = False,\n",
    "                               max_depth = 5,\n",
    "                               max_features = 15,\n",
    "                               n_estimators = 200\n",
    "                              )"
   ]
  },
  {
   "cell_type": "code",
   "execution_count": 22,
   "id": "8221655f",
   "metadata": {},
   "outputs": [],
   "source": [
    "om_pipeline = imbpipeline(steps = [('imputer', simp_imputer),\n",
    "                                    ('tomek', tl),\n",
    "                                    ('smotenc', smote),\n",
    "                                    ('model', o_model)])"
   ]
  },
  {
   "cell_type": "code",
   "execution_count": 23,
   "id": "4eddd956",
   "metadata": {},
   "outputs": [
    {
     "name": "stdout",
     "output_type": "stream",
     "text": [
      "115.89379008486867\n",
      "peak memory: 55575.27 MiB, increment: 52878.48 MiB\n"
     ]
    }
   ],
   "source": [
    "%%memit\n",
    "\n",
    "# Model Training\n",
    "t=Stopwatch()\n",
    "\n",
    "om_pipeline.fit(X_res, y_res.values.ravel())\n",
    "\n",
    "print(t.stop())"
   ]
  },
  {
   "cell_type": "code",
   "execution_count": 24,
   "id": "cc2b6aa3",
   "metadata": {},
   "outputs": [],
   "source": [
    "# Feature importances\n",
    "feat_imps = om_pipeline.named_steps['model'].feature_importances_"
   ]
  },
  {
   "cell_type": "code",
   "execution_count": 25,
   "id": "99c7ee49",
   "metadata": {},
   "outputs": [],
   "source": [
    "# Predictions on the test data\n",
    "y_preds = om_pipeline.predict(X_test).astype('int64')"
   ]
  },
  {
   "cell_type": "code",
   "execution_count": 26,
   "id": "2ac67fd8",
   "metadata": {},
   "outputs": [
    {
     "data": {
      "text/plain": [
       "0.005005177770107007"
      ]
     },
     "execution_count": 26,
     "metadata": {},
     "output_type": "execute_result"
    }
   ],
   "source": [
    "# Model evaluation\n",
    "f1_score(list(y_test), y_preds)"
   ]
  },
  {
   "cell_type": "code",
   "execution_count": 27,
   "id": "1cc5b6a1",
   "metadata": {},
   "outputs": [
    {
     "data": {
      "text/plain": [
       "0.5334015672506823"
      ]
     },
     "execution_count": 27,
     "metadata": {},
     "output_type": "execute_result"
    }
   ],
   "source": [
    "# AUROC\n",
    "roc_auc_score(list(y_test), y_preds)"
   ]
  },
  {
   "cell_type": "code",
   "execution_count": 28,
   "id": "8117e4a9",
   "metadata": {},
   "outputs": [
    {
     "data": {
      "text/plain": [
       "0.8540081289489345"
      ]
     },
     "execution_count": 28,
     "metadata": {},
     "output_type": "execute_result"
    }
   ],
   "source": [
    "# Accuracy\n",
    "accuracy_score(list(y_test), y_preds)"
   ]
  },
  {
   "cell_type": "code",
   "execution_count": 29,
   "id": "750b339f",
   "metadata": {},
   "outputs": [
    {
     "data": {
      "image/png": "[encoded data removed]",
      "text/plain": [
       "<Figure size 432x288 with 2 Axes>"
      ]
     },
     "metadata": {
      "needs_background": "light"
     },
     "output_type": "display_data"
    }
   ],
   "source": [
    "# Confusion Matrix\n",
    "cm = confusion_matrix(list(y_test), y_preds, labels=om_pipeline.classes_)\n",
    "disp = ConfusionMatrixDisplay(confusion_matrix=cm,\n",
    "                              display_labels=om_pipeline.classes_)\n",
    "disp.plot(cmap='GnBu')\n",
    "plt.show()"
   ]
  },
  {
   "cell_type": "markdown",
   "id": "5f1be45c",
   "metadata": {},
   "source": [
    "# Save optimal model"
   ]
  },
  {
   "cell_type": "code",
   "execution_count": 30,
   "id": "cb8ff68b",
   "metadata": {},
   "outputs": [],
   "source": [
    "model_file = '/data/home/bt211037/dissertation/all_feats_rf_model.pkl'"
   ]
  },
  {
   "cell_type": "code",
   "execution_count": 31,
   "id": "baa0bdc0",
   "metadata": {},
   "outputs": [],
   "source": [
    "pickle.dump(om_pipeline, open(model_file, 'wb'))"
   ]
  },
  {
   "cell_type": "markdown",
   "id": "b16dcb12",
   "metadata": {},
   "source": [
    "# SHAP Analysis "
   ]
  },
  {
   "cell_type": "code",
   "execution_count": 32,
   "id": "54ee1bf6",
   "metadata": {},
   "outputs": [],
   "source": [
    "rf_model = pickle.load(open('/data/home/bt211037/dissertation/all_feats_rf_model.pkl', 'rb'))"
   ]
  },
  {
   "cell_type": "code",
   "execution_count": 33,
   "id": "183dee07",
   "metadata": {},
   "outputs": [
    {
     "data": {
      "text/html": [
       "<style>#sk-container-id-1 {color: black;background-color: white;}#sk-container-id-1 pre{padding: 0;}#sk-container-id-1 div.sk-toggleable {background-color: white;}#sk-container-id-1 label.sk-toggleable__label {cursor: pointer;display: block;width: 100%;margin-bottom: 0;padding: 0.3em;box-sizing: border-box;text-align: center;}#sk-container-id-1 label.sk-toggleable__label-arrow:before {content: \"▸\";float: left;margin-right: 0.25em;color: #696969;}#sk-container-id-1 label.sk-toggleable__label-arrow:hover:before {color: black;}#sk-container-id-1 div.sk-estimator:hover label.sk-toggleable__label-arrow:before {color: black;}#sk-container-id-1 div.sk-toggleable__content {max-height: 0;max-width: 0;overflow: hidden;text-align: left;background-color: #f0f8ff;}#sk-container-id-1 div.sk-toggleable__content pre {margin: 0.2em;color: black;border-radius: 0.25em;background-color: #f0f8ff;}#sk-container-id-1 input.sk-toggleable__control:checked~div.sk-toggleable__content {max-height: 200px;max-width: 100%;overflow: auto;}#sk-container-id-1 input.sk-toggleable__control:checked~label.sk-toggleable__label-arrow:before {content: \"▾\";}#sk-container-id-1 div.sk-estimator input.sk-toggleable__control:checked~label.sk-toggleable__label {background-color: #d4ebff;}#sk-container-id-1 div.sk-label input.sk-toggleable__control:checked~label.sk-toggleable__label {background-color: #d4ebff;}#sk-container-id-1 input.sk-hidden--visually {border: 0;clip: rect(1px 1px 1px 1px);clip: rect(1px, 1px, 1px, 1px);height: 1px;margin: -1px;overflow: hidden;padding: 0;position: absolute;width: 1px;}#sk-container-id-1 div.sk-estimator {font-family: monospace;background-color: #f0f8ff;border: 1px dotted black;border-radius: 0.25em;box-sizing: border-box;margin-bottom: 0.5em;}#sk-container-id-1 div.sk-estimator:hover {background-color: #d4ebff;}#sk-container-id-1 div.sk-parallel-item::after {content: \"\";width: 100%;border-bottom: 1px solid gray;flex-grow: 1;}#sk-container-id-1 div.sk-label:hover label.sk-toggleable__label {background-color: #d4ebff;}#sk-container-id-1 div.sk-serial::before {content: \"\";position: absolute;border-left: 1px solid gray;box-sizing: border-box;top: 0;bottom: 0;left: 50%;z-index: 0;}#sk-container-id-1 div.sk-serial {display: flex;flex-direction: column;align-items: center;background-color: white;padding-right: 0.2em;padding-left: 0.2em;position: relative;}#sk-container-id-1 div.sk-item {position: relative;z-index: 1;}#sk-container-id-1 div.sk-parallel {display: flex;align-items: stretch;justify-content: center;background-color: white;position: relative;}#sk-container-id-1 div.sk-item::before, #sk-container-id-1 div.sk-parallel-item::before {content: \"\";position: absolute;border-left: 1px solid gray;box-sizing: border-box;top: 0;bottom: 0;left: 50%;z-index: -1;}#sk-container-id-1 div.sk-parallel-item {display: flex;flex-direction: column;z-index: 1;position: relative;background-color: white;}#sk-container-id-1 div.sk-parallel-item:first-child::after {align-self: flex-end;width: 50%;}#sk-container-id-1 div.sk-parallel-item:last-child::after {align-self: flex-start;width: 50%;}#sk-container-id-1 div.sk-parallel-item:only-child::after {width: 0;}#sk-container-id-1 div.sk-dashed-wrapped {border: 1px dashed gray;margin: 0 0.4em 0.5em 0.4em;box-sizing: border-box;padding-bottom: 0.4em;background-color: white;}#sk-container-id-1 div.sk-label label {font-family: monospace;font-weight: bold;display: inline-block;line-height: 1.2em;}#sk-container-id-1 div.sk-label-container {text-align: center;}#sk-container-id-1 div.sk-container {/* jupyter's `normalize.less` sets `[hidden] { display: none; }` but bootstrap.min.css set `[hidden] { display: none !important; }` so we also need the `!important` here to be able to override the default hidden behavior on the sphinx rendered scikit-learn.org. See: https://github.com/scikit-learn/scikit-learn/issues/21755 */display: inline-block !important;position: relative;}#sk-container-id-1 div.sk-text-repr-fallback {display: none;}</style><div id=\"sk-container-id-1\" class=\"sk-top-container\"><div class=\"sk-text-repr-fallback\"><pre>Pipeline(steps=[(&#x27;imputer&#x27;,\n",
       "                 ColumnTransformer(transformers=[(&#x27;num&#x27;,\n",
       "                                                  SimpleImputer(strategy=&#x27;median&#x27;),\n",
       "                                                  [5, 6, 7, 11, 12, 14, 15, 17,\n",
       "                                                   20, 25, 31, 32, 33, 34, 35,\n",
       "                                                   54, 55, 56, 57, 68, 70, 73,\n",
       "                                                   74, 77, 114, 135, 136, 137,\n",
       "                                                   144, 145, ...]),\n",
       "                                                 (&#x27;cat&#x27;,\n",
       "                                                  SimpleImputer(fill_value=4444,\n",
       "                                                                strategy=&#x27;constant&#x27;),\n",
       "                                                  [0, 1, 2, 3, 4, 8, 9, 10, 13,\n",
       "                                                   16, 18, 19, 21, 22, 23, 24,\n",
       "                                                   26, 27, 28, 29, 30, 36, 37,\n",
       "                                                   38, 39, 40, 41, 42, 43, 44, ...])])),\n",
       "                (&#x27;tomek&#x27;, TomekLinks(sampling_strategy=&#x27;majority&#x27;)),\n",
       "                (&#x27;smotenc&#x27;,\n",
       "                 SMOTENC(categorical_features=[0, 1, 2, 3, 4, 8, 9, 10, 13, 16,\n",
       "                                               18, 19, 21, 22, 23, 24, 26, 27,\n",
       "                                               28, 29, 30, 36, 37, 38, 39, 40,\n",
       "                                               41, 42, 43, 44, ...],\n",
       "                         random_state=14, sampling_strategy=1)),\n",
       "                (&#x27;model&#x27;,\n",
       "                 ExtraTreesClassifier(max_depth=5, max_features=15,\n",
       "                                      n_estimators=200, n_jobs=10,\n",
       "                                      random_state=14))])</pre><b>In a Jupyter environment, please rerun this cell to show the HTML representation or trust the notebook. <br />On GitHub, the HTML representation is unable to render, please try loading this page with nbviewer.org.</b></div><div class=\"sk-container\" hidden><div class=\"sk-item sk-dashed-wrapped\"><div class=\"sk-label-container\"><div class=\"sk-label sk-toggleable\"><input class=\"sk-toggleable__control sk-hidden--visually\" id=\"sk-estimator-id-1\" type=\"checkbox\" ><label for=\"sk-estimator-id-1\" class=\"sk-toggleable__label sk-toggleable__label-arrow\">Pipeline</label><div class=\"sk-toggleable__content\"><pre>Pipeline(steps=[(&#x27;imputer&#x27;,\n",
       "                 ColumnTransformer(transformers=[(&#x27;num&#x27;,\n",
       "                                                  SimpleImputer(strategy=&#x27;median&#x27;),\n",
       "                                                  [5, 6, 7, 11, 12, 14, 15, 17,\n",
       "                                                   20, 25, 31, 32, 33, 34, 35,\n",
       "                                                   54, 55, 56, 57, 68, 70, 73,\n",
       "                                                   74, 77, 114, 135, 136, 137,\n",
       "                                                   144, 145, ...]),\n",
       "                                                 (&#x27;cat&#x27;,\n",
       "                                                  SimpleImputer(fill_value=4444,\n",
       "                                                                strategy=&#x27;constant&#x27;),\n",
       "                                                  [0, 1, 2, 3, 4, 8, 9, 10, 13,\n",
       "                                                   16, 18, 19, 21, 22, 23, 24,\n",
       "                                                   26, 27, 28, 29, 30, 36, 37,\n",
       "                                                   38, 39, 40, 41, 42, 43, 44, ...])])),\n",
       "                (&#x27;tomek&#x27;, TomekLinks(sampling_strategy=&#x27;majority&#x27;)),\n",
       "                (&#x27;smotenc&#x27;,\n",
       "                 SMOTENC(categorical_features=[0, 1, 2, 3, 4, 8, 9, 10, 13, 16,\n",
       "                                               18, 19, 21, 22, 23, 24, 26, 27,\n",
       "                                               28, 29, 30, 36, 37, 38, 39, 40,\n",
       "                                               41, 42, 43, 44, ...],\n",
       "                         random_state=14, sampling_strategy=1)),\n",
       "                (&#x27;model&#x27;,\n",
       "                 ExtraTreesClassifier(max_depth=5, max_features=15,\n",
       "                                      n_estimators=200, n_jobs=10,\n",
       "                                      random_state=14))])</pre></div></div></div><div class=\"sk-serial\"><div class=\"sk-item sk-dashed-wrapped\"><div class=\"sk-label-container\"><div class=\"sk-label sk-toggleable\"><input class=\"sk-toggleable__control sk-hidden--visually\" id=\"sk-estimator-id-2\" type=\"checkbox\" ><label for=\"sk-estimator-id-2\" class=\"sk-toggleable__label sk-toggleable__label-arrow\">imputer: ColumnTransformer</label><div class=\"sk-toggleable__content\"><pre>ColumnTransformer(transformers=[(&#x27;num&#x27;, SimpleImputer(strategy=&#x27;median&#x27;),\n",
       "                                 [5, 6, 7, 11, 12, 14, 15, 17, 20, 25, 31, 32,\n",
       "                                  33, 34, 35, 54, 55, 56, 57, 68, 70, 73, 74,\n",
       "                                  77, 114, 135, 136, 137, 144, 145, ...]),\n",
       "                                (&#x27;cat&#x27;,\n",
       "                                 SimpleImputer(fill_value=4444,\n",
       "                                               strategy=&#x27;constant&#x27;),\n",
       "                                 [0, 1, 2, 3, 4, 8, 9, 10, 13, 16, 18, 19, 21,\n",
       "                                  22, 23, 24, 26, 27, 28, 29, 30, 36, 37, 38,\n",
       "                                  39, 40, 41, 42, 43, 44, ...])])</pre></div></div></div><div class=\"sk-parallel\"><div class=\"sk-parallel-item\"><div class=\"sk-item\"><div class=\"sk-label-container\"><div class=\"sk-label sk-toggleable\"><input class=\"sk-toggleable__control sk-hidden--visually\" id=\"sk-estimator-id-3\" type=\"checkbox\" ><label for=\"sk-estimator-id-3\" class=\"sk-toggleable__label sk-toggleable__label-arrow\">num</label><div class=\"sk-toggleable__content\"><pre>[5, 6, 7, 11, 12, 14, 15, 17, 20, 25, 31, 32, 33, 34, 35, 54, 55, 56, 57, 68, 70, 73, 74, 77, 114, 135, 136, 137, 144, 145, 162, 163, 164, 165, 166, 175, 176, 177, 178, 179, 183, 184, 185, 186, 187, 188, 189, 190, 191, 192, 193, 194, 195, 196, 197, 198, 199, 200, 201, 202, 203, 204, 205, 206, 207, 208, 209, 210, 211, 212, 213, 214, 215, 216, 217, 218, 219, 220, 221, 222, 223, 224, 225, 229, 232, 233, 234, 235, 236, 237, 238, 239, 240, 241, 242, 243, 244, 245, 246, 247, 248, 249, 250, 251, 252, 253, 254, 255, 256, 257, 258, 259, 260, 261, 262, 263, 264, 265, 266, 267, 268, 269, 270, 271, 272, 273, 274, 275, 276, 277, 278, 279, 281, 282, 283, 284, 285, 286, 287, 288, 289, 290, 291, 292, 293, 294, 295, 296, 297, 298, 299, 300, 301, 302, 303, 304, 305, 306, 307, 308, 309, 310, 311, 312, 313, 314, 315, 316, 317, 318, 319, 320, 321, 322, 323, 324, 325, 326, 327, 328, 329, 330, 331, 332, 333, 334, 335, 336, 337, 339, 340, 341, 342, 343, 344, 345, 346, 347, 348, 349, 350, 351, 352, 353, 354, 355, 356, 357, 358, 359, 360, 361, 362, 363, 364, 365, 366, 367, 368, 369, 370, 371, 372]</pre></div></div></div><div class=\"sk-serial\"><div class=\"sk-item\"><div class=\"sk-estimator sk-toggleable\"><input class=\"sk-toggleable__control sk-hidden--visually\" id=\"sk-estimator-id-4\" type=\"checkbox\" ><label for=\"sk-estimator-id-4\" class=\"sk-toggleable__label sk-toggleable__label-arrow\">SimpleImputer</label><div class=\"sk-toggleable__content\"><pre>SimpleImputer(strategy=&#x27;median&#x27;)</pre></div></div></div></div></div></div><div class=\"sk-parallel-item\"><div class=\"sk-item\"><div class=\"sk-label-container\"><div class=\"sk-label sk-toggleable\"><input class=\"sk-toggleable__control sk-hidden--visually\" id=\"sk-estimator-id-5\" type=\"checkbox\" ><label for=\"sk-estimator-id-5\" class=\"sk-toggleable__label sk-toggleable__label-arrow\">cat</label><div class=\"sk-toggleable__content\"><pre>[0, 1, 2, 3, 4, 8, 9, 10, 13, 16, 18, 19, 21, 22, 23, 24, 26, 27, 28, 29, 30, 36, 37, 38, 39, 40, 41, 42, 43, 44, 45, 46, 47, 48, 49, 50, 51, 52, 53, 58, 59, 60, 61, 62, 63, 64, 65, 66, 67, 69, 71, 72, 75, 76, 78, 79, 80, 81, 82, 83, 84, 85, 86, 87, 88, 89, 90, 91, 92, 93, 94, 95, 96, 97, 98, 99, 100, 101, 102, 103, 104, 105, 106, 107, 108, 109, 110, 111, 112, 113, 115, 116, 117, 118, 119, 120, 121, 122, 123, 124, 125, 126, 127, 128, 129, 130, 131, 132, 133, 134, 138, 139, 140, 141, 142, 143, 146, 147, 148, 149, 150, 151, 152, 153, 154, 155, 156, 157, 158, 159, 160, 161, 167, 168, 169, 170, 171, 172, 173, 174, 180, 181, 182, 226, 227, 228, 230, 231, 280, 338, 373]</pre></div></div></div><div class=\"sk-serial\"><div class=\"sk-item\"><div class=\"sk-estimator sk-toggleable\"><input class=\"sk-toggleable__control sk-hidden--visually\" id=\"sk-estimator-id-6\" type=\"checkbox\" ><label for=\"sk-estimator-id-6\" class=\"sk-toggleable__label sk-toggleable__label-arrow\">SimpleImputer</label><div class=\"sk-toggleable__content\"><pre>SimpleImputer(fill_value=4444, strategy=&#x27;constant&#x27;)</pre></div></div></div></div></div></div></div></div><div class=\"sk-item\"><div class=\"sk-estimator sk-toggleable\"><input class=\"sk-toggleable__control sk-hidden--visually\" id=\"sk-estimator-id-7\" type=\"checkbox\" ><label for=\"sk-estimator-id-7\" class=\"sk-toggleable__label sk-toggleable__label-arrow\">TomekLinks</label><div class=\"sk-toggleable__content\"><pre>TomekLinks(sampling_strategy=&#x27;majority&#x27;)</pre></div></div></div><div class=\"sk-item\"><div class=\"sk-estimator sk-toggleable\"><input class=\"sk-toggleable__control sk-hidden--visually\" id=\"sk-estimator-id-8\" type=\"checkbox\" ><label for=\"sk-estimator-id-8\" class=\"sk-toggleable__label sk-toggleable__label-arrow\">SMOTENC</label><div class=\"sk-toggleable__content\"><pre>SMOTENC(categorical_features=[0, 1, 2, 3, 4, 8, 9, 10, 13, 16, 18, 19, 21, 22,\n",
       "                              23, 24, 26, 27, 28, 29, 30, 36, 37, 38, 39, 40,\n",
       "                              41, 42, 43, 44, ...],\n",
       "        random_state=14, sampling_strategy=1)</pre></div></div></div><div class=\"sk-item\"><div class=\"sk-estimator sk-toggleable\"><input class=\"sk-toggleable__control sk-hidden--visually\" id=\"sk-estimator-id-9\" type=\"checkbox\" ><label for=\"sk-estimator-id-9\" class=\"sk-toggleable__label sk-toggleable__label-arrow\">ExtraTreesClassifier</label><div class=\"sk-toggleable__content\"><pre>ExtraTreesClassifier(max_depth=5, max_features=15, n_estimators=200, n_jobs=10,\n",
       "                     random_state=14)</pre></div></div></div></div></div></div></div>"
      ],
      "text/plain": [
       "Pipeline(steps=[('imputer',\n",
       "                 ColumnTransformer(transformers=[('num',\n",
       "                                                  SimpleImputer(strategy='median'),\n",
       "                                                  [5, 6, 7, 11, 12, 14, 15, 17,\n",
       "                                                   20, 25, 31, 32, 33, 34, 35,\n",
       "                                                   54, 55, 56, 57, 68, 70, 73,\n",
       "                                                   74, 77, 114, 135, 136, 137,\n",
       "                                                   144, 145, ...]),\n",
       "                                                 ('cat',\n",
       "                                                  SimpleImputer(fill_value=4444,\n",
       "                                                                strategy='constant'),\n",
       "                                                  [0, 1, 2, 3, 4, 8, 9, 10, 13,\n",
       "                                                   16, 18, 19, 21, 22, 23, 24,\n",
       "                                                   26, 27, 28, 29, 30, 36, 37,\n",
       "                                                   38, 39, 40, 41, 42, 43, 44, ...])])),\n",
       "                ('tomek', TomekLinks(sampling_strategy='majority')),\n",
       "                ('smotenc',\n",
       "                 SMOTENC(categorical_features=[0, 1, 2, 3, 4, 8, 9, 10, 13, 16,\n",
       "                                               18, 19, 21, 22, 23, 24, 26, 27,\n",
       "                                               28, 29, 30, 36, 37, 38, 39, 40,\n",
       "                                               41, 42, 43, 44, ...],\n",
       "                         random_state=14, sampling_strategy=1)),\n",
       "                ('model',\n",
       "                 ExtraTreesClassifier(max_depth=5, max_features=15,\n",
       "                                      n_estimators=200, n_jobs=10,\n",
       "                                      random_state=14))])"
      ]
     },
     "execution_count": 33,
     "metadata": {},
     "output_type": "execute_result"
    }
   ],
   "source": [
    "rf_model"
   ]
  },
  {
   "cell_type": "code",
   "execution_count": 34,
   "id": "660a984b",
   "metadata": {},
   "outputs": [],
   "source": [
    "def shap_prepro(model, X, y, enc=True):\n",
    "    \n",
    "    # Imputation\n",
    "    imp = model.named_steps['imputer'].fit_transform(X)\n",
    "    # Encoding & Normalisation\n",
    "    if enc:\n",
    "        en_norm = model.named_steps['enc_norm'].fit_transform(imp) \n",
    "        # Tomek\n",
    "        tomek_x, tomek_y = model.named_steps['tomek'].fit_resample(en_norm, y)\n",
    "        # SMOTE\n",
    "        smote_x, smote_y = model.named_steps['smotenc'].fit_resample(tomek_x, tomek_y)\n",
    "        \n",
    "    else:\n",
    "        \n",
    "        tomek_x, tomek_y = model.named_steps['tomek'].fit_resample(imp, y)\n",
    "        # SMOTE\n",
    "        smote_x, smote_y = model.named_steps['smotenc'].fit_resample(tomek_x, tomek_y)\n",
    "        \n",
    "        \n",
    "\n",
    "    return smote_x, smote_y\n",
    "    "
   ]
  },
  {
   "cell_type": "code",
   "execution_count": 35,
   "id": "2a247334",
   "metadata": {},
   "outputs": [],
   "source": [
    "X_shap, y_shap = shap_prepro(rf_model, X_res, y_res, False)"
   ]
  },
  {
   "cell_type": "code",
   "execution_count": 36,
   "id": "fad9dd12",
   "metadata": {},
   "outputs": [],
   "source": [
    "explainer = shap.TreeExplainer(rf_model.named_steps['model'])"
   ]
  },
  {
   "cell_type": "code",
   "execution_count": 37,
   "id": "6020b122",
   "metadata": {},
   "outputs": [],
   "source": [
    "shap_values = explainer.shap_values(X_shap, approximate=False, check_additivity=False)"
   ]
  },
  {
   "cell_type": "code",
   "execution_count": 38,
   "id": "ab087ed4",
   "metadata": {},
   "outputs": [
    {
     "data": {
      "image/png": "[encoded data removed]",
      "text/plain": [
       "<Figure size 576x684 with 2 Axes>"
      ]
     },
     "metadata": {
      "needs_background": "light"
     },
     "output_type": "display_data"
    }
   ],
   "source": [
    "fig = shap.summary_plot(shap_values[1], X_shap, feature_names=list(X_train.columns))"
   ]
  },
  {
   "cell_type": "code",
   "execution_count": null,
   "id": "327d2232",
   "metadata": {},
   "outputs": [],
   "source": []
  }
 ],
 "metadata": {
  "kernelspec": {
   "display_name": "ondem_env",
   "language": "python",
   "name": "ondem_env"
  },
  "language_info": {
   "codemirror_mode": {
    "name": "ipython",
    "version": 3
   },
   "file_extension": ".py",
   "mimetype": "text/x-python",
   "name": "python",
   "nbconvert_exporter": "python",
   "pygments_lexer": "ipython3",
   "version": "3.10.5"
  }
 },
 "nbformat": 4,
 "nbformat_minor": 5
}

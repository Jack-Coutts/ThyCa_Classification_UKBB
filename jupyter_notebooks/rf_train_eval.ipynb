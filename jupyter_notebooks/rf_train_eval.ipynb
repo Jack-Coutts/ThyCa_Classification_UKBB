{
 "cells": [
  {
   "cell_type": "markdown",
   "id": "997cf502",
   "metadata": {
    "pycharm": {
     "name": "#%% md\n"
    }
   },
   "source": [
    "# Install"
   ]
  },
  {
   "cell_type": "code",
   "execution_count": 1,
   "id": "4f3d3be4",
   "metadata": {
    "pycharm": {
     "name": "#%%\n"
    }
   },
   "outputs": [
    {
     "name": "stdout",
     "output_type": "stream",
     "text": [
      "Defaulting to user installation because normal site-packages is not writeable\n",
      "Requirement already satisfied: memory_profiler in /data/home/bt211037/.local/lib/python3.9/site-packages (0.60.0)\n",
      "Requirement already satisfied: psutil in /share/apps/centos7/anaconda3/2021.11/lib/python3.9/site-packages (from memory_profiler) (5.8.0)\n"
     ]
    }
   ],
   "source": [
    "! pip install memory_profiler\n",
    "%load_ext memory_profiler "
   ]
  },
  {
   "cell_type": "markdown",
   "id": "4e4c5e26",
   "metadata": {
    "pycharm": {
     "name": "#%% md\n"
    }
   },
   "source": [
    "# Imports"
   ]
  },
  {
   "cell_type": "code",
   "execution_count": 2,
   "id": "0a5886dc",
   "metadata": {
    "pycharm": {
     "name": "#%%\n"
    }
   },
   "outputs": [
    {
     "name": "stderr",
     "output_type": "stream",
     "text": [
      "Intel(R) Extension for Scikit-learn* enabled (https://github.com/intel/scikit-learn-intelex)\n"
     ]
    }
   ],
   "source": [
    "import pandas as pd\n",
    "import numpy as np\n",
    "import matplotlib.pyplot as plt\n",
    "\n",
    "from sklearnex import patch_sklearn  # Speeds up sklearn with intel patch\n",
    "patch_sklearn()  # Activate patch - changes sklearn imports below\n",
    "\n",
    "from timeit import default_timer as timer # Time how long commands take\n",
    "from sklearn.model_selection import train_test_split, StratifiedKFold  # test_train split, cross-validation\n",
    "\n",
    "from sklearn.experimental import enable_iterative_imputer  # Iterative imputer experimental so need to enable it\n",
    "from sklearn.impute import IterativeImputer  # Once enabled iterative imputer can be imported\n",
    "\n",
    "from sklearn.linear_model import RidgeClassifier, BayesianRidge  # Imputation\n",
    "from sklearn.preprocessing import MinMaxScaler, OneHotEncoder, OrdinalEncoder  # Normalisation & Encoding\n",
    "from imblearn.under_sampling import TomekLinks, RandomUnderSampler   # Undersampling\n",
    "from imblearn.over_sampling import SMOTENC  # Oversampling\n",
    "from sklearn.feature_selection import RFE, RFECV  # Recursive feature elimination - feature selection\n",
    "from sklearn.pipeline import Pipeline\n",
    "from sklearn.ensemble import ExtraTreesClassifier, RandomForestClassifier  # RFE\n",
    "from sklearn.model_selection import RandomizedSearchCV, GridSearchCV\n",
    "from sklearn.svm import SVC\n",
    "from imblearn.pipeline import Pipeline as imbpipeline\n",
    "\n",
    "from sklearn.impute import KNNImputer\n",
    "from sklearn.compose import ColumnTransformer\n",
    "\n",
    "from sklearn.impute import SimpleImputer\n",
    "from sklearn.metrics import f1_score, confusion_matrix, ConfusionMatrixDisplay, accuracy_score\n",
    "from sklearn.model_selection import validation_curve\n",
    "\n",
    "import pickle"
   ]
  },
  {
   "cell_type": "markdown",
   "id": "719f2c2e",
   "metadata": {
    "pycharm": {
     "name": "#%% md\n"
    }
   },
   "source": [
    "# Variables"
   ]
  },
  {
   "cell_type": "code",
   "execution_count": 3,
   "id": "b100d0f4",
   "metadata": {
    "pycharm": {
     "name": "#%%\n"
    }
   },
   "outputs": [],
   "source": [
    "# Number of cores being used \n",
    "n_jobs = 10"
   ]
  },
  {
   "cell_type": "code",
   "execution_count": 4,
   "id": "f8b41647",
   "metadata": {
    "pycharm": {
     "name": "#%%\n"
    }
   },
   "outputs": [],
   "source": [
    "# Random State\n",
    "random_state = 14"
   ]
  },
  {
   "cell_type": "markdown",
   "id": "2174fd0a",
   "metadata": {
    "pycharm": {
     "name": "#%% md\n"
    }
   },
   "source": [
    "# General Functions"
   ]
  },
  {
   "cell_type": "code",
   "execution_count": 5,
   "id": "3b6a035d",
   "metadata": {
    "pycharm": {
     "name": "#%%\n"
    }
   },
   "outputs": [],
   "source": [
    "# Stopwatch to profile function runtimes\n",
    "class Stopwatch:\n",
    "\n",
    "    # Initiate constructor\n",
    "    def __init__(self):\n",
    "        self.start = timer()\n",
    "        self.end = None\n",
    "        self.runtime = None\n",
    "\n",
    "    # Stop stopwatch\n",
    "    def stop(self):\n",
    "        self.end = timer()\n",
    "        self.runtime = self.end - self.start\n",
    "        return self.runtime"
   ]
  },
  {
   "cell_type": "code",
   "execution_count": 6,
   "id": "07fcc798",
   "metadata": {
    "pycharm": {
     "name": "#%%\n"
    }
   },
   "outputs": [],
   "source": [
    "# Find which columns are categorical and which continuous\n",
    "def cat_con_cols(df):\n",
    "    \n",
    "    columns = [list(df[i]) for i in df]  # Nested list of column values\n",
    "    num_unique_vals = [len(set([i for i in a if pd.notna(i)])) for a in columns]  # Num of unique values in a column\n",
    "\n",
    "    categorical_indexes = [i for i, v in enumerate(num_unique_vals) if v <= 100\n",
    "                           and set([a % 1 for a in df[df.columns[i]].dropna()]) == {0}]\n",
    "\n",
    "    continuous_indexes = [i for i, v in enumerate(num_unique_vals) if v > 100 or\n",
    "                          set([a % 1 for a in df[df.columns[i]].dropna()]) != {0}]\n",
    "\n",
    "    cat = list(df.columns[categorical_indexes])\n",
    "    con = list(df.columns[continuous_indexes])\n",
    "    return cat, con"
   ]
  },
  {
   "cell_type": "markdown",
   "id": "4a5e9e2e",
   "metadata": {
    "pycharm": {
     "name": "#%% md\n"
    }
   },
   "source": [
    "# Data Cleaning"
   ]
  },
  {
   "cell_type": "code",
   "execution_count": 7,
   "id": "d9999646",
   "metadata": {
    "pycharm": {
     "name": "#%%\n"
    }
   },
   "outputs": [],
   "source": [
    "# Read in data\n",
    "df = pd.read_csv('/data/home/bt211037/dissertation/feats_selected_dataset.tsv',\n",
    "                   sep='\\t', header=0, index_col=0)"
   ]
  },
  {
   "cell_type": "markdown",
   "id": "a66c6be3",
   "metadata": {
    "pycharm": {
     "name": "#%% md\n"
    }
   },
   "source": [
    "### Convert categorical columns to integers"
   ]
  },
  {
   "cell_type": "code",
   "execution_count": 8,
   "id": "a90d86e1",
   "metadata": {
    "pycharm": {
     "name": "#%%\n"
    }
   },
   "outputs": [],
   "source": [
    "# Get the column names of the continuous and categorical data\n",
    "cat, con = cat_con_cols(df)  "
   ]
  },
  {
   "cell_type": "code",
   "execution_count": 9,
   "id": "bb27a20c",
   "metadata": {
    "pycharm": {
     "name": "#%%\n"
    }
   },
   "outputs": [],
   "source": [
    "# Convert categorical cols values from floats to integers \n",
    "df[cat] = df[cat].astype('Int64')  "
   ]
  },
  {
   "cell_type": "markdown",
   "id": "8761cf0e",
   "metadata": {
    "pycharm": {
     "name": "#%% md\n"
    }
   },
   "source": [
    "### Separate categorical and Continuous features in dataframe¶\n",
    "This makes indexing certain features in later processess easier. Continuous features are the first columns followed by categorical.\n"
   ]
  },
  {
   "cell_type": "code",
   "execution_count": 10,
   "id": "9e0b1c2f",
   "metadata": {
    "pycharm": {
     "name": "#%%\n"
    }
   },
   "outputs": [],
   "source": [
    "df = pd.concat([df[con], df[cat]], axis=1, join=\"inner\")\n",
    "\n",
    "# Column indexes for categorical and continuous features\n",
    "# Important to exclude target feature - thryoid_cancer\n",
    "categorical_indexes = [i for i, x in enumerate(df.columns[0:34]) if x in cat]\n",
    "continuous_indexes = [i for i, x in enumerate(df.columns) if x in con]"
   ]
  },
  {
   "cell_type": "markdown",
   "id": "d3ee8ab1",
   "metadata": {
    "pycharm": {
     "name": "#%% md\n"
    }
   },
   "source": [
    "# Test Train Split"
   ]
  },
  {
   "cell_type": "code",
   "execution_count": 11,
   "id": "b69643ec",
   "metadata": {
    "pycharm": {
     "name": "#%%\n"
    }
   },
   "outputs": [],
   "source": [
    "X_train, X_test, y_train, y_test = train_test_split(df.loc[:, df.columns != 'thyroid_cancer'],\n",
    "                                                        df['thyroid_cancer'],\n",
    "                                                        test_size=0.2,\n",
    "                                                        shuffle=True,\n",
    "                                                        random_state=random_state,\n",
    "                                                        stratify=df['thyroid_cancer'])"
   ]
  },
  {
   "cell_type": "markdown",
   "id": "b8ad2a10",
   "metadata": {
    "pycharm": {
     "name": "#%% md\n"
    }
   },
   "source": [
    "# Pipeline"
   ]
  },
  {
   "cell_type": "markdown",
   "id": "9d565381",
   "metadata": {
    "pycharm": {
     "name": "#%% md\n"
    }
   },
   "source": [
    "### Imputation\n",
    "Testing three types of imputation:\n",
    "- Simple Imputation\n",
    "- Multiple imputation\n",
    "- KNN imputation"
   ]
  },
  {
   "cell_type": "code",
   "execution_count": 12,
   "id": "47b6dad8",
   "metadata": {
    "pycharm": {
     "name": "#%%\n"
    }
   },
   "outputs": [],
   "source": [
    "# Simple imputer \n",
    "simp_imputer = ColumnTransformer(\n",
    "        transformers=[\n",
    "            ('num', SimpleImputer(missing_values=np.nan, strategy='median'),\n",
    "             continuous_indexes),\n",
    "\n",
    "            ('cat', SimpleImputer(missing_values=np.nan, strategy='constant',\n",
    "                                  fill_value=4444),\n",
    "             categorical_indexes)\n",
    "\n",
    "        ])"
   ]
  },
  {
   "cell_type": "code",
   "execution_count": 13,
   "id": "1eb60bd3",
   "metadata": {
    "pycharm": {
     "name": "#%%\n"
    }
   },
   "outputs": [],
   "source": [
    "# Multiple imputation with iterative imputer\n",
    "imputer = ColumnTransformer(\n",
    "    transformers=[\n",
    "        ('num', IterativeImputer(initial_strategy='median',\n",
    "                                 max_iter=5,\n",
    "                                 random_state=random_state), \n",
    "         continuous_indexes),\n",
    "        \n",
    "        ('cat', IterativeImputer(estimator=RidgeClassifier(),\n",
    "                                 initial_strategy='most_frequent',\n",
    "                                 max_iter=10, \n",
    "                                 random_state=random_state), \n",
    "         categorical_indexes)\n",
    "    \n",
    "    ])"
   ]
  },
  {
   "cell_type": "code",
   "execution_count": 14,
   "id": "acf9002e",
   "metadata": {
    "pycharm": {
     "name": "#%%\n"
    }
   },
   "outputs": [],
   "source": [
    "# KNN imputer\n",
    "knn_imp = KNNImputer(n_neighbors=1)"
   ]
  },
  {
   "cell_type": "markdown",
   "id": "cd066d12",
   "metadata": {
    "pycharm": {
     "name": "#%% md\n"
    }
   },
   "source": [
    "### Sampling Methods\n",
    "Tomek Links Undersampling and SMOTENC oversampling will be used to address class imbalance. This will be compared with using no sampling methods."
   ]
  },
  {
   "cell_type": "code",
   "execution_count": 16,
   "id": "bc90a5cc",
   "metadata": {
    "pycharm": {
     "name": "#%%\n"
    }
   },
   "outputs": [],
   "source": [
    "# Tomek Links undersampling\n",
    "tl = TomekLinks(sampling_strategy='majority')"
   ]
  },
  {
   "cell_type": "code",
   "execution_count": 17,
   "id": "89876e05",
   "metadata": {
    "pycharm": {
     "name": "#%%\n"
    }
   },
   "outputs": [],
   "source": [
    "# SMOTE oversampling\n",
    "smote = SMOTENC(random_state=random_state,\n",
    "                categorical_features=categorical_indexes,\n",
    "                sampling_strategy=1)"
   ]
  },
  {
   "cell_type": "markdown",
   "id": "ffc10f79",
   "metadata": {
    "pycharm": {
     "name": "#%% md\n"
    }
   },
   "source": [
    "### Predictive model\n",
    "Will be testing ExtraTreesClassifier and RandomForestClassifer from sklearn."
   ]
  },
  {
   "cell_type": "code",
   "execution_count": 18,
   "id": "44122203",
   "metadata": {
    "pycharm": {
     "name": "#%%\n"
    }
   },
   "outputs": [],
   "source": [
    "# ExtraTrees Model \n",
    "et_model = ExtraTreesClassifier(n_jobs=n_jobs, \n",
    "                                random_state=random_state)"
   ]
  },
  {
   "cell_type": "code",
   "execution_count": 19,
   "id": "78a508e4",
   "metadata": {
    "pycharm": {
     "name": "#%%\n"
    }
   },
   "outputs": [],
   "source": [
    "# RanfomForest model\n",
    "rf_model = RandomForestClassifier(n_jobs=n_jobs, \n",
    "                                  random_state=random_state)"
   ]
  },
  {
   "cell_type": "markdown",
   "id": "f110bad4",
   "metadata": {
    "pycharm": {
     "name": "#%% md\n"
    }
   },
   "source": [
    "# Random Undersampling\n",
    "Undersample the majority class in the dataset to provide a smaller dataset for hyperparamter tuning. Training on this smaller dataset even seems to give better results than on the full dataset.\n",
    "\n",
    "Reduces the data from ~300,000 to ~6,000 rows/samples."
   ]
  },
  {
   "cell_type": "code",
   "execution_count": 20,
   "id": "adeef0a0",
   "metadata": {
    "pycharm": {
     "name": "#%%\n"
    }
   },
   "outputs": [],
   "source": [
    "# Configure random undersampler\n",
    "rus = RandomUnderSampler(sampling_strategy=0.1,\n",
    "                         random_state=random_state)"
   ]
  },
  {
   "cell_type": "code",
   "execution_count": 21,
   "id": "b4f42e4d",
   "metadata": {
    "pycharm": {
     "name": "#%%\n"
    }
   },
   "outputs": [],
   "source": [
    "# Create the dataset used for hyperparamter tuning and training\n",
    "X_res, y_res = rus.fit_resample(X_train, y_train.astype('float64'))"
   ]
  },
  {
   "cell_type": "code",
   "execution_count": 22,
   "id": "ad0c30c4",
   "metadata": {
    "pycharm": {
     "name": "#%%\n"
    }
   },
   "outputs": [
    {
     "data": {
      "text/html": [
       "<div>\n",
       "<style scoped>\n",
       "    .dataframe tbody tr th:only-of-type {\n",
       "        vertical-align: middle;\n",
       "    }\n",
       "\n",
       "    .dataframe tbody tr th {\n",
       "        vertical-align: top;\n",
       "    }\n",
       "\n",
       "    .dataframe thead th {\n",
       "        text-align: right;\n",
       "    }\n",
       "</style>\n",
       "<table border=\"1\" class=\"dataframe\">\n",
       "  <thead>\n",
       "    <tr style=\"text-align: right;\">\n",
       "      <th></th>\n",
       "      <th>Whole body fat-free mass|x23101_0_0</th>\n",
       "      <th>Whole body water mass|x23102_0_0</th>\n",
       "      <th>Leg fat percentage (right)|x23111_0_0</th>\n",
       "      <th>Leg predicted mass (right)|x23114_0_0</th>\n",
       "      <th>Leg fat percentage (left)|x23115_0_0</th>\n",
       "      <th>Leg fat-free mass (left)|x23117_0_0</th>\n",
       "      <th>Leg predicted mass (left)|x23118_0_0</th>\n",
       "      <th>Arm fat-free mass (right)|x23121_0_0</th>\n",
       "      <th>Arm predicted mass (right)|x23122_0_0</th>\n",
       "      <th>Arm fat-free mass (left)|x23125_0_0</th>\n",
       "      <th>...</th>\n",
       "      <th>Other eye problems|x2227_0_0</th>\n",
       "      <th>Falls in the last year|x2296_0_0</th>\n",
       "      <th>Acceptability of each blow result|x3061_0_0</th>\n",
       "      <th>Number of measurements made|x3137_0_0</th>\n",
       "      <th>Illness injury bereavement stress in last 2 years|x6145_0_0</th>\n",
       "      <th>Types of transport used (excluding work)|x6162_0_0</th>\n",
       "      <th>Illnesses of siblings|x20111_0_0</th>\n",
       "      <th>Spirometry QC measure|x20255_0_0</th>\n",
       "      <th>Genetic sex|x22001_0_0</th>\n",
       "      <th>Above moderate/vigorous/walking recommendation|x22036_0_0</th>\n",
       "    </tr>\n",
       "  </thead>\n",
       "  <tbody>\n",
       "    <tr>\n",
       "      <th>0</th>\n",
       "      <td>40.1</td>\n",
       "      <td>29.4</td>\n",
       "      <td>38.0</td>\n",
       "      <td>6.3</td>\n",
       "      <td>38.6</td>\n",
       "      <td>6.5</td>\n",
       "      <td>6.2</td>\n",
       "      <td>2.1</td>\n",
       "      <td>1.9</td>\n",
       "      <td>2.1</td>\n",
       "      <td>...</td>\n",
       "      <td>0</td>\n",
       "      <td>2</td>\n",
       "      <td>&lt;NA&gt;</td>\n",
       "      <td>&lt;NA&gt;</td>\n",
       "      <td>0</td>\n",
       "      <td>1</td>\n",
       "      <td>3</td>\n",
       "      <td>&lt;NA&gt;</td>\n",
       "      <td>0</td>\n",
       "      <td>1</td>\n",
       "    </tr>\n",
       "    <tr>\n",
       "      <th>1</th>\n",
       "      <td>58.6</td>\n",
       "      <td>42.9</td>\n",
       "      <td>11.7</td>\n",
       "      <td>8.8</td>\n",
       "      <td>11.8</td>\n",
       "      <td>9.0</td>\n",
       "      <td>8.5</td>\n",
       "      <td>3.1</td>\n",
       "      <td>2.9</td>\n",
       "      <td>3.3</td>\n",
       "      <td>...</td>\n",
       "      <td>0</td>\n",
       "      <td>1</td>\n",
       "      <td>0</td>\n",
       "      <td>2</td>\n",
       "      <td>0</td>\n",
       "      <td>1</td>\n",
       "      <td>8</td>\n",
       "      <td>1</td>\n",
       "      <td>1</td>\n",
       "      <td>1</td>\n",
       "    </tr>\n",
       "    <tr>\n",
       "      <th>2</th>\n",
       "      <td>37.9</td>\n",
       "      <td>27.7</td>\n",
       "      <td>35.7</td>\n",
       "      <td>6.2</td>\n",
       "      <td>36.6</td>\n",
       "      <td>6.3</td>\n",
       "      <td>6.0</td>\n",
       "      <td>1.8</td>\n",
       "      <td>1.6</td>\n",
       "      <td>1.8</td>\n",
       "      <td>...</td>\n",
       "      <td>1</td>\n",
       "      <td>1</td>\n",
       "      <td>32</td>\n",
       "      <td>2</td>\n",
       "      <td>0</td>\n",
       "      <td>1</td>\n",
       "      <td>9</td>\n",
       "      <td>1</td>\n",
       "      <td>0</td>\n",
       "      <td>1</td>\n",
       "    </tr>\n",
       "    <tr>\n",
       "      <th>3</th>\n",
       "      <td>38.3</td>\n",
       "      <td>28.0</td>\n",
       "      <td>37.7</td>\n",
       "      <td>6.0</td>\n",
       "      <td>36.7</td>\n",
       "      <td>6.4</td>\n",
       "      <td>6.0</td>\n",
       "      <td>1.8</td>\n",
       "      <td>1.7</td>\n",
       "      <td>1.9</td>\n",
       "      <td>...</td>\n",
       "      <td>0</td>\n",
       "      <td>1</td>\n",
       "      <td>0</td>\n",
       "      <td>3</td>\n",
       "      <td>0</td>\n",
       "      <td>1</td>\n",
       "      <td>8</td>\n",
       "      <td>1</td>\n",
       "      <td>0</td>\n",
       "      <td>1</td>\n",
       "    </tr>\n",
       "    <tr>\n",
       "      <th>4</th>\n",
       "      <td>52.3</td>\n",
       "      <td>38.3</td>\n",
       "      <td>39.4</td>\n",
       "      <td>7.9</td>\n",
       "      <td>39.0</td>\n",
       "      <td>8.3</td>\n",
       "      <td>7.9</td>\n",
       "      <td>2.7</td>\n",
       "      <td>2.5</td>\n",
       "      <td>2.8</td>\n",
       "      <td>...</td>\n",
       "      <td>1</td>\n",
       "      <td>1</td>\n",
       "      <td>&lt;NA&gt;</td>\n",
       "      <td>&lt;NA&gt;</td>\n",
       "      <td>2</td>\n",
       "      <td>1</td>\n",
       "      <td>&lt;NA&gt;</td>\n",
       "      <td>&lt;NA&gt;</td>\n",
       "      <td>0</td>\n",
       "      <td>1</td>\n",
       "    </tr>\n",
       "    <tr>\n",
       "      <th>...</th>\n",
       "      <td>...</td>\n",
       "      <td>...</td>\n",
       "      <td>...</td>\n",
       "      <td>...</td>\n",
       "      <td>...</td>\n",
       "      <td>...</td>\n",
       "      <td>...</td>\n",
       "      <td>...</td>\n",
       "      <td>...</td>\n",
       "      <td>...</td>\n",
       "      <td>...</td>\n",
       "      <td>...</td>\n",
       "      <td>...</td>\n",
       "      <td>...</td>\n",
       "      <td>...</td>\n",
       "      <td>...</td>\n",
       "      <td>...</td>\n",
       "      <td>...</td>\n",
       "      <td>...</td>\n",
       "      <td>...</td>\n",
       "      <td>...</td>\n",
       "    </tr>\n",
       "    <tr>\n",
       "      <th>6034</th>\n",
       "      <td>39.4</td>\n",
       "      <td>28.8</td>\n",
       "      <td>23.4</td>\n",
       "      <td>6.3</td>\n",
       "      <td>26.4</td>\n",
       "      <td>6.3</td>\n",
       "      <td>6.0</td>\n",
       "      <td>2.0</td>\n",
       "      <td>1.9</td>\n",
       "      <td>1.9</td>\n",
       "      <td>...</td>\n",
       "      <td>0</td>\n",
       "      <td>1</td>\n",
       "      <td>0</td>\n",
       "      <td>3</td>\n",
       "      <td>0</td>\n",
       "      <td>2</td>\n",
       "      <td>&lt;NA&gt;</td>\n",
       "      <td>2</td>\n",
       "      <td>0</td>\n",
       "      <td>1</td>\n",
       "    </tr>\n",
       "    <tr>\n",
       "      <th>6035</th>\n",
       "      <td>40.2</td>\n",
       "      <td>29.4</td>\n",
       "      <td>33.4</td>\n",
       "      <td>6.3</td>\n",
       "      <td>34.4</td>\n",
       "      <td>6.5</td>\n",
       "      <td>6.1</td>\n",
       "      <td>2.0</td>\n",
       "      <td>1.8</td>\n",
       "      <td>2.0</td>\n",
       "      <td>...</td>\n",
       "      <td>1</td>\n",
       "      <td>1</td>\n",
       "      <td>2</td>\n",
       "      <td>3</td>\n",
       "      <td>0</td>\n",
       "      <td>1</td>\n",
       "      <td>0</td>\n",
       "      <td>&lt;NA&gt;</td>\n",
       "      <td>0</td>\n",
       "      <td>1</td>\n",
       "    </tr>\n",
       "    <tr>\n",
       "      <th>6036</th>\n",
       "      <td>38.6</td>\n",
       "      <td>28.3</td>\n",
       "      <td>41.5</td>\n",
       "      <td>6.1</td>\n",
       "      <td>41.7</td>\n",
       "      <td>6.4</td>\n",
       "      <td>6.0</td>\n",
       "      <td>1.9</td>\n",
       "      <td>1.7</td>\n",
       "      <td>2.0</td>\n",
       "      <td>...</td>\n",
       "      <td>0</td>\n",
       "      <td>3</td>\n",
       "      <td>2</td>\n",
       "      <td>3</td>\n",
       "      <td>0</td>\n",
       "      <td>1</td>\n",
       "      <td>12</td>\n",
       "      <td>&lt;NA&gt;</td>\n",
       "      <td>0</td>\n",
       "      <td>&lt;NA&gt;</td>\n",
       "    </tr>\n",
       "    <tr>\n",
       "      <th>6037</th>\n",
       "      <td>35.9</td>\n",
       "      <td>26.3</td>\n",
       "      <td>33.3</td>\n",
       "      <td>5.8</td>\n",
       "      <td>34.0</td>\n",
       "      <td>6.0</td>\n",
       "      <td>5.6</td>\n",
       "      <td>1.6</td>\n",
       "      <td>1.5</td>\n",
       "      <td>1.6</td>\n",
       "      <td>...</td>\n",
       "      <td>0</td>\n",
       "      <td>1</td>\n",
       "      <td>0</td>\n",
       "      <td>2</td>\n",
       "      <td>0</td>\n",
       "      <td>1</td>\n",
       "      <td>0</td>\n",
       "      <td>&lt;NA&gt;</td>\n",
       "      <td>0</td>\n",
       "      <td>&lt;NA&gt;</td>\n",
       "    </tr>\n",
       "    <tr>\n",
       "      <th>6038</th>\n",
       "      <td>38.6</td>\n",
       "      <td>28.3</td>\n",
       "      <td>42.8</td>\n",
       "      <td>6.1</td>\n",
       "      <td>42.4</td>\n",
       "      <td>6.4</td>\n",
       "      <td>6.1</td>\n",
       "      <td>2.0</td>\n",
       "      <td>1.9</td>\n",
       "      <td>2.0</td>\n",
       "      <td>...</td>\n",
       "      <td>0</td>\n",
       "      <td>1</td>\n",
       "      <td>2</td>\n",
       "      <td>3</td>\n",
       "      <td>0</td>\n",
       "      <td>1</td>\n",
       "      <td>0</td>\n",
       "      <td>2</td>\n",
       "      <td>0</td>\n",
       "      <td>1</td>\n",
       "    </tr>\n",
       "  </tbody>\n",
       "</table>\n",
       "<p>6039 rows × 35 columns</p>\n",
       "</div>"
      ],
      "text/plain": [
       "      Whole body fat-free mass|x23101_0_0  Whole body water mass|x23102_0_0  \\\n",
       "0                                    40.1                              29.4   \n",
       "1                                    58.6                              42.9   \n",
       "2                                    37.9                              27.7   \n",
       "3                                    38.3                              28.0   \n",
       "4                                    52.3                              38.3   \n",
       "...                                   ...                               ...   \n",
       "6034                                 39.4                              28.8   \n",
       "6035                                 40.2                              29.4   \n",
       "6036                                 38.6                              28.3   \n",
       "6037                                 35.9                              26.3   \n",
       "6038                                 38.6                              28.3   \n",
       "\n",
       "      Leg fat percentage (right)|x23111_0_0  \\\n",
       "0                                      38.0   \n",
       "1                                      11.7   \n",
       "2                                      35.7   \n",
       "3                                      37.7   \n",
       "4                                      39.4   \n",
       "...                                     ...   \n",
       "6034                                   23.4   \n",
       "6035                                   33.4   \n",
       "6036                                   41.5   \n",
       "6037                                   33.3   \n",
       "6038                                   42.8   \n",
       "\n",
       "      Leg predicted mass (right)|x23114_0_0  \\\n",
       "0                                       6.3   \n",
       "1                                       8.8   \n",
       "2                                       6.2   \n",
       "3                                       6.0   \n",
       "4                                       7.9   \n",
       "...                                     ...   \n",
       "6034                                    6.3   \n",
       "6035                                    6.3   \n",
       "6036                                    6.1   \n",
       "6037                                    5.8   \n",
       "6038                                    6.1   \n",
       "\n",
       "      Leg fat percentage (left)|x23115_0_0  \\\n",
       "0                                     38.6   \n",
       "1                                     11.8   \n",
       "2                                     36.6   \n",
       "3                                     36.7   \n",
       "4                                     39.0   \n",
       "...                                    ...   \n",
       "6034                                  26.4   \n",
       "6035                                  34.4   \n",
       "6036                                  41.7   \n",
       "6037                                  34.0   \n",
       "6038                                  42.4   \n",
       "\n",
       "      Leg fat-free mass (left)|x23117_0_0  \\\n",
       "0                                     6.5   \n",
       "1                                     9.0   \n",
       "2                                     6.3   \n",
       "3                                     6.4   \n",
       "4                                     8.3   \n",
       "...                                   ...   \n",
       "6034                                  6.3   \n",
       "6035                                  6.5   \n",
       "6036                                  6.4   \n",
       "6037                                  6.0   \n",
       "6038                                  6.4   \n",
       "\n",
       "      Leg predicted mass (left)|x23118_0_0  \\\n",
       "0                                      6.2   \n",
       "1                                      8.5   \n",
       "2                                      6.0   \n",
       "3                                      6.0   \n",
       "4                                      7.9   \n",
       "...                                    ...   \n",
       "6034                                   6.0   \n",
       "6035                                   6.1   \n",
       "6036                                   6.0   \n",
       "6037                                   5.6   \n",
       "6038                                   6.1   \n",
       "\n",
       "      Arm fat-free mass (right)|x23121_0_0  \\\n",
       "0                                      2.1   \n",
       "1                                      3.1   \n",
       "2                                      1.8   \n",
       "3                                      1.8   \n",
       "4                                      2.7   \n",
       "...                                    ...   \n",
       "6034                                   2.0   \n",
       "6035                                   2.0   \n",
       "6036                                   1.9   \n",
       "6037                                   1.6   \n",
       "6038                                   2.0   \n",
       "\n",
       "      Arm predicted mass (right)|x23122_0_0  \\\n",
       "0                                       1.9   \n",
       "1                                       2.9   \n",
       "2                                       1.6   \n",
       "3                                       1.7   \n",
       "4                                       2.5   \n",
       "...                                     ...   \n",
       "6034                                    1.9   \n",
       "6035                                    1.8   \n",
       "6036                                    1.7   \n",
       "6037                                    1.5   \n",
       "6038                                    1.9   \n",
       "\n",
       "      Arm fat-free mass (left)|x23125_0_0  ...  Other eye problems|x2227_0_0  \\\n",
       "0                                     2.1  ...                             0   \n",
       "1                                     3.3  ...                             0   \n",
       "2                                     1.8  ...                             1   \n",
       "3                                     1.9  ...                             0   \n",
       "4                                     2.8  ...                             1   \n",
       "...                                   ...  ...                           ...   \n",
       "6034                                  1.9  ...                             0   \n",
       "6035                                  2.0  ...                             1   \n",
       "6036                                  2.0  ...                             0   \n",
       "6037                                  1.6  ...                             0   \n",
       "6038                                  2.0  ...                             0   \n",
       "\n",
       "      Falls in the last year|x2296_0_0  \\\n",
       "0                                    2   \n",
       "1                                    1   \n",
       "2                                    1   \n",
       "3                                    1   \n",
       "4                                    1   \n",
       "...                                ...   \n",
       "6034                                 1   \n",
       "6035                                 1   \n",
       "6036                                 3   \n",
       "6037                                 1   \n",
       "6038                                 1   \n",
       "\n",
       "      Acceptability of each blow result|x3061_0_0  \\\n",
       "0                                            <NA>   \n",
       "1                                               0   \n",
       "2                                              32   \n",
       "3                                               0   \n",
       "4                                            <NA>   \n",
       "...                                           ...   \n",
       "6034                                            0   \n",
       "6035                                            2   \n",
       "6036                                            2   \n",
       "6037                                            0   \n",
       "6038                                            2   \n",
       "\n",
       "      Number of measurements made|x3137_0_0  \\\n",
       "0                                      <NA>   \n",
       "1                                         2   \n",
       "2                                         2   \n",
       "3                                         3   \n",
       "4                                      <NA>   \n",
       "...                                     ...   \n",
       "6034                                      3   \n",
       "6035                                      3   \n",
       "6036                                      3   \n",
       "6037                                      2   \n",
       "6038                                      3   \n",
       "\n",
       "      Illness injury bereavement stress in last 2 years|x6145_0_0  \\\n",
       "0                                                     0             \n",
       "1                                                     0             \n",
       "2                                                     0             \n",
       "3                                                     0             \n",
       "4                                                     2             \n",
       "...                                                 ...             \n",
       "6034                                                  0             \n",
       "6035                                                  0             \n",
       "6036                                                  0             \n",
       "6037                                                  0             \n",
       "6038                                                  0             \n",
       "\n",
       "      Types of transport used (excluding work)|x6162_0_0  \\\n",
       "0                                                     1    \n",
       "1                                                     1    \n",
       "2                                                     1    \n",
       "3                                                     1    \n",
       "4                                                     1    \n",
       "...                                                 ...    \n",
       "6034                                                  2    \n",
       "6035                                                  1    \n",
       "6036                                                  1    \n",
       "6037                                                  1    \n",
       "6038                                                  1    \n",
       "\n",
       "      Illnesses of siblings|x20111_0_0  Spirometry QC measure|x20255_0_0  \\\n",
       "0                                    3                              <NA>   \n",
       "1                                    8                                 1   \n",
       "2                                    9                                 1   \n",
       "3                                    8                                 1   \n",
       "4                                 <NA>                              <NA>   \n",
       "...                                ...                               ...   \n",
       "6034                              <NA>                                 2   \n",
       "6035                                 0                              <NA>   \n",
       "6036                                12                              <NA>   \n",
       "6037                                 0                              <NA>   \n",
       "6038                                 0                                 2   \n",
       "\n",
       "      Genetic sex|x22001_0_0  \\\n",
       "0                          0   \n",
       "1                          1   \n",
       "2                          0   \n",
       "3                          0   \n",
       "4                          0   \n",
       "...                      ...   \n",
       "6034                       0   \n",
       "6035                       0   \n",
       "6036                       0   \n",
       "6037                       0   \n",
       "6038                       0   \n",
       "\n",
       "      Above moderate/vigorous/walking recommendation|x22036_0_0  \n",
       "0                                                     1          \n",
       "1                                                     1          \n",
       "2                                                     1          \n",
       "3                                                     1          \n",
       "4                                                     1          \n",
       "...                                                 ...          \n",
       "6034                                                  1          \n",
       "6035                                                  1          \n",
       "6036                                               <NA>          \n",
       "6037                                               <NA>          \n",
       "6038                                                  1          \n",
       "\n",
       "[6039 rows x 35 columns]"
      ]
     },
     "execution_count": 22,
     "metadata": {},
     "output_type": "execute_result"
    }
   ],
   "source": [
    "X_res"
   ]
  },
  {
   "cell_type": "markdown",
   "id": "e9284525",
   "metadata": {
    "pycharm": {
     "name": "#%% md\n"
    }
   },
   "source": [
    "# Training"
   ]
  },
  {
   "cell_type": "code",
   "execution_count": 23,
   "id": "0846848a",
   "metadata": {
    "pycharm": {
     "name": "#%%\n"
    }
   },
   "outputs": [],
   "source": [
    "# Training on undersampled dataset"
   ]
  },
  {
   "cell_type": "code",
   "execution_count": 24,
   "id": "a2819f8a",
   "metadata": {
    "pycharm": {
     "name": "#%%\n"
    }
   },
   "outputs": [],
   "source": [
    "# Optimal Model\n",
    "o_model = ExtraTreesClassifier(n_jobs=n_jobs, \n",
    "                               random_state=random_state,\n",
    "                               bootstrap = True,\n",
    "                               max_depth = 5,\n",
    "                               max_features = 40,\n",
    "                               n_estimators = 500\n",
    "                              )"
   ]
  },
  {
   "cell_type": "code",
   "execution_count": 25,
   "id": "2ed51ad2",
   "metadata": {
    "pycharm": {
     "name": "#%%\n"
    }
   },
   "outputs": [],
   "source": [
    "simp_et_pipe = imbpipeline(steps = [('imputer', simp_imputer),\n",
    "                                    ('tomek', tl),\n",
    "                                    ('smotenc', smote),\n",
    "                                    ('model', o_model)])"
   ]
  },
  {
   "cell_type": "code",
   "execution_count": 26,
   "id": "26f136b4",
   "metadata": {
    "pycharm": {
     "name": "#%%\n"
    }
   },
   "outputs": [
    {
     "name": "stdout",
     "output_type": "stream",
     "text": [
      "2.0061046155169606\n",
      "peak memory: 513.34 MiB, increment: 18.58 MiB\n"
     ]
    }
   ],
   "source": [
    "%%memit\n",
    "\n",
    "# Model Training\n",
    "t=Stopwatch()\n",
    "\n",
    "simp_et_pipe.fit(X_res, y_res.values.ravel())\n",
    "\n",
    "print(t.stop())"
   ]
  },
  {
   "cell_type": "code",
   "execution_count": 27,
   "id": "0bc0fe45",
   "metadata": {
    "pycharm": {
     "name": "#%%\n"
    }
   },
   "outputs": [],
   "source": [
    "# Predictions on the test data\n",
    "y_preds = simp_et_pipe.predict(X_test)"
   ]
  },
  {
   "cell_type": "code",
   "execution_count": 28,
   "id": "7ede0055",
   "metadata": {
    "pycharm": {
     "name": "#%%\n"
    }
   },
   "outputs": [],
   "source": [
    "y_test = list(y_test)"
   ]
  },
  {
   "cell_type": "code",
   "execution_count": 29,
   "id": "5b384ba5",
   "metadata": {
    "pycharm": {
     "name": "#%%\n"
    }
   },
   "outputs": [],
   "source": [
    "y_preds = y_preds.astype('int64')"
   ]
  },
  {
   "cell_type": "code",
   "execution_count": 30,
   "id": "9435eb45",
   "metadata": {
    "pycharm": {
     "name": "#%%\n"
    }
   },
   "outputs": [
    {
     "data": {
      "text/plain": [
       "0.004594683295044306"
      ]
     },
     "execution_count": 30,
     "metadata": {},
     "output_type": "execute_result"
    }
   ],
   "source": [
    "# Model evaluation\n",
    "f1_score(y_test, y_preds)"
   ]
  },
  {
   "cell_type": "code",
   "execution_count": 31,
   "id": "6f57722f",
   "metadata": {
    "pycharm": {
     "name": "#%%\n"
    }
   },
   "outputs": [
    {
     "data": {
      "text/plain": [
       "0.6543677273130152"
      ]
     },
     "execution_count": 31,
     "metadata": {},
     "output_type": "execute_result"
    }
   ],
   "source": [
    "accuracy_score(y_test, y_preds)"
   ]
  },
  {
   "cell_type": "code",
   "execution_count": 33,
   "id": "345994fa",
   "metadata": {
    "pycharm": {
     "name": "#%%\n"
    }
   },
   "outputs": [
    {
     "data": {
      "image/png": "[encoded data removed]",
      "text/plain": [
       "<Figure size 432x288 with 2 Axes>"
      ]
     },
     "metadata": {
      "needs_background": "light"
     },
     "output_type": "display_data"
    }
   ],
   "source": [
    "# Confusion Matrix\n",
    "cm = confusion_matrix(y_test, y_preds, labels=simp_et_pipe.classes_)\n",
    "disp = ConfusionMatrixDisplay(confusion_matrix=cm,\n",
    "                              display_labels=simp_et_pipe.classes_)\n",
    "disp.plot(cmap='GnBu')\n",
    "plt.show()"
   ]
  },
  {
   "cell_type": "code",
   "execution_count": 34,
   "id": "6bce4a23",
   "metadata": {
    "pycharm": {
     "name": "#%%\n"
    }
   },
   "outputs": [],
   "source": [
    "# Train on full dataset"
   ]
  },
  {
   "cell_type": "code",
   "execution_count": 37,
   "id": "14478033",
   "metadata": {
    "pycharm": {
     "name": "#%%\n"
    }
   },
   "outputs": [],
   "source": [
    "full_simp_et_pipe = imbpipeline(steps = [('imputer', simp_imputer),\n",
    "                                    ('tomek', tl),\n",
    "                                    ('smotenc', smote),\n",
    "                                    ('model', o_model)])"
   ]
  },
  {
   "cell_type": "code",
   "execution_count": 38,
   "id": "0f868ded",
   "metadata": {
    "pycharm": {
     "name": "#%%\n"
    }
   },
   "outputs": [
    {
     "name": "stdout",
     "output_type": "stream",
     "text": [
      "133.5270842248574\n",
      "peak memory: 4906.55 MiB, increment: 4353.67 MiB\n"
     ]
    }
   ],
   "source": [
    "%%memit\n",
    "\n",
    "# Model Training\n",
    "t=Stopwatch()\n",
    "\n",
    "full_simp_et_pipe.fit(X_train, list(y_train))\n",
    "\n",
    "print(t.stop())"
   ]
  },
  {
   "cell_type": "code",
   "execution_count": 40,
   "id": "0c0a00f2",
   "metadata": {
    "pycharm": {
     "name": "#%%\n"
    }
   },
   "outputs": [],
   "source": [
    "# Predictions on the test data\n",
    "full_y_preds = full_simp_et_pipe.predict(X_test)"
   ]
  },
  {
   "cell_type": "code",
   "execution_count": 41,
   "id": "c4cb60e7",
   "metadata": {
    "pycharm": {
     "name": "#%%\n"
    }
   },
   "outputs": [],
   "source": [
    "full_y_test = list(y_test)"
   ]
  },
  {
   "cell_type": "code",
   "execution_count": 42,
   "id": "7d8d0c24",
   "metadata": {
    "pycharm": {
     "name": "#%%\n"
    }
   },
   "outputs": [],
   "source": [
    "full_y_preds = full_y_preds.astype('int64')"
   ]
  },
  {
   "cell_type": "code",
   "execution_count": 43,
   "id": "b23a274c",
   "metadata": {
    "pycharm": {
     "name": "#%%\n"
    }
   },
   "outputs": [
    {
     "data": {
      "text/plain": [
       "0.004919786096256685"
      ]
     },
     "execution_count": 43,
     "metadata": {},
     "output_type": "execute_result"
    }
   ],
   "source": [
    "# Model evaluation\n",
    "f1_score(full_y_test, full_y_preds)"
   ]
  },
  {
   "cell_type": "code",
   "execution_count": 44,
   "id": "cb947f98",
   "metadata": {
    "pycharm": {
     "name": "#%%\n"
    }
   },
   "outputs": [
    {
     "data": {
      "text/plain": [
       "0.6465806500626765"
      ]
     },
     "execution_count": 44,
     "metadata": {},
     "output_type": "execute_result"
    }
   ],
   "source": [
    "accuracy_score(full_y_test, full_y_preds)"
   ]
  },
  {
   "cell_type": "code",
   "execution_count": 45,
   "id": "4e4ae7e7",
   "metadata": {
    "pycharm": {
     "name": "#%%\n"
    }
   },
   "outputs": [
    {
     "data": {
      "image/png": "[encoded data removed]",
      "text/plain": [
       "<Figure size 432x288 with 2 Axes>"
      ]
     },
     "metadata": {
      "needs_background": "light"
     },
     "output_type": "display_data"
    }
   ],
   "source": [
    "# Confusion Matrix\n",
    "full_cm = confusion_matrix(full_y_test, full_y_preds, labels=full_simp_et_pipe.classes_)\n",
    "disp = ConfusionMatrixDisplay(confusion_matrix=full_cm,\n",
    "                              display_labels=full_simp_et_pipe.classes_)\n",
    "disp.plot(cmap='GnBu')\n",
    "plt.show()"
   ]
  },
  {
   "cell_type": "markdown",
   "id": "83e5ef49",
   "metadata": {
    "pycharm": {
     "name": "#%% md\n"
    }
   },
   "source": [
    "# Save Model"
   ]
  },
  {
   "cell_type": "code",
   "execution_count": 46,
   "id": "7b41a1ae",
   "metadata": {
    "pycharm": {
     "name": "#%%\n"
    }
   },
   "outputs": [],
   "source": [
    "# Saving best performing model\n",
    "\n",
    "model_file = '/data/home/bt211037/dissertation/rf_model.pkl'\n",
    "\n",
    "pickle.dump(full_simp_et_pipe, open(model_file, 'wb'))"
   ]
  },
  {
   "cell_type": "code",
   "execution_count": null,
   "id": "cf7d2c0d",
   "metadata": {
    "pycharm": {
     "name": "#%%\n"
    }
   },
   "outputs": [],
   "source": []
  }
 ],
 "metadata": {
  "kernelspec": {
   "display_name": "ondem_env",
   "language": "python",
   "name": "ondem_env"
  },
  "language_info": {
   "codemirror_mode": {
    "name": "ipython",
    "version": 3
   },
   "file_extension": ".py",
   "mimetype": "text/x-python",
   "name": "python",
   "nbconvert_exporter": "python",
   "pygments_lexer": "ipython3",
   "version": "3.10.5"
  }
 },
 "nbformat": 4,
 "nbformat_minor": 5
}
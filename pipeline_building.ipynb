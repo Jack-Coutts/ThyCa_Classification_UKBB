{
 "cells": [
  {
   "cell_type": "markdown",
   "id": "0db695cc",
   "metadata": {
    "pycharm": {
     "name": "#%% md\n"
    }
   },
   "source": [
    "# Install "
   ]
  },
  {
   "cell_type": "code",
   "execution_count": 1,
   "id": "cba86d01",
   "metadata": {
    "pycharm": {
     "name": "#%%\n"
    }
   },
   "outputs": [
    {
     "name": "stdout",
     "output_type": "stream",
     "text": [
      "Defaulting to user installation because normal site-packages is not writeable\n",
      "Requirement already satisfied: memory_profiler in /data/home/bt211037/.local/lib/python3.9/site-packages (0.60.0)\n",
      "Requirement already satisfied: psutil in /share/apps/centos7/anaconda3/2021.11/lib/python3.9/site-packages (from memory_profiler) (5.8.0)\n"
     ]
    }
   ],
   "source": [
    "! pip install memory_profiler\n",
    "%load_ext memory_profiler "
   ]
  },
  {
   "cell_type": "markdown",
   "id": "56655ca6",
   "metadata": {
    "pycharm": {
     "name": "#%% md\n"
    }
   },
   "source": [
    "# Import "
   ]
  },
  {
   "cell_type": "code",
   "execution_count": 2,
   "id": "0e94d4e5",
   "metadata": {
    "pycharm": {
     "name": "#%%\n"
    }
   },
   "outputs": [
    {
     "name": "stderr",
     "output_type": "stream",
     "text": [
      "Intel(R) Extension for Scikit-learn* enabled (https://github.com/intel/scikit-learn-intelex)\n"
     ]
    }
   ],
   "source": [
    "import pandas as pd\n",
    "import numpy as np\n",
    "import matplotlib.pyplot as plt\n",
    "\n",
    "from sklearnex import patch_sklearn  # Speeds up sklearn with intel patch\n",
    "patch_sklearn()  # Activate patch - changes sklearn imports below\n",
    "\n",
    "from timeit import default_timer as timer # Time how long commands take\n",
    "from sklearn.model_selection import train_test_split, StratifiedKFold  # test_train split, cross-validation\n",
    "\n",
    "from sklearn.experimental import enable_iterative_imputer  # Iterative imputer experimental so need to enable it\n",
    "from sklearn.impute import IterativeImputer  # Once enabled iterative imputer can be imported\n",
    "\n",
    "from sklearn.linear_model import RidgeClassifier, BayesianRidge  # Imputation\n",
    "from sklearn.preprocessing import MinMaxScaler, OneHotEncoder, OrdinalEncoder  # Normalisation & Encoding\n",
    "from imblearn.under_sampling import TomekLinks  # Undersampling\n",
    "from imblearn.over_sampling import SMOTENC  # Oversampling\n",
    "from sklearn.feature_selection import RFE, RFECV  # Recursive feature elimination - feature selection\n",
    "from sklearn.pipeline import Pipeline\n",
    "from sklearn.ensemble import ExtraTreesClassifier  # RFE\n",
    "from sklearn.model_selection import RandomizedSearchCV, GridSearchCV\n",
    "from sklearn.svm import SVC\n",
    "from imblearn.pipeline import Pipeline as imbpipeline\n",
    "\n",
    "from sklearn.impute import KNNImputer\n",
    "from sklearn.compose import ColumnTransformer\n",
    "\n",
    "\n"
   ]
  },
  {
   "cell_type": "markdown",
   "id": "19ad0e9f",
   "metadata": {
    "pycharm": {
     "name": "#%% md\n"
    }
   },
   "source": [
    "# Random State"
   ]
  },
  {
   "cell_type": "code",
   "execution_count": 3,
   "id": "c2d0d762",
   "metadata": {
    "pycharm": {
     "name": "#%%\n"
    }
   },
   "outputs": [],
   "source": [
    "random_state=0"
   ]
  },
  {
   "cell_type": "markdown",
   "id": "8e1b1bed",
   "metadata": {
    "pycharm": {
     "name": "#%% md\n"
    }
   },
   "source": [
    "# General Functions"
   ]
  },
  {
   "cell_type": "code",
   "execution_count": 4,
   "id": "3f1e18f4",
   "metadata": {
    "pycharm": {
     "name": "#%%\n"
    }
   },
   "outputs": [],
   "source": [
    "# Stopwatch to profile function runtimes\n",
    "class Stopwatch:\n",
    "\n",
    "    # Initiate constructor\n",
    "    def __init__(self):\n",
    "        self.start = timer()\n",
    "        self.end = None\n",
    "        self.runtime = None\n",
    "\n",
    "    # Stop stopwatch\n",
    "    def stop(self):\n",
    "        self.end = timer()\n",
    "        self.runtime = self.end - self.start\n",
    "        return self.runtime"
   ]
  },
  {
   "cell_type": "code",
   "execution_count": null,
   "id": "b0dc381b",
   "metadata": {
    "pycharm": {
     "name": "#%%\n"
    }
   },
   "outputs": [],
   "source": []
  },
  {
   "cell_type": "markdown",
   "id": "3d641151",
   "metadata": {
    "pycharm": {
     "name": "#%% md\n"
    }
   },
   "source": [
    "# Data Cleaning"
   ]
  },
  {
   "cell_type": "code",
   "execution_count": 5,
   "id": "bf24371e",
   "metadata": {
    "pycharm": {
     "name": "#%%\n"
    }
   },
   "outputs": [],
   "source": [
    "# Read in data\n",
    "df = pd.read_csv('/data/home/bt211037/dissertation/supervised_ML_data.tsv',\n",
    "                   sep='\\t', header=0, index_col=0)\n"
   ]
  },
  {
   "cell_type": "code",
   "execution_count": null,
   "id": "68a6bfa9",
   "metadata": {
    "pycharm": {
     "name": "#%%\n"
    }
   },
   "outputs": [],
   "source": []
  },
  {
   "cell_type": "markdown",
   "id": "6ab6420c",
   "metadata": {
    "pycharm": {
     "name": "#%% md\n"
    }
   },
   "source": [
    "### Test Train Split"
   ]
  },
  {
   "cell_type": "code",
   "execution_count": 6,
   "id": "586266cb",
   "metadata": {
    "pycharm": {
     "name": "#%%\n"
    }
   },
   "outputs": [],
   "source": [
    "X_train, X_test, y_train, y_test = train_test_split(df.loc[:, df.columns != 'thyroid_cancer'],\n",
    "                                                        df['thyroid_cancer'],\n",
    "                                                        test_size=0.2,\n",
    "                                                        shuffle=True,\n",
    "                                                        random_state=random_state)"
   ]
  },
  {
   "cell_type": "code",
   "execution_count": null,
   "id": "ce06301e",
   "metadata": {
    "pycharm": {
     "name": "#%%\n"
    }
   },
   "outputs": [],
   "source": []
  },
  {
   "cell_type": "markdown",
   "id": "6f68e745",
   "metadata": {
    "pycharm": {
     "name": "#%% md\n"
    }
   },
   "source": [
    "### Convert categorical columns to integers"
   ]
  },
  {
   "cell_type": "code",
   "execution_count": 7,
   "id": "23a9f61b",
   "metadata": {
    "pycharm": {
     "name": "#%%\n"
    }
   },
   "outputs": [],
   "source": [
    "# Find which columns are categorical and which continuous\n",
    "def cat_con_cols(df):\n",
    "    columns = [list(df[i]) for i in df]  # Nested list of column values\n",
    "    num_unique_vals = [len(set([i for i in a if pd.notna(i)])) for a in columns]  # Num of unique values in a column\n",
    "\n",
    "    categorical_indexes = [i for i, v in enumerate(num_unique_vals) if v <= 100\n",
    "                           and set([a % 1 for a in df[df.columns[i]].dropna()]) == {0}]\n",
    "\n",
    "    continuous_indexes = [i for i, v in enumerate(num_unique_vals) if v > 100 or\n",
    "                          set([a % 1 for a in df[df.columns[i]].dropna()]) != {0}]\n",
    "\n",
    "    cat = list(df.columns[categorical_indexes])\n",
    "    con = list(df.columns[continuous_indexes])\n",
    "    return cat, con\n"
   ]
  },
  {
   "cell_type": "code",
   "execution_count": 8,
   "id": "cb346c78",
   "metadata": {
    "pycharm": {
     "name": "#%%\n"
    }
   },
   "outputs": [],
   "source": [
    "cat, con = cat_con_cols(X_train)  # Get the column names of the continuous and nominal data\n",
    "X_train[cat] = X_train[cat].astype('Int64')  # Convert categorical cols values from floats to integers - train\n",
    "X_test[cat] = X_test[cat].astype('Int64')  # Convert categorical cols values from floats to integers - test\n",
    "\n"
   ]
  },
  {
   "cell_type": "markdown",
   "id": "5c865c9d",
   "metadata": {
    "pycharm": {
     "name": "#%% md\n"
    }
   },
   "source": [
    "### Separate categorical and Continuous features in dataframe\n",
    "\n",
    "This makes indexing certain features in later processess easier."
   ]
  },
  {
   "cell_type": "code",
   "execution_count": 9,
   "id": "c5b9d076",
   "metadata": {
    "pycharm": {
     "name": "#%%\n"
    }
   },
   "outputs": [],
   "source": [
    "X_train = pd.concat([X_train[con], X_train[cat]], axis=1, join=\"inner\")"
   ]
  },
  {
   "cell_type": "code",
   "execution_count": null,
   "id": "ec6b8afa",
   "metadata": {
    "pycharm": {
     "name": "#%%\n"
    }
   },
   "outputs": [],
   "source": []
  },
  {
   "cell_type": "markdown",
   "id": "61d44549",
   "metadata": {
    "pycharm": {
     "name": "#%% md\n"
    }
   },
   "source": [
    "### One hot encoding"
   ]
  },
  {
   "cell_type": "code",
   "execution_count": 10,
   "id": "f9b62071",
   "metadata": {
    "pycharm": {
     "name": "#%%\n"
    }
   },
   "outputs": [],
   "source": [
    "# Columns requiring one hot encoding\n",
    "onehot = ['Weight method|x21_0_0', 'Spirometry method|x23_0_0', 'UK Biobank assessment centre|x54_0_0',\n",
    "          'Birth weight known|x120_0_0', 'Type of accommodation lived in|x670_0_0',\n",
    "          'Own or rent accommodation lived in|x680_0_0', 'Drive faster than motorway speed limit|x1100_0_0',\n",
    "          'Usual side of head for mobile phone use|x1150_0_0', 'Usual side of head for mobile phone use|x1150_0_0',\n",
    "          'Morning/evening person (chronotype)|x1180_0_0', 'Nap during day|x1190_0_0', 'Snoring|x1210_0_0',\n",
    "          'Daytime dozing / sleeping (narcolepsy)|x1220_0_0', 'Current tobacco smoking|x1239_0_0',\n",
    "          'Past tobacco smoking|x1249_0_0', 'Major dietary changes in the last 5 years|x1538_0_0',\n",
    "          'Variation in diet|x1548_0_0', 'Alcohol usually taken with meals|x1618_0_0',\n",
    "          'Alcohol intake versus 10 years previously|x1628_0_0', 'Skin colour|x1717_0_0',\n",
    "          'Ease of skin tanning|x1727_0_0', 'Hair colour (natural before greying)|x1747_0_0',\n",
    "          'Facial ageing|x1757_0_0', 'Father still alive|x1797_0_0', 'Mother still alive|x1835_0_0',\n",
    "          'Mood swings|x1920_0_0', 'Miserableness|x1930_0_0', 'Irritability|x1940_0_0',\n",
    "          'Sensitivity / hurt feelings|x1950_0_0', 'Fed-up feelings|x1960_0_0', 'Nervous feelings|x1970_0_0',\n",
    "          'Worrier / anxious feelings|x1980_0_0', \"Tense / 'highly strung'|x1990_0_0\",\n",
    "          'Worry too long after embarrassment|x2000_0_0', \"Suffer from 'nerves'|x2010_0_0\",\n",
    "          'Loneliness isolation|x2020_0_0', 'Guilty feelings|x2030_0_0', 'Risk taking|x2040_0_0',\n",
    "          'Seen doctor (GP) for nerves anxiety tension or depression|x2090_0_0',\n",
    "          'Seen a psychiatrist for nerves anxiety tension or depression|x2100_0_0', 'Able to confide|x2110_0_0',\n",
    "          'Answered sexual history questions|x2129_0_0', 'Ever had same-sex intercourse|x2159_0_0',\n",
    "          'Long-standing illness disability or infirmity|x2188_0_0', 'Wears glasses or contact lenses|x2207_0_0',\n",
    "          'Other eye problems|x2227_0_0', 'Plays computer games|x2237_0_0', 'Hearing difficulty/problems|x2247_0_0',\n",
    "          'Hearing difficulty/problems with background noise|x2257_0_0', 'Use of sun/uv protection|x2267_0_0',\n",
    "          'Weight change compared with 1 year ago|x2306_0_0', 'Wheeze or whistling in the chest in last year|x2316_0_0',\n",
    "          'Chest pain or discomfort|x2335_0_0', 'Ever had bowel cancer screening|x2345_0_0',\n",
    "          'Diabetes diagnosed by doctor|x2443_0_0', 'Cancer diagnosed by doctor|x2453_0_0',\n",
    "          'Fractured/broken bones in last 5 years|x2463_0_0',\n",
    "          'Other serious medical condition/disability diagnosed by doctor|x2473_0_0',\n",
    "          'Taking other prescription medications|x2492_0_0', 'Pace-maker|x3079_0_0',\n",
    "          'Contra-indications for spirometry|x3088_0_0', 'Caffeine drink within last hour|x3089_0_0',\n",
    "          'Used an inhaler for chest within last hour|x3090_0_0', 'Method of measuring blood pressure|x4081_0_0',\n",
    "          'Qualifications|x6138_0_0', 'Gas or solid-fuel cooking/heating|x6139_0_0',\n",
    "          'How are people in household related to participant|x6141_0_0', 'Current employment status|x6142_0_0',\n",
    "          'Never eat eggs dairy wheat sugar|x6144_0_0', 'Illness injury bereavement stress in last 2 years|x6145_0_0',\n",
    "          'Attendance/disability/mobility allowance|x6146_0_0', 'Mouth/teeth dental problems|x6149_0_0',\n",
    "          'Medication for pain relief constipation heartburn|x6154_0_0', 'Vitamin and mineral supplements|x6155_0_0',\n",
    "          'Pain type(s) experienced in last month|x6159_0_0', 'Leisure/social activities|x6160_0_0',\n",
    "          'Types of transport used (excluding work)|x6162_0_0', 'Types of physical activity in last 4 weeks|x6164_0_0',\n",
    "          'Mineral and other dietary supplements|x6179_0_0', 'Illnesses of father|x20107_0_0',\n",
    "          'Illnesses of mother|x20110_0_0', 'Illnesses of siblings|x20111_0_0', 'Smoking status|x20116_0_0',\n",
    "          'Alcohol drinker status|x20117_0_0', 'Home area population density - urban or rural|x20118_0_0',\n",
    "          'Spirometry QC measure|x20255_0_0', 'Genetic sex|x22001_0_0',\n",
    "          'Genetic kinship to other participants|x22021_0_0', 'IPAQ activity group|x22032_0_0',\n",
    "          'Summed days activity|x22033_0_0', 'Above moderate/vigorous recommendation|x22035_0_0',\n",
    "          'Above moderate/vigorous/walking recommendation|x22036_0_0', 'Close to major road|x24014_0_0',\n",
    "          'medication_cbi']"
   ]
  },
  {
   "cell_type": "code",
   "execution_count": 11,
   "id": "8d29c1fe",
   "metadata": {
    "pycharm": {
     "name": "#%%\n"
    }
   },
   "outputs": [],
   "source": [
    "# Remove duplicates - accidentally added one\n",
    "onehot = set(onehot)"
   ]
  },
  {
   "cell_type": "code",
   "execution_count": 12,
   "id": "64527fb9",
   "metadata": {
    "pycharm": {
     "name": "#%%\n"
    }
   },
   "outputs": [],
   "source": [
    "# Get indexes of these columns for one hot encoding\n",
    "\n",
    "oh_indexes = [i for i, feat in enumerate(X_train.columns) if feat in onehot]\n"
   ]
  },
  {
   "cell_type": "code",
   "execution_count": null,
   "id": "91723f6f",
   "metadata": {
    "pycharm": {
     "name": "#%%\n"
    }
   },
   "outputs": [],
   "source": []
  },
  {
   "cell_type": "markdown",
   "id": "8cd64071",
   "metadata": {
    "pycharm": {
     "name": "#%% md\n"
    }
   },
   "source": [
    "# Pipeline"
   ]
  },
  {
   "cell_type": "code",
   "execution_count": 55,
   "id": "c95cf0b7",
   "metadata": {
    "pycharm": {
     "name": "#%%\n"
    }
   },
   "outputs": [],
   "source": [
    "# Column indexes for categorical and continuous features\n",
    "categorical_indexes = [i for i, x in enumerate(X_train.columns) if x in cat]\n",
    "continuous_indexes = [i for i, x in enumerate(X_train.columns) if x in con]\n",
    "\n"
   ]
  },
  {
   "cell_type": "code",
   "execution_count": 56,
   "id": "903b1d03",
   "metadata": {
    "pycharm": {
     "name": "#%%\n"
    }
   },
   "outputs": [],
   "source": [
    "# Ridge Classifier model used for RFE\n",
    "model = RidgeClassifier(alpha=1)\n"
   ]
  },
  {
   "cell_type": "code",
   "execution_count": 58,
   "id": "961a3a5f",
   "metadata": {
    "pycharm": {
     "name": "#%%\n"
    }
   },
   "outputs": [],
   "source": [
    "# Five fold stratified cross validation for RFE\n",
    "skf = StratifiedKFold(n_splits=5,\n",
    "                      shuffle=True,\n",
    "                      random_state=random_state)\n"
   ]
  },
  {
   "cell_type": "code",
   "execution_count": 59,
   "id": "7bed2fce",
   "metadata": {
    "pycharm": {
     "name": "#%%\n"
    }
   },
   "outputs": [],
   "source": [
    "# Tomek Links undersampling\n",
    "tl = TomekLinks(sampling_strategy='majority',\n",
    "                n_jobs=-1)"
   ]
  },
  {
   "cell_type": "code",
   "execution_count": 60,
   "id": "0a60c3f7",
   "metadata": {
    "pycharm": {
     "name": "#%%\n"
    }
   },
   "outputs": [],
   "source": [
    "# SMOTE oversampling\n",
    "smote = SMOTENC(random_state=random_state,\n",
    "                categorical_features=categorical_indexes,\n",
    "                sampling_strategy=1,\n",
    "                n_jobs=-1)\n"
   ]
  },
  {
   "cell_type": "code",
   "execution_count": 43,
   "id": "d6a9769b",
   "metadata": {
    "pycharm": {
     "name": "#%%\n"
    }
   },
   "outputs": [],
   "source": [
    "# Imputation column transformer to impute the two different data types\n",
    "imputer = ColumnTransformer(\n",
    "    transformers=[\n",
    "        ('num', IterativeImputer(initial_strategy='mean',\n",
    "                                 max_iter=5,\n",
    "                                 random_state=random_state), \n",
    "         continuous_indexes),\n",
    "        \n",
    "        ('cat', IterativeImputer(estimator=RidgeClassifier(),\n",
    "                                 initial_strategy='most_frequent',\n",
    "                                 max_iter=10, \n",
    "                                 random_state=random_state), \n",
    "         categorical_indexes)\n",
    "    \n",
    "    ], n_jobs=-1)\n"
   ]
  },
  {
   "cell_type": "code",
   "execution_count": 44,
   "id": "14a7a4d9",
   "metadata": {
    "pycharm": {
     "name": "#%%\n"
    }
   },
   "outputs": [],
   "source": [
    "# Column transformer to carry out normalisation and onehot encoding\n",
    "norm_onehot = ColumnTransformer(\n",
    "    transformers=[('normalisation', MinMaxScaler(), \n",
    "                   continuous_indexes),\n",
    "        \n",
    "                   ('OneHot', OneHotEncoder(sparse=False, \n",
    "                                            drop='if_binary'), \n",
    "                    oh_indexes)], remainder='passthrough', n_jobs=-1)\n",
    "\n"
   ]
  },
  {
   "cell_type": "code",
   "execution_count": 61,
   "id": "790b97c9",
   "metadata": {
    "pycharm": {
     "name": "#%%\n"
    }
   },
   "outputs": [],
   "source": [
    "# Recursive feature elimination\n",
    "rfecv = RFECV(model,\n",
    "              step=25,\n",
    "              cv=skf,\n",
    "              scoring='f1',\n",
    "              n_jobs=-1)"
   ]
  },
  {
   "cell_type": "code",
   "execution_count": 62,
   "id": "e4a61f72",
   "metadata": {
    "pycharm": {
     "name": "#%%\n"
    }
   },
   "outputs": [],
   "source": [
    "# Preprocessing pipeline\n",
    "pipeline = imbpipeline(steps = [('imputer', imputer),\n",
    "                                ('norm_onehot', norm_onehot),\n",
    "                                ('tomek', tl),\n",
    "                                ('smotenc', smote),\n",
    "                                ('rfe', rfecv)])"
   ]
  },
  {
   "cell_type": "markdown",
   "id": "677e159c",
   "metadata": {
    "pycharm": {
     "name": "#%% md\n"
    }
   },
   "source": [
    "# Resource Profiling"
   ]
  },
  {
   "cell_type": "markdown",
   "id": "4d195b0a",
   "metadata": {
    "pycharm": {
     "name": "#%% md\n"
    }
   },
   "source": [
    "Testing on 20,000 rows: 539 seconds and 2.6GB RAM."
   ]
  },
  {
   "cell_type": "code",
   "execution_count": 47,
   "id": "d0222e50",
   "metadata": {
    "pycharm": {
     "name": "#%%\n"
    }
   },
   "outputs": [
    {
     "name": "stderr",
     "output_type": "stream",
     "text": [
      "/data/home/bt211037/.conda/envs/ondem_env/lib/python3.10/site-packages/sklearn/impute/_iterative.py:700: ConvergenceWarning: [IterativeImputer] Early stopping criterion not reached.\n",
      "  warnings.warn(\n",
      "/data/home/bt211037/.conda/envs/ondem_env/lib/python3.10/site-packages/sklearn/impute/_iterative.py:700: ConvergenceWarning: [IterativeImputer] Early stopping criterion not reached.\n",
      "  warnings.warn(\n"
     ]
    },
    {
     "name": "stdout",
     "output_type": "stream",
     "text": [
      "539.2799760419875\n",
      "peak memory: 5916.86 MiB, increment: 2612.07 MiB\n"
     ]
    }
   ],
   "source": [
    "%%memit\n",
    "\n",
    "t=Stopwatch()\n",
    "\n",
    "pipeline.fit(X_train[0:20000], y_train[0:20000].values.ravel())\n",
    "\n",
    "print(t.stop())"
   ]
  },
  {
   "cell_type": "markdown",
   "id": "dbc5169e",
   "metadata": {
    "pycharm": {
     "name": "#%% md\n"
    }
   },
   "source": [
    "Dataframe showing the result of recursive feature elimination."
   ]
  },
  {
   "cell_type": "code",
   "execution_count": 50,
   "id": "3ba674d9",
   "metadata": {
    "pycharm": {
     "name": "#%%\n"
    }
   },
   "outputs": [
    {
     "data": {
      "text/html": [
       "<div>\n",
       "<style scoped>\n",
       "    .dataframe tbody tr th:only-of-type {\n",
       "        vertical-align: middle;\n",
       "    }\n",
       "\n",
       "    .dataframe tbody tr th {\n",
       "        vertical-align: top;\n",
       "    }\n",
       "\n",
       "    .dataframe thead th {\n",
       "        text-align: right;\n",
       "    }\n",
       "</style>\n",
       "<table border=\"1\" class=\"dataframe\">\n",
       "  <thead>\n",
       "    <tr style=\"text-align: right;\">\n",
       "      <th></th>\n",
       "      <th>mean_test_score</th>\n",
       "      <th>std_test_score</th>\n",
       "      <th>split0_test_score</th>\n",
       "      <th>split1_test_score</th>\n",
       "      <th>split2_test_score</th>\n",
       "      <th>split3_test_score</th>\n",
       "      <th>split4_test_score</th>\n",
       "    </tr>\n",
       "  </thead>\n",
       "  <tbody>\n",
       "    <tr>\n",
       "      <th>0</th>\n",
       "      <td>0.682497</td>\n",
       "      <td>0.002746</td>\n",
       "      <td>0.680252</td>\n",
       "      <td>0.682118</td>\n",
       "      <td>0.685096</td>\n",
       "      <td>0.678921</td>\n",
       "      <td>0.686097</td>\n",
       "    </tr>\n",
       "    <tr>\n",
       "      <th>1</th>\n",
       "      <td>0.923542</td>\n",
       "      <td>0.004070</td>\n",
       "      <td>0.923148</td>\n",
       "      <td>0.922827</td>\n",
       "      <td>0.916552</td>\n",
       "      <td>0.927085</td>\n",
       "      <td>0.928097</td>\n",
       "    </tr>\n",
       "    <tr>\n",
       "      <th>2</th>\n",
       "      <td>0.999172</td>\n",
       "      <td>0.000270</td>\n",
       "      <td>0.998996</td>\n",
       "      <td>0.998996</td>\n",
       "      <td>0.999498</td>\n",
       "      <td>0.999498</td>\n",
       "      <td>0.998871</td>\n",
       "    </tr>\n",
       "    <tr>\n",
       "      <th>3</th>\n",
       "      <td>0.999172</td>\n",
       "      <td>0.000270</td>\n",
       "      <td>0.998996</td>\n",
       "      <td>0.998996</td>\n",
       "      <td>0.999498</td>\n",
       "      <td>0.999498</td>\n",
       "      <td>0.998871</td>\n",
       "    </tr>\n",
       "    <tr>\n",
       "      <th>4</th>\n",
       "      <td>0.999172</td>\n",
       "      <td>0.000270</td>\n",
       "      <td>0.998996</td>\n",
       "      <td>0.998996</td>\n",
       "      <td>0.999498</td>\n",
       "      <td>0.999498</td>\n",
       "      <td>0.998871</td>\n",
       "    </tr>\n",
       "    <tr>\n",
       "      <th>5</th>\n",
       "      <td>0.999172</td>\n",
       "      <td>0.000270</td>\n",
       "      <td>0.998996</td>\n",
       "      <td>0.998996</td>\n",
       "      <td>0.999498</td>\n",
       "      <td>0.999498</td>\n",
       "      <td>0.998871</td>\n",
       "    </tr>\n",
       "    <tr>\n",
       "      <th>6</th>\n",
       "      <td>0.999172</td>\n",
       "      <td>0.000270</td>\n",
       "      <td>0.998996</td>\n",
       "      <td>0.998996</td>\n",
       "      <td>0.999498</td>\n",
       "      <td>0.999498</td>\n",
       "      <td>0.998871</td>\n",
       "    </tr>\n",
       "    <tr>\n",
       "      <th>7</th>\n",
       "      <td>0.999172</td>\n",
       "      <td>0.000270</td>\n",
       "      <td>0.998996</td>\n",
       "      <td>0.998996</td>\n",
       "      <td>0.999498</td>\n",
       "      <td>0.999498</td>\n",
       "      <td>0.998871</td>\n",
       "    </tr>\n",
       "    <tr>\n",
       "      <th>8</th>\n",
       "      <td>0.999172</td>\n",
       "      <td>0.000270</td>\n",
       "      <td>0.998996</td>\n",
       "      <td>0.998996</td>\n",
       "      <td>0.999498</td>\n",
       "      <td>0.999498</td>\n",
       "      <td>0.998871</td>\n",
       "    </tr>\n",
       "    <tr>\n",
       "      <th>9</th>\n",
       "      <td>0.999172</td>\n",
       "      <td>0.000270</td>\n",
       "      <td>0.998996</td>\n",
       "      <td>0.998996</td>\n",
       "      <td>0.999498</td>\n",
       "      <td>0.999498</td>\n",
       "      <td>0.998871</td>\n",
       "    </tr>\n",
       "    <tr>\n",
       "      <th>10</th>\n",
       "      <td>0.999172</td>\n",
       "      <td>0.000270</td>\n",
       "      <td>0.998996</td>\n",
       "      <td>0.998996</td>\n",
       "      <td>0.999498</td>\n",
       "      <td>0.999498</td>\n",
       "      <td>0.998871</td>\n",
       "    </tr>\n",
       "    <tr>\n",
       "      <th>11</th>\n",
       "      <td>0.999172</td>\n",
       "      <td>0.000270</td>\n",
       "      <td>0.998996</td>\n",
       "      <td>0.998996</td>\n",
       "      <td>0.999498</td>\n",
       "      <td>0.999498</td>\n",
       "      <td>0.998871</td>\n",
       "    </tr>\n",
       "    <tr>\n",
       "      <th>12</th>\n",
       "      <td>0.999172</td>\n",
       "      <td>0.000270</td>\n",
       "      <td>0.998996</td>\n",
       "      <td>0.998996</td>\n",
       "      <td>0.999498</td>\n",
       "      <td>0.999498</td>\n",
       "      <td>0.998871</td>\n",
       "    </tr>\n",
       "    <tr>\n",
       "      <th>13</th>\n",
       "      <td>0.999172</td>\n",
       "      <td>0.000270</td>\n",
       "      <td>0.998996</td>\n",
       "      <td>0.998996</td>\n",
       "      <td>0.999498</td>\n",
       "      <td>0.999498</td>\n",
       "      <td>0.998871</td>\n",
       "    </tr>\n",
       "    <tr>\n",
       "      <th>14</th>\n",
       "      <td>0.999172</td>\n",
       "      <td>0.000270</td>\n",
       "      <td>0.998996</td>\n",
       "      <td>0.998996</td>\n",
       "      <td>0.999498</td>\n",
       "      <td>0.999498</td>\n",
       "      <td>0.998871</td>\n",
       "    </tr>\n",
       "    <tr>\n",
       "      <th>15</th>\n",
       "      <td>0.999172</td>\n",
       "      <td>0.000270</td>\n",
       "      <td>0.998996</td>\n",
       "      <td>0.998996</td>\n",
       "      <td>0.999498</td>\n",
       "      <td>0.999498</td>\n",
       "      <td>0.998871</td>\n",
       "    </tr>\n",
       "    <tr>\n",
       "      <th>16</th>\n",
       "      <td>0.999172</td>\n",
       "      <td>0.000270</td>\n",
       "      <td>0.998996</td>\n",
       "      <td>0.998996</td>\n",
       "      <td>0.999498</td>\n",
       "      <td>0.999498</td>\n",
       "      <td>0.998871</td>\n",
       "    </tr>\n",
       "    <tr>\n",
       "      <th>17</th>\n",
       "      <td>0.999172</td>\n",
       "      <td>0.000270</td>\n",
       "      <td>0.998996</td>\n",
       "      <td>0.998996</td>\n",
       "      <td>0.999498</td>\n",
       "      <td>0.999498</td>\n",
       "      <td>0.998871</td>\n",
       "    </tr>\n",
       "    <tr>\n",
       "      <th>18</th>\n",
       "      <td>0.999172</td>\n",
       "      <td>0.000270</td>\n",
       "      <td>0.998996</td>\n",
       "      <td>0.998996</td>\n",
       "      <td>0.999498</td>\n",
       "      <td>0.999498</td>\n",
       "      <td>0.998871</td>\n",
       "    </tr>\n",
       "    <tr>\n",
       "      <th>19</th>\n",
       "      <td>0.999172</td>\n",
       "      <td>0.000270</td>\n",
       "      <td>0.998996</td>\n",
       "      <td>0.998996</td>\n",
       "      <td>0.999498</td>\n",
       "      <td>0.999498</td>\n",
       "      <td>0.998871</td>\n",
       "    </tr>\n",
       "    <tr>\n",
       "      <th>20</th>\n",
       "      <td>0.999172</td>\n",
       "      <td>0.000270</td>\n",
       "      <td>0.998996</td>\n",
       "      <td>0.998996</td>\n",
       "      <td>0.999498</td>\n",
       "      <td>0.999498</td>\n",
       "      <td>0.998871</td>\n",
       "    </tr>\n",
       "    <tr>\n",
       "      <th>21</th>\n",
       "      <td>0.999172</td>\n",
       "      <td>0.000270</td>\n",
       "      <td>0.998996</td>\n",
       "      <td>0.998996</td>\n",
       "      <td>0.999498</td>\n",
       "      <td>0.999498</td>\n",
       "      <td>0.998871</td>\n",
       "    </tr>\n",
       "    <tr>\n",
       "      <th>22</th>\n",
       "      <td>0.999172</td>\n",
       "      <td>0.000270</td>\n",
       "      <td>0.998996</td>\n",
       "      <td>0.998996</td>\n",
       "      <td>0.999498</td>\n",
       "      <td>0.999498</td>\n",
       "      <td>0.998871</td>\n",
       "    </tr>\n",
       "    <tr>\n",
       "      <th>23</th>\n",
       "      <td>0.999172</td>\n",
       "      <td>0.000270</td>\n",
       "      <td>0.998996</td>\n",
       "      <td>0.998996</td>\n",
       "      <td>0.999498</td>\n",
       "      <td>0.999498</td>\n",
       "      <td>0.998871</td>\n",
       "    </tr>\n",
       "    <tr>\n",
       "      <th>24</th>\n",
       "      <td>0.999172</td>\n",
       "      <td>0.000270</td>\n",
       "      <td>0.998996</td>\n",
       "      <td>0.998996</td>\n",
       "      <td>0.999498</td>\n",
       "      <td>0.999498</td>\n",
       "      <td>0.998871</td>\n",
       "    </tr>\n",
       "    <tr>\n",
       "      <th>25</th>\n",
       "      <td>0.999172</td>\n",
       "      <td>0.000270</td>\n",
       "      <td>0.998996</td>\n",
       "      <td>0.998996</td>\n",
       "      <td>0.999498</td>\n",
       "      <td>0.999498</td>\n",
       "      <td>0.998871</td>\n",
       "    </tr>\n",
       "    <tr>\n",
       "      <th>26</th>\n",
       "      <td>0.999172</td>\n",
       "      <td>0.000270</td>\n",
       "      <td>0.998996</td>\n",
       "      <td>0.998996</td>\n",
       "      <td>0.999498</td>\n",
       "      <td>0.999498</td>\n",
       "      <td>0.998871</td>\n",
       "    </tr>\n",
       "  </tbody>\n",
       "</table>\n",
       "</div>"
      ],
      "text/plain": [
       "    mean_test_score  std_test_score  split0_test_score  split1_test_score  \\\n",
       "0          0.682497        0.002746           0.680252           0.682118   \n",
       "1          0.923542        0.004070           0.923148           0.922827   \n",
       "2          0.999172        0.000270           0.998996           0.998996   \n",
       "3          0.999172        0.000270           0.998996           0.998996   \n",
       "4          0.999172        0.000270           0.998996           0.998996   \n",
       "5          0.999172        0.000270           0.998996           0.998996   \n",
       "6          0.999172        0.000270           0.998996           0.998996   \n",
       "7          0.999172        0.000270           0.998996           0.998996   \n",
       "8          0.999172        0.000270           0.998996           0.998996   \n",
       "9          0.999172        0.000270           0.998996           0.998996   \n",
       "10         0.999172        0.000270           0.998996           0.998996   \n",
       "11         0.999172        0.000270           0.998996           0.998996   \n",
       "12         0.999172        0.000270           0.998996           0.998996   \n",
       "13         0.999172        0.000270           0.998996           0.998996   \n",
       "14         0.999172        0.000270           0.998996           0.998996   \n",
       "15         0.999172        0.000270           0.998996           0.998996   \n",
       "16         0.999172        0.000270           0.998996           0.998996   \n",
       "17         0.999172        0.000270           0.998996           0.998996   \n",
       "18         0.999172        0.000270           0.998996           0.998996   \n",
       "19         0.999172        0.000270           0.998996           0.998996   \n",
       "20         0.999172        0.000270           0.998996           0.998996   \n",
       "21         0.999172        0.000270           0.998996           0.998996   \n",
       "22         0.999172        0.000270           0.998996           0.998996   \n",
       "23         0.999172        0.000270           0.998996           0.998996   \n",
       "24         0.999172        0.000270           0.998996           0.998996   \n",
       "25         0.999172        0.000270           0.998996           0.998996   \n",
       "26         0.999172        0.000270           0.998996           0.998996   \n",
       "\n",
       "    split2_test_score  split3_test_score  split4_test_score  \n",
       "0            0.685096           0.678921           0.686097  \n",
       "1            0.916552           0.927085           0.928097  \n",
       "2            0.999498           0.999498           0.998871  \n",
       "3            0.999498           0.999498           0.998871  \n",
       "4            0.999498           0.999498           0.998871  \n",
       "5            0.999498           0.999498           0.998871  \n",
       "6            0.999498           0.999498           0.998871  \n",
       "7            0.999498           0.999498           0.998871  \n",
       "8            0.999498           0.999498           0.998871  \n",
       "9            0.999498           0.999498           0.998871  \n",
       "10           0.999498           0.999498           0.998871  \n",
       "11           0.999498           0.999498           0.998871  \n",
       "12           0.999498           0.999498           0.998871  \n",
       "13           0.999498           0.999498           0.998871  \n",
       "14           0.999498           0.999498           0.998871  \n",
       "15           0.999498           0.999498           0.998871  \n",
       "16           0.999498           0.999498           0.998871  \n",
       "17           0.999498           0.999498           0.998871  \n",
       "18           0.999498           0.999498           0.998871  \n",
       "19           0.999498           0.999498           0.998871  \n",
       "20           0.999498           0.999498           0.998871  \n",
       "21           0.999498           0.999498           0.998871  \n",
       "22           0.999498           0.999498           0.998871  \n",
       "23           0.999498           0.999498           0.998871  \n",
       "24           0.999498           0.999498           0.998871  \n",
       "25           0.999498           0.999498           0.998871  \n",
       "26           0.999498           0.999498           0.998871  "
      ]
     },
     "execution_count": 50,
     "metadata": {},
     "output_type": "execute_result"
    }
   ],
   "source": [
    "pd.DataFrame(pipeline.named_steps['rfe'].cv_results_)"
   ]
  },
  {
   "cell_type": "markdown",
   "id": "03efd55b",
   "metadata": {
    "pycharm": {
     "name": "#%% md\n"
    }
   },
   "source": [
    "Testing on 10,000 rows: 239 seconds and 1.1GB RAM."
   ]
  },
  {
   "cell_type": "code",
   "execution_count": 51,
   "id": "72aa468a",
   "metadata": {
    "pycharm": {
     "name": "#%%\n"
    }
   },
   "outputs": [
    {
     "name": "stderr",
     "output_type": "stream",
     "text": [
      "/data/home/bt211037/.conda/envs/ondem_env/lib/python3.10/site-packages/sklearn/impute/_iterative.py:700: ConvergenceWarning: [IterativeImputer] Early stopping criterion not reached.\n",
      "  warnings.warn(\n",
      "/data/home/bt211037/.conda/envs/ondem_env/lib/python3.10/site-packages/sklearn/impute/_iterative.py:700: ConvergenceWarning: [IterativeImputer] Early stopping criterion not reached.\n",
      "  warnings.warn(\n"
     ]
    },
    {
     "name": "stdout",
     "output_type": "stream",
     "text": [
      "239.8156091729179\n",
      "peak memory: 5442.84 MiB, increment: 1115.08 MiB\n"
     ]
    }
   ],
   "source": [
    "%%memit\n",
    "\n",
    "t=Stopwatch()\n",
    "\n",
    "pipeline.fit(X_train[0:10000], y_train[0:10000].values.ravel())\n",
    "\n",
    "print(t.stop())"
   ]
  },
  {
   "cell_type": "markdown",
   "id": "faf52252",
   "metadata": {
    "pycharm": {
     "name": "#%% md\n"
    }
   },
   "source": [
    "Testing on 40,000 rows: 1131 seconds and 3.3GB RAM."
   ]
  },
  {
   "cell_type": "code",
   "execution_count": 52,
   "id": "a97b6731",
   "metadata": {
    "pycharm": {
     "name": "#%%\n"
    }
   },
   "outputs": [
    {
     "name": "stderr",
     "output_type": "stream",
     "text": [
      "/data/home/bt211037/.conda/envs/ondem_env/lib/python3.10/site-packages/sklearn/impute/_iterative.py:700: ConvergenceWarning: [IterativeImputer] Early stopping criterion not reached.\n",
      "  warnings.warn(\n",
      "/data/home/bt211037/.conda/envs/ondem_env/lib/python3.10/site-packages/sklearn/impute/_iterative.py:700: ConvergenceWarning: [IterativeImputer] Early stopping criterion not reached.\n",
      "  warnings.warn(\n"
     ]
    },
    {
     "name": "stdout",
     "output_type": "stream",
     "text": [
      "1131.7536761329975\n",
      "peak memory: 8182.45 MiB, increment: 3329.49 MiB\n"
     ]
    }
   ],
   "source": [
    "%%memit\n",
    "\n",
    "t=Stopwatch()\n",
    "\n",
    "pipeline.fit(X_train[0:40000], y_train[0:40000].values.ravel())\n",
    "\n",
    "print(t.stop())"
   ]
  },
  {
   "cell_type": "code",
   "execution_count": null,
   "id": "5238da6b",
   "metadata": {
    "pycharm": {
     "name": "#%%\n"
    }
   },
   "outputs": [],
   "source": []
  }
 ],
 "metadata": {
  "kernelspec": {
   "display_name": "ondem_env",
   "language": "python",
   "name": "ondem_env"
  },
  "language_info": {
   "codemirror_mode": {
    "name": "ipython",
    "version": 3
   },
   "file_extension": ".py",
   "mimetype": "text/x-python",
   "name": "python",
   "nbconvert_exporter": "python",
   "pygments_lexer": "ipython3",
   "version": "3.10.5"
  }
 },
 "nbformat": 4,
 "nbformat_minor": 5
}
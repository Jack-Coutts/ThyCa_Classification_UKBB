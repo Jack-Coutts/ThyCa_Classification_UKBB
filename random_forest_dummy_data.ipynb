{
 "cells": [
  {
   "cell_type": "markdown",
   "source": [
    "# Practice Random Forest Pipeline/Workflow"
   ],
   "metadata": {
    "collapsed": false,
    "pycharm": {
     "name": "#%% md\n"
    }
   }
  },
  {
   "cell_type": "code",
   "execution_count": 10,
   "outputs": [],
   "source": [
    "# Imports\n",
    "import pandas as pd\n",
    "import numpy as np\n",
    "import random\n",
    "import string"
   ],
   "metadata": {
    "collapsed": false,
    "pycharm": {
     "name": "#%%\n"
    }
   }
  },
  {
   "cell_type": "markdown",
   "source": [
    "### Create fake/dummy data"
   ],
   "metadata": {
    "collapsed": false,
    "pycharm": {
     "name": "#%% md\n"
    }
   }
  },
  {
   "cell_type": "code",
   "execution_count": 11,
   "outputs": [],
   "source": [
    "row_num = 5000"
   ],
   "metadata": {
    "collapsed": false,
    "pycharm": {
     "name": "#%%\n"
    }
   }
  },
  {
   "cell_type": "code",
   "execution_count": 12,
   "outputs": [],
   "source": [
    "# Create columns names for dataset\n",
    "columns = [''.join(random.choices(string.ascii_uppercase + string.digits, k=5)) for x in range(380)]"
   ],
   "metadata": {
    "collapsed": false,
    "pycharm": {
     "name": "#%%\n"
    }
   }
  },
  {
   "cell_type": "code",
   "execution_count": 13,
   "outputs": [],
   "source": [
    "# Add Thyroid cancer to columns\n",
    "columns.insert(0, 'userId')\n",
    "# Add userId to columns\n",
    "columns.append('thyroid_cancer')"
   ],
   "metadata": {
    "collapsed": false,
    "pycharm": {
     "name": "#%%\n"
    }
   }
  },
  {
   "cell_type": "code",
   "execution_count": 34,
   "outputs": [],
   "source": [
    "# Create dataframe rows with different possible data types\n",
    "\n",
    "dictionary = {}\n",
    "\n",
    "for item in columns:\n",
    "\n",
    "    column_options = [list(np.random.randint(0, 2, row_num)), np.random.randint(0, 11, row_num), np.random.randint(0, 4, row_num),\n",
    "                      np.random.random_sample(size = row_num), np.random.uniform(low=0, high=3000, size=row_num), np.random.uniform(low=0, high=150, size=row_num)]\n",
    "\n",
    "    dictionary[item] = random.choice(column_options)\n"
   ],
   "metadata": {
    "collapsed": false,
    "pycharm": {
     "name": "#%%\n"
    }
   }
  },
  {
   "cell_type": "code",
   "execution_count": 36,
   "outputs": [],
   "source": [
    "# Create the pandas DataFrame\n",
    "df = pd.DataFrame(dictionary)"
   ],
   "metadata": {
    "collapsed": false,
    "pycharm": {
     "name": "#%%\n"
    }
   }
  },
  {
   "cell_type": "code",
   "execution_count": 16,
   "outputs": [],
   "source": [
    "# Change userId values\n",
    "df['userId'] = [x for x in range(row_num)]\n",
    "\n",
    "# Make userId index\n",
    "df.set_index('userId', inplace=True)"
   ],
   "metadata": {
    "collapsed": false,
    "pycharm": {
     "name": "#%%\n"
    }
   }
  },
  {
   "cell_type": "code",
   "execution_count": 17,
   "outputs": [],
   "source": [
    "# Add missing values\n",
    "for col in df.columns:\n",
    "    df.loc[df.sample(frac=0.1).index, col] = np.nan"
   ],
   "metadata": {
    "collapsed": false,
    "pycharm": {
     "name": "#%%\n"
    }
   }
  },
  {
   "cell_type": "code",
   "execution_count": 18,
   "outputs": [],
   "source": [
    "# Make thyroid cancer data binary with no missing values\n",
    "df['thyroid_cancer'] = [random.randint(0, 1) for x in range(row_num)]"
   ],
   "metadata": {
    "collapsed": false,
    "pycharm": {
     "name": "#%%\n"
    }
   }
  },
  {
   "cell_type": "markdown",
   "source": [
    "### Data preprocessing"
   ],
   "metadata": {
    "collapsed": false,
    "pycharm": {
     "name": "#%% md\n"
    }
   }
  },
  {
   "cell_type": "code",
   "execution_count": 37,
   "outputs": [
    {
     "data": {
      "text/plain": "      userId       B9E7W     X9F8H  IWAN8        FODG8  PR84W  R1WI2  RGLSN  \\\n0          0   51.651866  0.264715      4   915.714065      3      1      6   \n1          0    7.023647  0.516846      5  1456.495139      7      3     10   \n2          1   15.838792  0.264070      5   372.008027      9      2      1   \n3          0   71.239033  0.868426      7   405.704651      0      0      8   \n4          1  135.631845  0.099530      1   459.078405      1      2      1   \n...      ...         ...       ...    ...          ...    ...    ...    ...   \n4995       1  103.391164  0.054728      8  1549.333396      8      2      4   \n4996       1   72.703128  0.199328      0   166.798940      4      1      9   \n4997       1  120.605469  0.963607      8   161.600108      3      0      9   \n4998       1   17.548733  0.803683      3  2281.155098      2      1      2   \n4999       0   72.009046  0.453716      6  2152.821131      5      1      4   \n\n           C0UHS  Q2RMM  ...  AHA5P       3HZAJ  RXT0H  5HGWR       OKO67  \\\n0     137.428775      1  ...      1   21.367925      3      1   19.177256   \n1     134.954853      3  ...      3  117.189002      1      1  121.364933   \n2      76.980645      1  ...      2   72.505988      2      3   27.436234   \n3     122.134039      3  ...      1   19.951426      2      3  106.728728   \n4      68.036007      2  ...      1    3.930842      2      3  104.386260   \n...          ...    ...  ...    ...         ...    ...    ...         ...   \n4995   57.823025      0  ...      2  133.075872      3      2  143.434557   \n4996  115.848432      1  ...      0   50.989074      0      1  136.791721   \n4997  131.278664      2  ...      2  121.568081      3      0  148.934440   \n4998    4.889897      2  ...      2   77.657040      1      2  117.855228   \n4999   37.311423      0  ...      2   45.214834      0      2    9.414502   \n\n      NT9BD       JNXCE        C2PP7       HJBV8  thyroid_cancer  \n0         0  132.591508  2632.979803  121.061003               1  \n1         1   26.053990  1241.527997    9.390588               0  \n2         0  118.747144  2320.805935   72.537729               0  \n3         1   41.453929  2033.348592   49.064759               1  \n4         1  114.267541  1443.451922   33.864787               0  \n...     ...         ...          ...         ...             ...  \n4995      0   71.445206   592.162594    5.230247               1  \n4996      0   57.440018  1242.776817   90.797848               1  \n4997      1  113.646151   997.605150  135.476835               0  \n4998      1  149.226111  1144.391626  104.369759               1  \n4999      1   61.355164  2385.167473  101.947694               1  \n\n[5000 rows x 382 columns]",
      "text/html": "<div>\n<style scoped>\n    .dataframe tbody tr th:only-of-type {\n        vertical-align: middle;\n    }\n\n    .dataframe tbody tr th {\n        vertical-align: top;\n    }\n\n    .dataframe thead th {\n        text-align: right;\n    }\n</style>\n<table border=\"1\" class=\"dataframe\">\n  <thead>\n    <tr style=\"text-align: right;\">\n      <th></th>\n      <th>userId</th>\n      <th>B9E7W</th>\n      <th>X9F8H</th>\n      <th>IWAN8</th>\n      <th>FODG8</th>\n      <th>PR84W</th>\n      <th>R1WI2</th>\n      <th>RGLSN</th>\n      <th>C0UHS</th>\n      <th>Q2RMM</th>\n      <th>...</th>\n      <th>AHA5P</th>\n      <th>3HZAJ</th>\n      <th>RXT0H</th>\n      <th>5HGWR</th>\n      <th>OKO67</th>\n      <th>NT9BD</th>\n      <th>JNXCE</th>\n      <th>C2PP7</th>\n      <th>HJBV8</th>\n      <th>thyroid_cancer</th>\n    </tr>\n  </thead>\n  <tbody>\n    <tr>\n      <th>0</th>\n      <td>0</td>\n      <td>51.651866</td>\n      <td>0.264715</td>\n      <td>4</td>\n      <td>915.714065</td>\n      <td>3</td>\n      <td>1</td>\n      <td>6</td>\n      <td>137.428775</td>\n      <td>1</td>\n      <td>...</td>\n      <td>1</td>\n      <td>21.367925</td>\n      <td>3</td>\n      <td>1</td>\n      <td>19.177256</td>\n      <td>0</td>\n      <td>132.591508</td>\n      <td>2632.979803</td>\n      <td>121.061003</td>\n      <td>1</td>\n    </tr>\n    <tr>\n      <th>1</th>\n      <td>0</td>\n      <td>7.023647</td>\n      <td>0.516846</td>\n      <td>5</td>\n      <td>1456.495139</td>\n      <td>7</td>\n      <td>3</td>\n      <td>10</td>\n      <td>134.954853</td>\n      <td>3</td>\n      <td>...</td>\n      <td>3</td>\n      <td>117.189002</td>\n      <td>1</td>\n      <td>1</td>\n      <td>121.364933</td>\n      <td>1</td>\n      <td>26.053990</td>\n      <td>1241.527997</td>\n      <td>9.390588</td>\n      <td>0</td>\n    </tr>\n    <tr>\n      <th>2</th>\n      <td>1</td>\n      <td>15.838792</td>\n      <td>0.264070</td>\n      <td>5</td>\n      <td>372.008027</td>\n      <td>9</td>\n      <td>2</td>\n      <td>1</td>\n      <td>76.980645</td>\n      <td>1</td>\n      <td>...</td>\n      <td>2</td>\n      <td>72.505988</td>\n      <td>2</td>\n      <td>3</td>\n      <td>27.436234</td>\n      <td>0</td>\n      <td>118.747144</td>\n      <td>2320.805935</td>\n      <td>72.537729</td>\n      <td>0</td>\n    </tr>\n    <tr>\n      <th>3</th>\n      <td>0</td>\n      <td>71.239033</td>\n      <td>0.868426</td>\n      <td>7</td>\n      <td>405.704651</td>\n      <td>0</td>\n      <td>0</td>\n      <td>8</td>\n      <td>122.134039</td>\n      <td>3</td>\n      <td>...</td>\n      <td>1</td>\n      <td>19.951426</td>\n      <td>2</td>\n      <td>3</td>\n      <td>106.728728</td>\n      <td>1</td>\n      <td>41.453929</td>\n      <td>2033.348592</td>\n      <td>49.064759</td>\n      <td>1</td>\n    </tr>\n    <tr>\n      <th>4</th>\n      <td>1</td>\n      <td>135.631845</td>\n      <td>0.099530</td>\n      <td>1</td>\n      <td>459.078405</td>\n      <td>1</td>\n      <td>2</td>\n      <td>1</td>\n      <td>68.036007</td>\n      <td>2</td>\n      <td>...</td>\n      <td>1</td>\n      <td>3.930842</td>\n      <td>2</td>\n      <td>3</td>\n      <td>104.386260</td>\n      <td>1</td>\n      <td>114.267541</td>\n      <td>1443.451922</td>\n      <td>33.864787</td>\n      <td>0</td>\n    </tr>\n    <tr>\n      <th>...</th>\n      <td>...</td>\n      <td>...</td>\n      <td>...</td>\n      <td>...</td>\n      <td>...</td>\n      <td>...</td>\n      <td>...</td>\n      <td>...</td>\n      <td>...</td>\n      <td>...</td>\n      <td>...</td>\n      <td>...</td>\n      <td>...</td>\n      <td>...</td>\n      <td>...</td>\n      <td>...</td>\n      <td>...</td>\n      <td>...</td>\n      <td>...</td>\n      <td>...</td>\n      <td>...</td>\n    </tr>\n    <tr>\n      <th>4995</th>\n      <td>1</td>\n      <td>103.391164</td>\n      <td>0.054728</td>\n      <td>8</td>\n      <td>1549.333396</td>\n      <td>8</td>\n      <td>2</td>\n      <td>4</td>\n      <td>57.823025</td>\n      <td>0</td>\n      <td>...</td>\n      <td>2</td>\n      <td>133.075872</td>\n      <td>3</td>\n      <td>2</td>\n      <td>143.434557</td>\n      <td>0</td>\n      <td>71.445206</td>\n      <td>592.162594</td>\n      <td>5.230247</td>\n      <td>1</td>\n    </tr>\n    <tr>\n      <th>4996</th>\n      <td>1</td>\n      <td>72.703128</td>\n      <td>0.199328</td>\n      <td>0</td>\n      <td>166.798940</td>\n      <td>4</td>\n      <td>1</td>\n      <td>9</td>\n      <td>115.848432</td>\n      <td>1</td>\n      <td>...</td>\n      <td>0</td>\n      <td>50.989074</td>\n      <td>0</td>\n      <td>1</td>\n      <td>136.791721</td>\n      <td>0</td>\n      <td>57.440018</td>\n      <td>1242.776817</td>\n      <td>90.797848</td>\n      <td>1</td>\n    </tr>\n    <tr>\n      <th>4997</th>\n      <td>1</td>\n      <td>120.605469</td>\n      <td>0.963607</td>\n      <td>8</td>\n      <td>161.600108</td>\n      <td>3</td>\n      <td>0</td>\n      <td>9</td>\n      <td>131.278664</td>\n      <td>2</td>\n      <td>...</td>\n      <td>2</td>\n      <td>121.568081</td>\n      <td>3</td>\n      <td>0</td>\n      <td>148.934440</td>\n      <td>1</td>\n      <td>113.646151</td>\n      <td>997.605150</td>\n      <td>135.476835</td>\n      <td>0</td>\n    </tr>\n    <tr>\n      <th>4998</th>\n      <td>1</td>\n      <td>17.548733</td>\n      <td>0.803683</td>\n      <td>3</td>\n      <td>2281.155098</td>\n      <td>2</td>\n      <td>1</td>\n      <td>2</td>\n      <td>4.889897</td>\n      <td>2</td>\n      <td>...</td>\n      <td>2</td>\n      <td>77.657040</td>\n      <td>1</td>\n      <td>2</td>\n      <td>117.855228</td>\n      <td>1</td>\n      <td>149.226111</td>\n      <td>1144.391626</td>\n      <td>104.369759</td>\n      <td>1</td>\n    </tr>\n    <tr>\n      <th>4999</th>\n      <td>0</td>\n      <td>72.009046</td>\n      <td>0.453716</td>\n      <td>6</td>\n      <td>2152.821131</td>\n      <td>5</td>\n      <td>1</td>\n      <td>4</td>\n      <td>37.311423</td>\n      <td>0</td>\n      <td>...</td>\n      <td>2</td>\n      <td>45.214834</td>\n      <td>0</td>\n      <td>2</td>\n      <td>9.414502</td>\n      <td>1</td>\n      <td>61.355164</td>\n      <td>2385.167473</td>\n      <td>101.947694</td>\n      <td>1</td>\n    </tr>\n  </tbody>\n</table>\n<p>5000 rows × 382 columns</p>\n</div>"
     },
     "execution_count": 37,
     "metadata": {},
     "output_type": "execute_result"
    }
   ],
   "source": [
    "df\n"
   ],
   "metadata": {
    "collapsed": false,
    "pycharm": {
     "name": "#%%\n"
    }
   }
  },
  {
   "cell_type": "code",
   "execution_count": 20,
   "outputs": [],
   "source": [
    "# Make sure thyroid cancer column has been added"
   ],
   "metadata": {
    "collapsed": false,
    "pycharm": {
     "name": "#%%\n"
    }
   }
  },
  {
   "cell_type": "code",
   "execution_count": 21,
   "outputs": [],
   "source": [
    "# Make sure diseases descriptions are the column names rather than just phecodes"
   ],
   "metadata": {
    "collapsed": false,
    "pycharm": {
     "name": "#%%\n"
    }
   }
  },
  {
   "cell_type": "code",
   "execution_count": 22,
   "outputs": [],
   "source": [
    "# Manual feature selection - use mutual information and consider data leakage."
   ],
   "metadata": {
    "collapsed": false,
    "pycharm": {
     "name": "#%%\n"
    }
   }
  },
  {
   "cell_type": "markdown",
   "source": [
    "### Pipeline"
   ],
   "metadata": {
    "collapsed": false,
    "pycharm": {
     "name": "#%% md\n"
    }
   }
  },
  {
   "cell_type": "code",
   "execution_count": null,
   "outputs": [],
   "source": [
    "import"
   ],
   "metadata": {
    "collapsed": false,
    "pycharm": {
     "name": "#%%\n"
    }
   }
  },
  {
   "cell_type": "code",
   "execution_count": null,
   "outputs": [],
   "source": [
    "# Create test-train split\n"
   ],
   "metadata": {
    "collapsed": false,
    "pycharm": {
     "name": "#%%\n"
    }
   }
  },
  {
   "cell_type": "code",
   "execution_count": null,
   "outputs": [],
   "source": [],
   "metadata": {
    "collapsed": false,
    "pycharm": {
     "name": "#%%\n"
    }
   }
  },
  {
   "cell_type": "code",
   "execution_count": null,
   "outputs": [],
   "source": [],
   "metadata": {
    "collapsed": false,
    "pycharm": {
     "name": "#%%\n"
    }
   }
  },
  {
   "cell_type": "code",
   "execution_count": null,
   "outputs": [],
   "source": [],
   "metadata": {
    "collapsed": false,
    "pycharm": {
     "name": "#%%\n"
    }
   }
  },
  {
   "cell_type": "code",
   "execution_count": null,
   "outputs": [],
   "source": [],
   "metadata": {
    "collapsed": false,
    "pycharm": {
     "name": "#%%\n"
    }
   }
  },
  {
   "cell_type": "code",
   "execution_count": null,
   "outputs": [],
   "source": [],
   "metadata": {
    "collapsed": false,
    "pycharm": {
     "name": "#%%\n"
    }
   }
  },
  {
   "cell_type": "code",
   "execution_count": null,
   "outputs": [],
   "source": [],
   "metadata": {
    "collapsed": false,
    "pycharm": {
     "name": "#%%\n"
    }
   }
  },
  {
   "cell_type": "code",
   "execution_count": null,
   "outputs": [],
   "source": [],
   "metadata": {
    "collapsed": false,
    "pycharm": {
     "name": "#%%\n"
    }
   }
  },
  {
   "cell_type": "code",
   "execution_count": null,
   "outputs": [],
   "source": [],
   "metadata": {
    "collapsed": false,
    "pycharm": {
     "name": "#%%\n"
    }
   }
  },
  {
   "cell_type": "markdown",
   "source": [
    "Feature selection: MRMR or Recursive Feature Elimination (RFE) or Boruta"
   ],
   "metadata": {
    "collapsed": false,
    "pycharm": {
     "name": "#%% md\n"
    }
   }
  },
  {
   "cell_type": "markdown",
   "source": [
    "You could consider feature selection a hyperparameter. Consequently, you can include it as part of a cross validation grid search to obtain optimum hyperparameters for the model in question.\n",
    "\n",
    "https://medium.com/data-science-reporter/feature-selection-via-grid-search-in-supervised-models-4dc0c43d7ab1"
   ],
   "metadata": {
    "collapsed": false,
    "pycharm": {
     "name": "#%% md\n"
    }
   }
  },
  {
   "cell_type": "markdown",
   "source": [
    "Preproccessing:\n",
    "\n",
    "- Clean data\n",
    "- Add thyroid cancer\n",
    "- Colum names\n",
    "- Manual feature selection (data leakage - look at mutual information)\n",
    "\n",
    "\n",
    "Pipeline:\n",
    "\n",
    "Test-Train split\n",
    "\n",
    "1. Imputation\n",
    "2. Feature scaling (not always)\n",
    "3. Oversampling (not always)\n",
    "4. Model selection\n",
    "5. Cross validation grid search for hyperparameters and feature selection\n",
    "6. Build Model\n",
    "7."
   ],
   "metadata": {
    "collapsed": false,
    "pycharm": {
     "name": "#%% md\n"
    }
   }
  },
  {
   "cell_type": "code",
   "execution_count": null,
   "outputs": [],
   "source": [],
   "metadata": {
    "collapsed": false,
    "pycharm": {
     "name": "#%%\n"
    }
   }
  }
 ],
 "metadata": {
  "kernelspec": {
   "display_name": "Python 3",
   "language": "python",
   "name": "python3"
  },
  "language_info": {
   "codemirror_mode": {
    "name": "ipython",
    "version": 2
   },
   "file_extension": ".py",
   "mimetype": "text/x-python",
   "name": "python",
   "nbconvert_exporter": "python",
   "pygments_lexer": "ipython2",
   "version": "2.7.6"
  }
 },
 "nbformat": 4,
 "nbformat_minor": 0
}
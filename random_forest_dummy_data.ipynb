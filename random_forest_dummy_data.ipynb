{
 "cells": [
  {
   "cell_type": "markdown",
   "source": [
    "# Practice Random Forest Pipeline/Workflow"
   ],
   "metadata": {
    "collapsed": false,
    "pycharm": {
     "name": "#%% md\n"
    }
   }
  },
  {
   "cell_type": "code",
   "execution_count": 32,
   "outputs": [],
   "source": [
    "# Imports\n",
    "import pandas as pd\n",
    "import numpy as np\n",
    "import random\n",
    "import string"
   ],
   "metadata": {
    "collapsed": false,
    "pycharm": {
     "name": "#%%\n"
    }
   }
  },
  {
   "cell_type": "markdown",
   "source": [
    "### Create fake/dummy data"
   ],
   "metadata": {
    "collapsed": false,
    "pycharm": {
     "name": "#%% md\n"
    }
   }
  },
  {
   "cell_type": "code",
   "execution_count": 33,
   "outputs": [],
   "source": [
    "row_num = 5000"
   ],
   "metadata": {
    "collapsed": false,
    "pycharm": {
     "name": "#%%\n"
    }
   }
  },
  {
   "cell_type": "code",
   "execution_count": 34,
   "outputs": [],
   "source": [
    "# Create columns names for dataset\n",
    "columns = [''.join(random.choices(string.ascii_uppercase + string.digits, k=5)) for x in range(380)]"
   ],
   "metadata": {
    "collapsed": false,
    "pycharm": {
     "name": "#%%\n"
    }
   }
  },
  {
   "cell_type": "code",
   "execution_count": 35,
   "outputs": [],
   "source": [
    "# Add Thyroid cancer to columns\n",
    "columns.insert(0, 'userId')\n",
    "# Add userId to columns\n",
    "columns.append('thyroid_cancer')"
   ],
   "metadata": {
    "collapsed": false,
    "pycharm": {
     "name": "#%%\n"
    }
   }
  },
  {
   "cell_type": "code",
   "execution_count": 36,
   "outputs": [],
   "source": [
    "# Create dataframe rows with different possible data types\n",
    "\n",
    "dictionary = {}\n",
    "\n",
    "for item in columns:\n",
    "\n",
    "    column_options = [[random.randint(0,1) for i in range(row_num)], np.random.randint(0, 10, row_num, dtype=int), np.random.randint(0, 3, row_num, dtype=int),\n",
    "                      np.random.random_sample(size = row_num), np.random.uniform(low=0, high=3000, size=row_num), np.random.uniform(low=0, high=150, size=row_num)]\n",
    "\n",
    "    dictionary[item] = random.choice(column_options)\n"
   ],
   "metadata": {
    "collapsed": false,
    "pycharm": {
     "name": "#%%\n"
    }
   }
  },
  {
   "cell_type": "code",
   "execution_count": 37,
   "outputs": [],
   "source": [
    "# Create the pandas DataFrame\n",
    "df = pd.DataFrame(dictionary)"
   ],
   "metadata": {
    "collapsed": false,
    "pycharm": {
     "name": "#%%\n"
    }
   }
  },
  {
   "cell_type": "code",
   "execution_count": 38,
   "outputs": [],
   "source": [
    "# Change userId values\n",
    "df['userId'] = [x for x in range(row_num)]\n",
    "\n",
    "# Make userId index\n",
    "df.set_index('userId', inplace=True)"
   ],
   "metadata": {
    "collapsed": false,
    "pycharm": {
     "name": "#%%\n"
    }
   }
  },
  {
   "cell_type": "code",
   "execution_count": 39,
   "outputs": [],
   "source": [
    "# Add missing values\n",
    "for col in df.columns:\n",
    "    df.loc[df.sample(frac=0.1).index, col] = np.nan"
   ],
   "metadata": {
    "collapsed": false,
    "pycharm": {
     "name": "#%%\n"
    }
   }
  },
  {
   "cell_type": "code",
   "execution_count": 40,
   "outputs": [],
   "source": [
    "# Make thyroid cancer data binary with no missing values\n",
    "df['thyroid_cancer'] = [random.randint(0, 1) for x in range(row_num)]"
   ],
   "metadata": {
    "collapsed": false,
    "pycharm": {
     "name": "#%%\n"
    }
   }
  },
  {
   "cell_type": "markdown",
   "source": [
    "### Data preprocessing"
   ],
   "metadata": {
    "collapsed": false,
    "pycharm": {
     "name": "#%% md\n"
    }
   }
  },
  {
   "cell_type": "code",
   "execution_count": 41,
   "outputs": [
    {
     "data": {
      "text/plain": "             L2FXN       4O140  RMMCK        4OUKQ  NRU2J        CVQXU  \\\nuserId                                                                   \n0       100.819095   79.533635    1.0  1784.419620    NaN   286.229259   \n1       145.644217  144.144537    NaN   163.339933    1.0  1232.314158   \n2        92.604387  141.714990    2.0  1552.433984    1.0  2872.809990   \n3       118.852326   19.510764    2.0  1628.358886    0.0  2775.375487   \n4        37.878509  102.136994    1.0  2284.578166    0.0  2075.400456   \n...            ...         ...    ...          ...    ...          ...   \n4995    117.821933  130.870631    1.0  2276.016279    NaN  2189.537938   \n4996     91.440365  147.438777    2.0    31.774301    1.0  2038.503004   \n4997    147.570441         NaN    1.0   816.759530    0.0   532.684464   \n4998           NaN  148.145928    1.0   694.372469    1.0   378.328381   \n4999    124.267104  141.411137    2.0  1638.054779    1.0   696.786393   \n\n           0TZIL     8WOG4  HTK3E       9WCJ3  ...        QAF87        4KYCR  \\\nuserId                                         ...                             \n0            NaN  0.679042    0.0  147.537345  ...  1944.946285  2649.818012   \n1       0.557832  0.699832    0.0   23.497094  ...  1782.308724  1086.284260   \n2       0.726953  0.160975    2.0         NaN  ...  2361.472141          NaN   \n3            NaN  0.047124    0.0  137.028006  ...  2611.594475  2016.356672   \n4       0.687593  0.790735    2.0  139.286712  ...  2118.920623  2517.865771   \n...          ...       ...    ...         ...  ...          ...          ...   \n4995    0.702033  0.724397    0.0   46.847198  ...          NaN  1308.528287   \n4996    0.043304  0.075510    NaN   64.238290  ...  2617.416273  2351.554004   \n4997    0.093032       NaN    1.0   62.852716  ...   885.063202          NaN   \n4998    0.243781  0.946571    2.0   35.177676  ...   797.730384  2336.917546   \n4999    0.640818  0.288414    0.0    2.399610  ...          NaN   474.246646   \n\n             UEVHB        KMWUC       LTI7X       EP99Z       3FG4G  JEHL4  \\\nuserId                                                                       \n0        90.677019  1572.126339  148.395600  101.422691   91.073179    1.0   \n1        27.633470   517.495775   80.098345   68.667537   80.076787    3.0   \n2         3.002688  1033.492380   45.923227  128.162543    8.320745    2.0   \n3       127.757900  1707.261930   92.910295  121.077810         NaN    2.0   \n4        12.079427  2486.923315   83.652358   61.038050   91.896260    NaN   \n...            ...          ...         ...         ...         ...    ...   \n4995     14.784780  2919.125594   97.075243   11.535993   81.180923    7.0   \n4996    105.801503   169.232430         NaN  102.205482  125.912416    7.0   \n4997           NaN    13.897982   88.478633   97.582138   83.229296    NaN   \n4998     55.934323   639.722705   80.290018   27.470108   32.861017    7.0   \n4999           NaN  1408.892537    5.931997   35.936701   44.340820    0.0   \n\n        837BZ  thyroid_cancer  \nuserId                         \n0         2.0               1  \n1         2.0               0  \n2         1.0               0  \n3         2.0               0  \n4         0.0               0  \n...       ...             ...  \n4995      1.0               0  \n4996      1.0               1  \n4997      2.0               0  \n4998      2.0               1  \n4999      NaN               1  \n\n[5000 rows x 381 columns]",
      "text/html": "<div>\n<style scoped>\n    .dataframe tbody tr th:only-of-type {\n        vertical-align: middle;\n    }\n\n    .dataframe tbody tr th {\n        vertical-align: top;\n    }\n\n    .dataframe thead th {\n        text-align: right;\n    }\n</style>\n<table border=\"1\" class=\"dataframe\">\n  <thead>\n    <tr style=\"text-align: right;\">\n      <th></th>\n      <th>L2FXN</th>\n      <th>4O140</th>\n      <th>RMMCK</th>\n      <th>4OUKQ</th>\n      <th>NRU2J</th>\n      <th>CVQXU</th>\n      <th>0TZIL</th>\n      <th>8WOG4</th>\n      <th>HTK3E</th>\n      <th>9WCJ3</th>\n      <th>...</th>\n      <th>QAF87</th>\n      <th>4KYCR</th>\n      <th>UEVHB</th>\n      <th>KMWUC</th>\n      <th>LTI7X</th>\n      <th>EP99Z</th>\n      <th>3FG4G</th>\n      <th>JEHL4</th>\n      <th>837BZ</th>\n      <th>thyroid_cancer</th>\n    </tr>\n    <tr>\n      <th>userId</th>\n      <th></th>\n      <th></th>\n      <th></th>\n      <th></th>\n      <th></th>\n      <th></th>\n      <th></th>\n      <th></th>\n      <th></th>\n      <th></th>\n      <th></th>\n      <th></th>\n      <th></th>\n      <th></th>\n      <th></th>\n      <th></th>\n      <th></th>\n      <th></th>\n      <th></th>\n      <th></th>\n      <th></th>\n    </tr>\n  </thead>\n  <tbody>\n    <tr>\n      <th>0</th>\n      <td>100.819095</td>\n      <td>79.533635</td>\n      <td>1.0</td>\n      <td>1784.419620</td>\n      <td>NaN</td>\n      <td>286.229259</td>\n      <td>NaN</td>\n      <td>0.679042</td>\n      <td>0.0</td>\n      <td>147.537345</td>\n      <td>...</td>\n      <td>1944.946285</td>\n      <td>2649.818012</td>\n      <td>90.677019</td>\n      <td>1572.126339</td>\n      <td>148.395600</td>\n      <td>101.422691</td>\n      <td>91.073179</td>\n      <td>1.0</td>\n      <td>2.0</td>\n      <td>1</td>\n    </tr>\n    <tr>\n      <th>1</th>\n      <td>145.644217</td>\n      <td>144.144537</td>\n      <td>NaN</td>\n      <td>163.339933</td>\n      <td>1.0</td>\n      <td>1232.314158</td>\n      <td>0.557832</td>\n      <td>0.699832</td>\n      <td>0.0</td>\n      <td>23.497094</td>\n      <td>...</td>\n      <td>1782.308724</td>\n      <td>1086.284260</td>\n      <td>27.633470</td>\n      <td>517.495775</td>\n      <td>80.098345</td>\n      <td>68.667537</td>\n      <td>80.076787</td>\n      <td>3.0</td>\n      <td>2.0</td>\n      <td>0</td>\n    </tr>\n    <tr>\n      <th>2</th>\n      <td>92.604387</td>\n      <td>141.714990</td>\n      <td>2.0</td>\n      <td>1552.433984</td>\n      <td>1.0</td>\n      <td>2872.809990</td>\n      <td>0.726953</td>\n      <td>0.160975</td>\n      <td>2.0</td>\n      <td>NaN</td>\n      <td>...</td>\n      <td>2361.472141</td>\n      <td>NaN</td>\n      <td>3.002688</td>\n      <td>1033.492380</td>\n      <td>45.923227</td>\n      <td>128.162543</td>\n      <td>8.320745</td>\n      <td>2.0</td>\n      <td>1.0</td>\n      <td>0</td>\n    </tr>\n    <tr>\n      <th>3</th>\n      <td>118.852326</td>\n      <td>19.510764</td>\n      <td>2.0</td>\n      <td>1628.358886</td>\n      <td>0.0</td>\n      <td>2775.375487</td>\n      <td>NaN</td>\n      <td>0.047124</td>\n      <td>0.0</td>\n      <td>137.028006</td>\n      <td>...</td>\n      <td>2611.594475</td>\n      <td>2016.356672</td>\n      <td>127.757900</td>\n      <td>1707.261930</td>\n      <td>92.910295</td>\n      <td>121.077810</td>\n      <td>NaN</td>\n      <td>2.0</td>\n      <td>2.0</td>\n      <td>0</td>\n    </tr>\n    <tr>\n      <th>4</th>\n      <td>37.878509</td>\n      <td>102.136994</td>\n      <td>1.0</td>\n      <td>2284.578166</td>\n      <td>0.0</td>\n      <td>2075.400456</td>\n      <td>0.687593</td>\n      <td>0.790735</td>\n      <td>2.0</td>\n      <td>139.286712</td>\n      <td>...</td>\n      <td>2118.920623</td>\n      <td>2517.865771</td>\n      <td>12.079427</td>\n      <td>2486.923315</td>\n      <td>83.652358</td>\n      <td>61.038050</td>\n      <td>91.896260</td>\n      <td>NaN</td>\n      <td>0.0</td>\n      <td>0</td>\n    </tr>\n    <tr>\n      <th>...</th>\n      <td>...</td>\n      <td>...</td>\n      <td>...</td>\n      <td>...</td>\n      <td>...</td>\n      <td>...</td>\n      <td>...</td>\n      <td>...</td>\n      <td>...</td>\n      <td>...</td>\n      <td>...</td>\n      <td>...</td>\n      <td>...</td>\n      <td>...</td>\n      <td>...</td>\n      <td>...</td>\n      <td>...</td>\n      <td>...</td>\n      <td>...</td>\n      <td>...</td>\n      <td>...</td>\n    </tr>\n    <tr>\n      <th>4995</th>\n      <td>117.821933</td>\n      <td>130.870631</td>\n      <td>1.0</td>\n      <td>2276.016279</td>\n      <td>NaN</td>\n      <td>2189.537938</td>\n      <td>0.702033</td>\n      <td>0.724397</td>\n      <td>0.0</td>\n      <td>46.847198</td>\n      <td>...</td>\n      <td>NaN</td>\n      <td>1308.528287</td>\n      <td>14.784780</td>\n      <td>2919.125594</td>\n      <td>97.075243</td>\n      <td>11.535993</td>\n      <td>81.180923</td>\n      <td>7.0</td>\n      <td>1.0</td>\n      <td>0</td>\n    </tr>\n    <tr>\n      <th>4996</th>\n      <td>91.440365</td>\n      <td>147.438777</td>\n      <td>2.0</td>\n      <td>31.774301</td>\n      <td>1.0</td>\n      <td>2038.503004</td>\n      <td>0.043304</td>\n      <td>0.075510</td>\n      <td>NaN</td>\n      <td>64.238290</td>\n      <td>...</td>\n      <td>2617.416273</td>\n      <td>2351.554004</td>\n      <td>105.801503</td>\n      <td>169.232430</td>\n      <td>NaN</td>\n      <td>102.205482</td>\n      <td>125.912416</td>\n      <td>7.0</td>\n      <td>1.0</td>\n      <td>1</td>\n    </tr>\n    <tr>\n      <th>4997</th>\n      <td>147.570441</td>\n      <td>NaN</td>\n      <td>1.0</td>\n      <td>816.759530</td>\n      <td>0.0</td>\n      <td>532.684464</td>\n      <td>0.093032</td>\n      <td>NaN</td>\n      <td>1.0</td>\n      <td>62.852716</td>\n      <td>...</td>\n      <td>885.063202</td>\n      <td>NaN</td>\n      <td>NaN</td>\n      <td>13.897982</td>\n      <td>88.478633</td>\n      <td>97.582138</td>\n      <td>83.229296</td>\n      <td>NaN</td>\n      <td>2.0</td>\n      <td>0</td>\n    </tr>\n    <tr>\n      <th>4998</th>\n      <td>NaN</td>\n      <td>148.145928</td>\n      <td>1.0</td>\n      <td>694.372469</td>\n      <td>1.0</td>\n      <td>378.328381</td>\n      <td>0.243781</td>\n      <td>0.946571</td>\n      <td>2.0</td>\n      <td>35.177676</td>\n      <td>...</td>\n      <td>797.730384</td>\n      <td>2336.917546</td>\n      <td>55.934323</td>\n      <td>639.722705</td>\n      <td>80.290018</td>\n      <td>27.470108</td>\n      <td>32.861017</td>\n      <td>7.0</td>\n      <td>2.0</td>\n      <td>1</td>\n    </tr>\n    <tr>\n      <th>4999</th>\n      <td>124.267104</td>\n      <td>141.411137</td>\n      <td>2.0</td>\n      <td>1638.054779</td>\n      <td>1.0</td>\n      <td>696.786393</td>\n      <td>0.640818</td>\n      <td>0.288414</td>\n      <td>0.0</td>\n      <td>2.399610</td>\n      <td>...</td>\n      <td>NaN</td>\n      <td>474.246646</td>\n      <td>NaN</td>\n      <td>1408.892537</td>\n      <td>5.931997</td>\n      <td>35.936701</td>\n      <td>44.340820</td>\n      <td>0.0</td>\n      <td>NaN</td>\n      <td>1</td>\n    </tr>\n  </tbody>\n</table>\n<p>5000 rows × 381 columns</p>\n</div>"
     },
     "execution_count": 41,
     "metadata": {},
     "output_type": "execute_result"
    }
   ],
   "source": [
    "df\n"
   ],
   "metadata": {
    "collapsed": false,
    "pycharm": {
     "name": "#%%\n"
    }
   }
  },
  {
   "cell_type": "code",
   "execution_count": 42,
   "outputs": [],
   "source": [
    "# Make sure thyroid cancer column has been added"
   ],
   "metadata": {
    "collapsed": false,
    "pycharm": {
     "name": "#%%\n"
    }
   }
  },
  {
   "cell_type": "code",
   "execution_count": 43,
   "outputs": [],
   "source": [
    "# Make sure diseases descriptions are the column names rather than just phecodes"
   ],
   "metadata": {
    "collapsed": false,
    "pycharm": {
     "name": "#%%\n"
    }
   }
  },
  {
   "cell_type": "code",
   "execution_count": 44,
   "outputs": [],
   "source": [
    "# Manual feature selection - use mutual information and consider data leakage."
   ],
   "metadata": {
    "collapsed": false,
    "pycharm": {
     "name": "#%%\n"
    }
   }
  },
  {
   "cell_type": "markdown",
   "source": [
    "### Pipeline"
   ],
   "metadata": {
    "collapsed": false,
    "pycharm": {
     "name": "#%% md\n"
    }
   }
  },
  {
   "cell_type": "code",
   "execution_count": 45,
   "outputs": [],
   "source": [
    "# Create test-train split\n"
   ],
   "metadata": {
    "collapsed": false,
    "pycharm": {
     "name": "#%%\n"
    }
   }
  },
  {
   "cell_type": "markdown",
   "source": [
    "# Imputation"
   ],
   "metadata": {
    "collapsed": false,
    "pycharm": {
     "name": "#%% md\n"
    }
   }
  },
  {
   "cell_type": "code",
   "execution_count": null,
   "outputs": [],
   "source": [],
   "metadata": {
    "collapsed": false,
    "pycharm": {
     "name": "#%%\n"
    }
   }
  },
  {
   "cell_type": "code",
   "execution_count": null,
   "outputs": [],
   "source": [],
   "metadata": {
    "collapsed": false,
    "pycharm": {
     "name": "#%%\n"
    }
   }
  },
  {
   "cell_type": "code",
   "execution_count": null,
   "outputs": [],
   "source": [],
   "metadata": {
    "collapsed": false,
    "pycharm": {
     "name": "#%%\n"
    }
   }
  },
  {
   "cell_type": "code",
   "execution_count": null,
   "outputs": [],
   "source": [],
   "metadata": {
    "collapsed": false,
    "pycharm": {
     "name": "#%%\n"
    }
   }
  },
  {
   "cell_type": "code",
   "execution_count": null,
   "outputs": [],
   "source": [],
   "metadata": {
    "collapsed": false,
    "pycharm": {
     "name": "#%%\n"
    }
   }
  },
  {
   "cell_type": "code",
   "execution_count": null,
   "outputs": [],
   "source": [],
   "metadata": {
    "collapsed": false,
    "pycharm": {
     "name": "#%%\n"
    }
   }
  },
  {
   "cell_type": "markdown",
   "source": [
    "# One Hot Encoding"
   ],
   "metadata": {
    "collapsed": false,
    "pycharm": {
     "name": "#%% md\n"
    }
   }
  },
  {
   "cell_type": "code",
   "execution_count": 46,
   "outputs": [],
   "source": [
    "# Find categorical data columns in dataframe\n",
    "def find_categorical_columns(dataframe):\n",
    "\n",
    "    columns = [list(dataframe[i]) for i in dataframe]\n",
    "\n",
    "    uniques = [len(set([i for i in a if pd.notna(i)])) for a in columns]\n",
    "\n",
    "    categorical_indexes = [i for i, c in enumerate(uniques) if c <= 10]\n",
    "\n",
    "    unique_cat_num = [uniques[i] for i in categorical_indexes]\n",
    "\n",
    "    index_ncats = list(zip(categorical_indexes, unique_cat_num))\n",
    "\n",
    "    return index_ncats # return indexes of categorical data and the number of categories for that index\n",
    "\n",
    "# Remove binary columns from categorical column list\n",
    "def remove_binary(zipped_list):\n",
    "\n",
    "    new_list = [list(item) for item in zipped_list if item[1] != 2]\n",
    "\n",
    "    return new_list # Index first, cat num second\n"
   ],
   "metadata": {
    "collapsed": false,
    "pycharm": {
     "name": "#%%\n"
    }
   }
  },
  {
   "cell_type": "code",
   "execution_count": 47,
   "outputs": [],
   "source": [
    "# Find categorical columns\n",
    "zl = find_categorical_columns(df)\n",
    "# Remove binary categorical columns\n",
    "cats = remove_binary(zl)\n",
    "# List of categorical column indexes\n",
    "one_hot_col_indexes = [i[0] for i in cats]\n",
    "# List of column names\n",
    "cat_cols = [df.columns[x] for x in one_hot_col_indexes]"
   ],
   "metadata": {
    "collapsed": false,
    "pycharm": {
     "name": "#%%\n"
    }
   }
  },
  {
   "cell_type": "code",
   "execution_count": null,
   "outputs": [],
   "source": [
    "from sklearn.preprocessing import OneHotEncoder\n",
    "\n",
    "# create instance of one hot encoder\n",
    "enc = OneHotEncoder()"
   ],
   "metadata": {
    "collapsed": false,
    "pycharm": {
     "name": "#%%\n"
    }
   }
  },
  {
   "cell_type": "code",
   "execution_count": 55,
   "outputs": [],
   "source": [
    "# New column names\n",
    "enc_feat = enc.get_feature_names_out(cat_cols)"
   ],
   "metadata": {
    "collapsed": false,
    "pycharm": {
     "name": "#%%\n"
    }
   }
  },
  {
   "cell_type": "code",
   "execution_count": 56,
   "outputs": [
    {
     "data": {
      "text/plain": "array(['RMMCK_0.0', 'RMMCK_1.0', 'RMMCK_2.0', ..., '837BZ_1.0',\n       '837BZ_2.0', '837BZ_nan'], dtype=object)"
     },
     "execution_count": 56,
     "metadata": {},
     "output_type": "execute_result"
    }
   ],
   "source": [
    "enc_feat"
   ],
   "metadata": {
    "collapsed": false,
    "pycharm": {
     "name": "#%%\n"
    }
   }
  },
  {
   "cell_type": "code",
   "execution_count": 62,
   "outputs": [],
   "source": [
    "# One hot encode the data\n",
    "enc_data = pd.DataFrame(enc.fit_transform(df[cat_cols]).toarray(), columns=list(enc_feat))"
   ],
   "metadata": {
    "collapsed": false,
    "pycharm": {
     "name": "#%%\n"
    }
   }
  },
  {
   "cell_type": "code",
   "execution_count": 63,
   "outputs": [
    {
     "data": {
      "text/plain": "      RMMCK_0.0  RMMCK_1.0  RMMCK_2.0  RMMCK_nan  HTK3E_0.0  HTK3E_1.0  \\\n0           0.0        1.0        0.0        0.0        1.0        0.0   \n1           0.0        0.0        0.0        1.0        1.0        0.0   \n2           0.0        0.0        1.0        0.0        0.0        0.0   \n3           0.0        0.0        1.0        0.0        1.0        0.0   \n4           0.0        1.0        0.0        0.0        0.0        0.0   \n...         ...        ...        ...        ...        ...        ...   \n4995        0.0        1.0        0.0        0.0        1.0        0.0   \n4996        0.0        0.0        1.0        0.0        0.0        0.0   \n4997        0.0        1.0        0.0        0.0        0.0        1.0   \n4998        0.0        1.0        0.0        0.0        0.0        0.0   \n4999        0.0        0.0        1.0        0.0        1.0        0.0   \n\n      HTK3E_2.0  HTK3E_nan  S2X9H_0.0  S2X9H_1.0  ...  JEHL4_5.0  JEHL4_6.0  \\\n0           0.0        0.0        0.0        0.0  ...        0.0        0.0   \n1           0.0        0.0        0.0        0.0  ...        0.0        0.0   \n2           1.0        0.0        0.0        0.0  ...        0.0        0.0   \n3           0.0        0.0        0.0        0.0  ...        0.0        0.0   \n4           1.0        0.0        1.0        0.0  ...        0.0        0.0   \n...         ...        ...        ...        ...  ...        ...        ...   \n4995        0.0        0.0        0.0        0.0  ...        0.0        0.0   \n4996        0.0        1.0        0.0        0.0  ...        0.0        0.0   \n4997        0.0        0.0        1.0        0.0  ...        0.0        0.0   \n4998        1.0        0.0        0.0        1.0  ...        0.0        0.0   \n4999        0.0        0.0        1.0        0.0  ...        0.0        0.0   \n\n      JEHL4_7.0  JEHL4_8.0  JEHL4_9.0  JEHL4_nan  837BZ_0.0  837BZ_1.0  \\\n0           0.0        0.0        0.0        0.0        0.0        0.0   \n1           0.0        0.0        0.0        0.0        0.0        0.0   \n2           0.0        0.0        0.0        0.0        0.0        1.0   \n3           0.0        0.0        0.0        0.0        0.0        0.0   \n4           0.0        0.0        0.0        1.0        1.0        0.0   \n...         ...        ...        ...        ...        ...        ...   \n4995        1.0        0.0        0.0        0.0        0.0        1.0   \n4996        1.0        0.0        0.0        0.0        0.0        1.0   \n4997        0.0        0.0        0.0        1.0        0.0        0.0   \n4998        1.0        0.0        0.0        0.0        0.0        0.0   \n4999        0.0        0.0        0.0        0.0        0.0        0.0   \n\n      837BZ_2.0  837BZ_nan  \n0           1.0        0.0  \n1           1.0        0.0  \n2           0.0        0.0  \n3           1.0        0.0  \n4           0.0        0.0  \n...         ...        ...  \n4995        0.0        0.0  \n4996        0.0        0.0  \n4997        1.0        0.0  \n4998        1.0        0.0  \n4999        0.0        1.0  \n\n[5000 rows x 1038 columns]",
      "text/html": "<div>\n<style scoped>\n    .dataframe tbody tr th:only-of-type {\n        vertical-align: middle;\n    }\n\n    .dataframe tbody tr th {\n        vertical-align: top;\n    }\n\n    .dataframe thead th {\n        text-align: right;\n    }\n</style>\n<table border=\"1\" class=\"dataframe\">\n  <thead>\n    <tr style=\"text-align: right;\">\n      <th></th>\n      <th>RMMCK_0.0</th>\n      <th>RMMCK_1.0</th>\n      <th>RMMCK_2.0</th>\n      <th>RMMCK_nan</th>\n      <th>HTK3E_0.0</th>\n      <th>HTK3E_1.0</th>\n      <th>HTK3E_2.0</th>\n      <th>HTK3E_nan</th>\n      <th>S2X9H_0.0</th>\n      <th>S2X9H_1.0</th>\n      <th>...</th>\n      <th>JEHL4_5.0</th>\n      <th>JEHL4_6.0</th>\n      <th>JEHL4_7.0</th>\n      <th>JEHL4_8.0</th>\n      <th>JEHL4_9.0</th>\n      <th>JEHL4_nan</th>\n      <th>837BZ_0.0</th>\n      <th>837BZ_1.0</th>\n      <th>837BZ_2.0</th>\n      <th>837BZ_nan</th>\n    </tr>\n  </thead>\n  <tbody>\n    <tr>\n      <th>0</th>\n      <td>0.0</td>\n      <td>1.0</td>\n      <td>0.0</td>\n      <td>0.0</td>\n      <td>1.0</td>\n      <td>0.0</td>\n      <td>0.0</td>\n      <td>0.0</td>\n      <td>0.0</td>\n      <td>0.0</td>\n      <td>...</td>\n      <td>0.0</td>\n      <td>0.0</td>\n      <td>0.0</td>\n      <td>0.0</td>\n      <td>0.0</td>\n      <td>0.0</td>\n      <td>0.0</td>\n      <td>0.0</td>\n      <td>1.0</td>\n      <td>0.0</td>\n    </tr>\n    <tr>\n      <th>1</th>\n      <td>0.0</td>\n      <td>0.0</td>\n      <td>0.0</td>\n      <td>1.0</td>\n      <td>1.0</td>\n      <td>0.0</td>\n      <td>0.0</td>\n      <td>0.0</td>\n      <td>0.0</td>\n      <td>0.0</td>\n      <td>...</td>\n      <td>0.0</td>\n      <td>0.0</td>\n      <td>0.0</td>\n      <td>0.0</td>\n      <td>0.0</td>\n      <td>0.0</td>\n      <td>0.0</td>\n      <td>0.0</td>\n      <td>1.0</td>\n      <td>0.0</td>\n    </tr>\n    <tr>\n      <th>2</th>\n      <td>0.0</td>\n      <td>0.0</td>\n      <td>1.0</td>\n      <td>0.0</td>\n      <td>0.0</td>\n      <td>0.0</td>\n      <td>1.0</td>\n      <td>0.0</td>\n      <td>0.0</td>\n      <td>0.0</td>\n      <td>...</td>\n      <td>0.0</td>\n      <td>0.0</td>\n      <td>0.0</td>\n      <td>0.0</td>\n      <td>0.0</td>\n      <td>0.0</td>\n      <td>0.0</td>\n      <td>1.0</td>\n      <td>0.0</td>\n      <td>0.0</td>\n    </tr>\n    <tr>\n      <th>3</th>\n      <td>0.0</td>\n      <td>0.0</td>\n      <td>1.0</td>\n      <td>0.0</td>\n      <td>1.0</td>\n      <td>0.0</td>\n      <td>0.0</td>\n      <td>0.0</td>\n      <td>0.0</td>\n      <td>0.0</td>\n      <td>...</td>\n      <td>0.0</td>\n      <td>0.0</td>\n      <td>0.0</td>\n      <td>0.0</td>\n      <td>0.0</td>\n      <td>0.0</td>\n      <td>0.0</td>\n      <td>0.0</td>\n      <td>1.0</td>\n      <td>0.0</td>\n    </tr>\n    <tr>\n      <th>4</th>\n      <td>0.0</td>\n      <td>1.0</td>\n      <td>0.0</td>\n      <td>0.0</td>\n      <td>0.0</td>\n      <td>0.0</td>\n      <td>1.0</td>\n      <td>0.0</td>\n      <td>1.0</td>\n      <td>0.0</td>\n      <td>...</td>\n      <td>0.0</td>\n      <td>0.0</td>\n      <td>0.0</td>\n      <td>0.0</td>\n      <td>0.0</td>\n      <td>1.0</td>\n      <td>1.0</td>\n      <td>0.0</td>\n      <td>0.0</td>\n      <td>0.0</td>\n    </tr>\n    <tr>\n      <th>...</th>\n      <td>...</td>\n      <td>...</td>\n      <td>...</td>\n      <td>...</td>\n      <td>...</td>\n      <td>...</td>\n      <td>...</td>\n      <td>...</td>\n      <td>...</td>\n      <td>...</td>\n      <td>...</td>\n      <td>...</td>\n      <td>...</td>\n      <td>...</td>\n      <td>...</td>\n      <td>...</td>\n      <td>...</td>\n      <td>...</td>\n      <td>...</td>\n      <td>...</td>\n      <td>...</td>\n    </tr>\n    <tr>\n      <th>4995</th>\n      <td>0.0</td>\n      <td>1.0</td>\n      <td>0.0</td>\n      <td>0.0</td>\n      <td>1.0</td>\n      <td>0.0</td>\n      <td>0.0</td>\n      <td>0.0</td>\n      <td>0.0</td>\n      <td>0.0</td>\n      <td>...</td>\n      <td>0.0</td>\n      <td>0.0</td>\n      <td>1.0</td>\n      <td>0.0</td>\n      <td>0.0</td>\n      <td>0.0</td>\n      <td>0.0</td>\n      <td>1.0</td>\n      <td>0.0</td>\n      <td>0.0</td>\n    </tr>\n    <tr>\n      <th>4996</th>\n      <td>0.0</td>\n      <td>0.0</td>\n      <td>1.0</td>\n      <td>0.0</td>\n      <td>0.0</td>\n      <td>0.0</td>\n      <td>0.0</td>\n      <td>1.0</td>\n      <td>0.0</td>\n      <td>0.0</td>\n      <td>...</td>\n      <td>0.0</td>\n      <td>0.0</td>\n      <td>1.0</td>\n      <td>0.0</td>\n      <td>0.0</td>\n      <td>0.0</td>\n      <td>0.0</td>\n      <td>1.0</td>\n      <td>0.0</td>\n      <td>0.0</td>\n    </tr>\n    <tr>\n      <th>4997</th>\n      <td>0.0</td>\n      <td>1.0</td>\n      <td>0.0</td>\n      <td>0.0</td>\n      <td>0.0</td>\n      <td>1.0</td>\n      <td>0.0</td>\n      <td>0.0</td>\n      <td>1.0</td>\n      <td>0.0</td>\n      <td>...</td>\n      <td>0.0</td>\n      <td>0.0</td>\n      <td>0.0</td>\n      <td>0.0</td>\n      <td>0.0</td>\n      <td>1.0</td>\n      <td>0.0</td>\n      <td>0.0</td>\n      <td>1.0</td>\n      <td>0.0</td>\n    </tr>\n    <tr>\n      <th>4998</th>\n      <td>0.0</td>\n      <td>1.0</td>\n      <td>0.0</td>\n      <td>0.0</td>\n      <td>0.0</td>\n      <td>0.0</td>\n      <td>1.0</td>\n      <td>0.0</td>\n      <td>0.0</td>\n      <td>1.0</td>\n      <td>...</td>\n      <td>0.0</td>\n      <td>0.0</td>\n      <td>1.0</td>\n      <td>0.0</td>\n      <td>0.0</td>\n      <td>0.0</td>\n      <td>0.0</td>\n      <td>0.0</td>\n      <td>1.0</td>\n      <td>0.0</td>\n    </tr>\n    <tr>\n      <th>4999</th>\n      <td>0.0</td>\n      <td>0.0</td>\n      <td>1.0</td>\n      <td>0.0</td>\n      <td>1.0</td>\n      <td>0.0</td>\n      <td>0.0</td>\n      <td>0.0</td>\n      <td>1.0</td>\n      <td>0.0</td>\n      <td>...</td>\n      <td>0.0</td>\n      <td>0.0</td>\n      <td>0.0</td>\n      <td>0.0</td>\n      <td>0.0</td>\n      <td>0.0</td>\n      <td>0.0</td>\n      <td>0.0</td>\n      <td>0.0</td>\n      <td>1.0</td>\n    </tr>\n  </tbody>\n</table>\n<p>5000 rows × 1038 columns</p>\n</div>"
     },
     "execution_count": 63,
     "metadata": {},
     "output_type": "execute_result"
    }
   ],
   "source": [
    "enc_data"
   ],
   "metadata": {
    "collapsed": false,
    "pycharm": {
     "name": "#%%\n"
    }
   }
  },
  {
   "cell_type": "code",
   "execution_count": null,
   "outputs": [],
   "source": [],
   "metadata": {
    "collapsed": false,
    "pycharm": {
     "name": "#%%\n"
    }
   }
  },
  {
   "cell_type": "code",
   "execution_count": null,
   "outputs": [],
   "source": [],
   "metadata": {
    "collapsed": false,
    "pycharm": {
     "name": "#%%\n"
    }
   }
  },
  {
   "cell_type": "code",
   "execution_count": null,
   "outputs": [],
   "source": [],
   "metadata": {
    "collapsed": false,
    "pycharm": {
     "name": "#%%\n"
    }
   }
  },
  {
   "cell_type": "code",
   "execution_count": null,
   "outputs": [],
   "source": [],
   "metadata": {
    "collapsed": false,
    "pycharm": {
     "name": "#%%\n"
    }
   }
  },
  {
   "cell_type": "markdown",
   "source": [
    "Feature selection: MRMR or Recursive Feature Elimination (RFE) or Boruta"
   ],
   "metadata": {
    "collapsed": false,
    "pycharm": {
     "name": "#%% md\n"
    }
   }
  },
  {
   "cell_type": "markdown",
   "source": [
    "You could consider feature selection a hyperparameter. Consequently, you can include it as part of a cross validation grid search to obtain optimum hyperparameters for the model in question.\n",
    "\n",
    "https://medium.com/data-science-reporter/feature-selection-via-grid-search-in-supervised-models-4dc0c43d7ab1"
   ],
   "metadata": {
    "collapsed": false,
    "pycharm": {
     "name": "#%% md\n"
    }
   }
  },
  {
   "cell_type": "markdown",
   "source": [
    "Preproccessing:\n",
    "\n",
    "- Clean data\n",
    "- Add thyroid cancer\n",
    "- Colum names\n",
    "- Manual feature selection (data leakage - look at mutual information)\n",
    "\n",
    "\n",
    "Pipeline:\n",
    "\n",
    "Test-Train split\n",
    "\n",
    "1. Imputation\n",
    "2. One-hot encoding\n",
    "3. Feature scaling (not always)\n",
    "4. Oversampling (not always)\n",
    "5. Model selection\n",
    "6. Cross validation grid search for hyperparameters and feature selection\n",
    "7. Build Model\n",
    "8."
   ],
   "metadata": {
    "collapsed": false,
    "pycharm": {
     "name": "#%% md\n"
    }
   }
  },
  {
   "cell_type": "code",
   "execution_count": null,
   "outputs": [],
   "source": [],
   "metadata": {
    "collapsed": false,
    "pycharm": {
     "name": "#%%\n"
    }
   }
  }
 ],
 "metadata": {
  "kernelspec": {
   "display_name": "Python 3",
   "language": "python",
   "name": "python3"
  },
  "language_info": {
   "codemirror_mode": {
    "name": "ipython",
    "version": 2
   },
   "file_extension": ".py",
   "mimetype": "text/x-python",
   "name": "python",
   "nbconvert_exporter": "python",
   "pygments_lexer": "ipython2",
   "version": "2.7.6"
  }
 },
 "nbformat": 4,
 "nbformat_minor": 0
}